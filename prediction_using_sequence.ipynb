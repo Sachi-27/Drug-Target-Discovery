{
  "nbformat": 4,
  "nbformat_minor": 0,
  "metadata": {
    "colab": {
      "provenance": [],
      "gpuType": "T4"
    },
    "kernelspec": {
      "name": "python3",
      "display_name": "Python 3"
    },
    "language_info": {
      "name": "python"
    },
    "accelerator": "GPU"
  },
  "cells": [
    {
      "cell_type": "code",
      "source": [
        "### Amino acids"
      ],
      "metadata": {
        "id": "MEd52AJl0tJ-"
      },
      "execution_count": null,
      "outputs": []
    },
    {
      "cell_type": "code",
      "source": [
        "# Mount google drive at /content/drive\n",
        "from google.colab import drive\n",
        "drive.mount('/content/drive')"
      ],
      "metadata": {
        "id": "ZY2qN_14msod",
        "colab": {
          "base_uri": "https://localhost:8080/"
        },
        "outputId": "c2120ab5-f5ee-468a-b195-bbb814e9969d"
      },
      "execution_count": 1,
      "outputs": [
        {
          "output_type": "stream",
          "name": "stdout",
          "text": [
            "Mounted at /content/drive\n"
          ]
        }
      ]
    },
    {
      "cell_type": "code",
      "source": [
        "import json\n",
        "\n",
        "data_file_path = \"/content/drive/MyDrive/protein_props/protein_props.json\"\n",
        "druggable_proteins_file_path = \"/content/drive/MyDrive/protein_props/druggable_proteins.txt\"\n",
        "approved_druggable_proteins_file_path = \"/content/drive/MyDrive/protein_props/approved_druggable_proteins.txt\"\n",
        "\n",
        "with open(data_file_path, 'r') as f:\n",
        "    protein_data = json.load(f)\n",
        "\n",
        "print(\"Total number of uniprot human verified proteins:\", len(protein_data))\n"
      ],
      "metadata": {
        "colab": {
          "base_uri": "https://localhost:8080/"
        },
        "id": "vZvAM5sQmyWq",
        "outputId": "26a5be02-b792-4351-9ffe-42af133aa10b"
      },
      "execution_count": 2,
      "outputs": [
        {
          "output_type": "stream",
          "name": "stdout",
          "text": [
            "Total number of uniprot human verified proteins: 20434\n"
          ]
        }
      ]
    },
    {
      "cell_type": "code",
      "source": [
        "with open(druggable_proteins_file_path, 'r') as f:\n",
        "    druggable_proteins = f.read().splitlines()\n",
        "\n",
        "with open(approved_druggable_proteins_file_path, 'r') as f:\n",
        "    approved_druggable_proteins = f.read().splitlines()\n",
        "\n",
        "print(\"Number of druggable proteins:\", len(druggable_proteins))\n",
        "print(\"Number of approved druggable proteins:\", len(approved_druggable_proteins))"
      ],
      "metadata": {
        "colab": {
          "base_uri": "https://localhost:8080/"
        },
        "id": "Up_91xbyocBo",
        "outputId": "fd7f18c8-16e3-4940-ce33-803316bfd3ac"
      },
      "execution_count": 3,
      "outputs": [
        {
          "output_type": "stream",
          "name": "stdout",
          "text": [
            "Number of druggable proteins: 3345\n",
            "Number of approved druggable proteins: 2652\n"
          ]
        }
      ]
    },
    {
      "cell_type": "code",
      "source": [
        "max_seq_length = -1\n",
        "min_seq_length = 1e10\n",
        "\n",
        "for protein in protein_data:\n",
        "  seq_length = len(protein_data[protein]['Sequence'])\n",
        "  max_seq_length = max(max_seq_length, seq_length)\n",
        "  min_seq_length = min(min_seq_length, seq_length)\n",
        "\n",
        "print(\"Maximum Sequence Length:\", max_seq_length)\n",
        "print(\"Minimum Sequence Length:\", min_seq_length)"
      ],
      "metadata": {
        "colab": {
          "base_uri": "https://localhost:8080/"
        },
        "id": "NTTliPiUnIZx",
        "outputId": "1b54a9ff-ba87-4ec9-923a-d6fcfe4f23e4"
      },
      "execution_count": 4,
      "outputs": [
        {
          "output_type": "stream",
          "name": "stdout",
          "text": [
            "Maximum Sequence Length: 34350\n",
            "Minimum Sequence Length: 2\n"
          ]
        }
      ]
    },
    {
      "cell_type": "code",
      "source": [
        "# Distribution of sequence lengths, plot a histogram\n",
        "\n",
        "import matplotlib.pyplot as plt\n",
        "\n",
        "plt.hist([len(protein_data[protein]['Sequence']) for protein in protein_data], bins=200)\n",
        "plt.show()"
      ],
      "metadata": {
        "colab": {
          "base_uri": "https://localhost:8080/",
          "height": 430
        },
        "id": "biXf6Vv9nZ-L",
        "outputId": "cb540bdd-f9dd-483c-dc76-f1058caa0c74"
      },
      "execution_count": 5,
      "outputs": [
        {
          "output_type": "display_data",
          "data": {
            "text/plain": [
              "<Figure size 640x480 with 1 Axes>"
            ],
            "image/png": "[encoded data removed]"
          },
          "metadata": {}
        }
      ]
    },
    {
      "cell_type": "code",
      "source": [
        "def find_num_proteins_between(MIN_LENGTH, MAX_LENGTH):\n",
        "  druggable_protein_count = 0\n",
        "  non_druggable_protein_count = 0\n",
        "  for protein in protein_data:\n",
        "    if MIN_LENGTH <= len(protein_data[protein]['Sequence']) <= MAX_LENGTH:\n",
        "      if protein in druggable_proteins:\n",
        "        druggable_protein_count += 1\n",
        "      else:\n",
        "        non_druggable_protein_count += 1\n",
        "  print(\"Number of proteins between\", MIN_LENGTH, \"and\", MAX_LENGTH, \":\", druggable_protein_count + non_druggable_protein_count)\n",
        "  print(\"Number of druggable proteins between\", MIN_LENGTH, \"and\", MAX_LENGTH, \":\", druggable_protein_count)\n",
        "  print(\"Number of non-druggable proteins between\", MIN_LENGTH, \"and\", MAX_LENGTH, \":\", non_druggable_protein_count)"
      ],
      "metadata": {
        "id": "1aGsVvdMoADv"
      },
      "execution_count": 6,
      "outputs": []
    },
    {
      "cell_type": "code",
      "source": [
        "find_num_proteins_between(min_seq_length, 3000)"
      ],
      "metadata": {
        "colab": {
          "base_uri": "https://localhost:8080/"
        },
        "id": "KfJgsmbbpSro",
        "outputId": "3a7f447c-5886-4328-e9aa-9f96a11f93c0"
      },
      "execution_count": 7,
      "outputs": [
        {
          "output_type": "stream",
          "name": "stdout",
          "text": [
            "Number of proteins between 2 and 3000 : 20273\n",
            "Number of druggable proteins between 2 and 3000 : 3324\n",
            "Number of non-druggable proteins between 2 and 3000 : 16949\n"
          ]
        }
      ]
    },
    {
      "cell_type": "code",
      "source": [
        "find_num_proteins_between(min_seq_length, max_seq_length)"
      ],
      "metadata": {
        "colab": {
          "base_uri": "https://localhost:8080/"
        },
        "id": "RGYjh32-pcof",
        "outputId": "84eee978-6084-4097-8244-2012f041682f"
      },
      "execution_count": 8,
      "outputs": [
        {
          "output_type": "stream",
          "name": "stdout",
          "text": [
            "Number of proteins between 2 and 34350 : 20434\n",
            "Number of druggable proteins between 2 and 34350 : 3345\n",
            "Number of non-druggable proteins between 2 and 34350 : 17089\n"
          ]
        }
      ]
    },
    {
      "cell_type": "code",
      "source": [
        "# Find unique amino acids in protein sequences\n",
        "unique_amino_acids = set()\n",
        "for protein in protein_data:\n",
        "    seq = protein_data[protein]['Sequence']\n",
        "    for aa in seq:\n",
        "        unique_amino_acids.add(aa)\n",
        "\n",
        "print(\"Number of unique amino acids:\", len(unique_amino_acids))\n",
        "print(unique_amino_acids)"
      ],
      "metadata": {
        "colab": {
          "base_uri": "https://localhost:8080/"
        },
        "id": "2K20tlb7p6IZ",
        "outputId": "7fbb74a0-8b6d-4e68-f46c-27247dad8d74"
      },
      "execution_count": 9,
      "outputs": [
        {
          "output_type": "stream",
          "name": "stdout",
          "text": [
            "Number of unique amino acids: 20\n",
            "{'R', 'S', 'T', 'N', 'K', 'Q', 'C', 'L', 'D', 'M', 'I', 'E', 'V', 'F', 'A', 'Y', 'P', 'W', 'H', 'G'}\n"
          ]
        }
      ]
    },
    {
      "cell_type": "code",
      "source": [
        "unique_amino_acids = sorted(list(unique_amino_acids))\n",
        "print(unique_amino_acids)\n",
        "\n",
        "amino_acid_to_num_mapping = {aa: i+1 for i, aa in enumerate(unique_amino_acids)}\n",
        "print(amino_acid_to_num_mapping)"
      ],
      "metadata": {
        "colab": {
          "base_uri": "https://localhost:8080/"
        },
        "id": "p_wfgAI3qJ36",
        "outputId": "d3bc0b00-73ee-4d5a-fbca-40c396781c64"
      },
      "execution_count": 10,
      "outputs": [
        {
          "output_type": "stream",
          "name": "stdout",
          "text": [
            "['A', 'C', 'D', 'E', 'F', 'G', 'H', 'I', 'K', 'L', 'M', 'N', 'P', 'Q', 'R', 'S', 'T', 'V', 'W', 'Y']\n",
            "{'A': 1, 'C': 2, 'D': 3, 'E': 4, 'F': 5, 'G': 6, 'H': 7, 'I': 8, 'K': 9, 'L': 10, 'M': 11, 'N': 12, 'P': 13, 'Q': 14, 'R': 15, 'S': 16, 'T': 17, 'V': 18, 'W': 19, 'Y': 20}\n"
          ]
        }
      ]
    },
    {
      "cell_type": "code",
      "source": [
        "def get_data_protein_sequence_encoding(MIN_LENGTH, MAX_LENGTH):\n",
        "  valid_length_proteins = {}\n",
        "  for protein in protein_data:\n",
        "    if MIN_LENGTH <= len(protein_data[protein]['Sequence']) <= MAX_LENGTH:\n",
        "      seq = protein_data[protein]['Sequence']\n",
        "      encoded_seq = [amino_acid_to_num_mapping[aa] for aa in seq]\n",
        "      valid_length_proteins[protein] = encoded_seq\n",
        "  print(\"Total data length: \", len(valid_length_proteins))\n",
        "  return valid_length_proteins\n",
        "\n",
        "def fill_repeat_protein(amino_acid_encoded_sequences):\n",
        "  final_sequences = []\n",
        "  for seq in amino_acid_encoded_sequences:\n",
        "    # length of sequence is uptil when the value is not zero\n",
        "    length = 0\n",
        "    for i in seq:\n",
        "      if i == 0: break\n",
        "      else: length += 1\n",
        "    new_seq = []\n",
        "    # fill seq and repeat as many times with a 0 single gap in between\n",
        "    while(len(new_seq) <= len(seq)):\n",
        "      new_seq.extend(seq[:length])\n",
        "      new_seq.append(0)\n",
        "    final_sequences.append(new_seq[:3000])\n",
        "  return final_sequences\n"
      ],
      "metadata": {
        "id": "-zblK94Io3fn"
      },
      "execution_count": 32,
      "outputs": []
    },
    {
      "cell_type": "code",
      "source": [
        "import numpy as np\n",
        "import pandas as pd\n",
        "import random\n",
        "from sklearn.model_selection import train_test_split\n",
        "\n",
        "def sequence_process(sequences, max_length):\n",
        "  processed_sequences = []\n",
        "  count = 0\n",
        "  for seq in sequences:\n",
        "    seq = seq + [0] * (max_length - len(seq))\n",
        "    assert len(seq) == max_length\n",
        "    processed_sequences.append(seq)\n",
        "    count += 1\n",
        "    if count % 1000 == 0:\n",
        "      print(count, \"sequences processed\")\n",
        "  return processed_sequences\n",
        "\n",
        "def train_test_split_(MIN_LIMIT, MAX_LIMIT, druggable_proteins, test_size=0.2, case_ = 'default', shuffle = True, fill_repeat = False):\n",
        "  protein_data_combined = get_data_protein_sequence_encoding(MIN_LIMIT, MAX_LIMIT)\n",
        "  druggable_proteins_data = [protein_data_combined[protein] for protein in protein_data_combined if protein in druggable_proteins]\n",
        "  non_druggable_proteins_data = [protein_data_combined[protein] for protein in protein_data_combined if protein not in druggable_proteins]\n",
        "  print(\"Number of druggable to non druggable = \", len(druggable_proteins_data), \":\", len(non_druggable_proteins_data))\n",
        "  X_druggable = druggable_proteins_data\n",
        "  X_non_druggable = non_druggable_proteins_data\n",
        "  X_druggable = sequence_process(X_druggable, MAX_LIMIT)\n",
        "  X_non_druggable = sequence_process(X_non_druggable, MAX_LIMIT)\n",
        "  if case_ == \"oversampling\":\n",
        "    X_druggable = [random.choice(X_druggable) for _ in range(len(X_non_druggable))]\n",
        "  if case_ == \"undersampling\":\n",
        "    X_non_druggable = [random.choice(X_non_druggable) for _ in range(len(X_druggable))]\n",
        "\n",
        "  print(\"Number of druggable to non druggable = \", len(X_druggable), \":\", len(X_non_druggable))\n",
        "  X_combined = X_druggable + X_non_druggable\n",
        "  if(fill_repeat): X_combined = fill_repeat_protein(X_combined)\n",
        "  y_combined = [1] * len(X_druggable) + [0] * len(X_non_druggable)\n",
        "  if shuffle:\n",
        "    combined = list(zip(X_combined, y_combined))\n",
        "    random.shuffle(combined)\n",
        "    X_combined, y_combined = zip(*combined)\n",
        "  X_combined = np.array(X_combined)\n",
        "  y_combined = np.array(y_combined)\n",
        "  X_train, X_test, y_train, y_test = train_test_split(X_combined, y_combined, test_size=test_size, stratify=y_combined, random_state = 42)\n",
        "  return X_train, X_test, y_train, y_test\n",
        "\n"
      ],
      "metadata": {
        "id": "4vUv0wHbqj_W"
      },
      "execution_count": 33,
      "outputs": []
    },
    {
      "cell_type": "code",
      "source": [
        "X_train, X_test, y_train, y_test = train_test_split_(2,3000, druggable_proteins, test_size=0.2, case_='oversampling', shuffle=True)\n",
        "print(X_train.shape, X_test.shape, y_train.shape, y_test.shape)"
      ],
      "metadata": {
        "colab": {
          "base_uri": "https://localhost:8080/"
        },
        "id": "YScoPkVV0Nqx",
        "outputId": "b59b19ff-00c3-46c3-cb56-43380f92faca"
      },
      "execution_count": 57,
      "outputs": [
        {
          "output_type": "stream",
          "name": "stdout",
          "text": [
            "Total data length:  20273\n",
            "Number of druggable to non druggable =  3324 : 16949\n",
            "1000 sequences processed\n",
            "2000 sequences processed\n",
            "3000 sequences processed\n",
            "1000 sequences processed\n",
            "2000 sequences processed\n",
            "3000 sequences processed\n",
            "4000 sequences processed\n",
            "5000 sequences processed\n",
            "6000 sequences processed\n",
            "7000 sequences processed\n",
            "8000 sequences processed\n",
            "9000 sequences processed\n",
            "10000 sequences processed\n",
            "11000 sequences processed\n",
            "12000 sequences processed\n",
            "13000 sequences processed\n",
            "14000 sequences processed\n",
            "15000 sequences processed\n",
            "16000 sequences processed\n",
            "Number of druggable to non druggable =  16949 : 16949\n",
            "(27118, 3000) (6780, 3000) (27118,) (6780,)\n"
          ]
        }
      ]
    },
    {
      "cell_type": "code",
      "source": [
        "# Distribution of druggable/nondruggable in test and train\n",
        "print(\"Train distribution:\", sum(y_train==1), sum(y_train==0))\n",
        "print(\"Test distribution:\", sum(y_test==1), sum(y_test==0))"
      ],
      "metadata": {
        "id": "eNRTvIwE1vZp",
        "colab": {
          "base_uri": "https://localhost:8080/"
        },
        "outputId": "df6b0bb8-b59a-4854-b2fa-9f43dde09002"
      },
      "execution_count": 58,
      "outputs": [
        {
          "output_type": "stream",
          "name": "stdout",
          "text": [
            "Train distribution: 13559 13559\n",
            "Test distribution: 3390 3390\n"
          ]
        }
      ]
    },
    {
      "cell_type": "code",
      "source": [
        "# Train a neural network with this data\n",
        "import torch\n",
        "import torch.nn as nn\n",
        "import torch.optim as optim\n",
        "from torch.utils.data import Dataset, DataLoader\n",
        "\n",
        "# Dataloader class\n",
        "class MyDataset(Dataset):\n",
        "  def __init__(self, X, y):\n",
        "    self.X = X\n",
        "    self.y = y\n",
        "  def __len__(self):\n",
        "    return len(self.X)\n",
        "  def __getitem__(self, idx):\n",
        "    return self.X[idx], self.y[idx]\n",
        "\n",
        "# Define the neural network\n",
        "class Neural_Network(nn.Module):\n",
        "  def __init__(self, input_size, hidden_size, num_hidden_layers):\n",
        "    super(Neural_Network, self).__init__()\n",
        "    self.fc1 = nn.Linear(input_size, hidden_size)\n",
        "    self.relu = nn.ReLU()\n",
        "    # num_hidden_layers of linear and relu\n",
        "    self.hidden_layers = nn.ModuleList([nn.Linear(hidden_size, hidden_size) for _ in range(num_hidden_layers)])\n",
        "    self.hidden_relus = nn.ModuleList([nn.ReLU() for _ in range(num_hidden_layers)])\n",
        "    self.fc2 = nn.Linear(hidden_size, 1)\n",
        "    self.sigmoid = nn.Sigmoid()\n",
        "\n",
        "  def forward(self, x):\n",
        "    x = self.fc1(x)\n",
        "    x = self.relu(x)\n",
        "    for layer, relu in zip(self.hidden_layers, self.hidden_relus):\n",
        "      x = layer(x)\n",
        "      x = relu(x)\n",
        "    x = self.fc2(x)\n",
        "    x = self.sigmoid(x)\n",
        "    return x"
      ],
      "metadata": {
        "id": "MH3sb8RN4EPa"
      },
      "execution_count": 59,
      "outputs": []
    },
    {
      "cell_type": "code",
      "source": [
        "train_loader = DataLoader(MyDataset(X_train, y_train), batch_size=512, shuffle=True)\n",
        "test_loader = DataLoader(MyDataset(X_test, y_test), batch_size=512, shuffle=False)"
      ],
      "metadata": {
        "id": "FaSZ_lgO5Dv5"
      },
      "execution_count": 60,
      "outputs": []
    },
    {
      "cell_type": "code",
      "source": [
        "# Train loop\n",
        "def train_network(model, train_loader, test_loader, num_epochs, learning_rate, test_loss_step):\n",
        "  criterion = nn.BCELoss()\n",
        "  optimizer = optim.Adam(model.parameters(), lr=learning_rate)\n",
        "  train_losses = []\n",
        "  test_losses = []\n",
        "  best_train_loss = 1e10\n",
        "  best_test_loss = 1e10\n",
        "  best_test_accuracy = 0\n",
        "  best_train_model = None\n",
        "  best_test_model_on_loss = None\n",
        "  best_test_model_on_accuracy = None\n",
        "\n",
        "  for epoch in range(num_epochs):\n",
        "    model.train()\n",
        "    train_loss = 0.0\n",
        "    for inputs, labels in train_loader:\n",
        "      optimizer.zero_grad()\n",
        "      outputs = model(inputs.float())\n",
        "      loss = criterion(outputs.squeeze(), labels.float())\n",
        "      loss.backward()\n",
        "      optimizer.step()\n",
        "      train_loss += loss.item()\n",
        "\n",
        "    train_loss /= len(train_loader)\n",
        "    print(f'Epoch [{epoch+1}/{num_epochs}], Train Loss: {train_loss:.4f}')\n",
        "    train_losses.append(train_loss)\n",
        "    if train_loss < best_train_loss:\n",
        "      best_train_loss = train_loss\n",
        "      best_train_model = model\n",
        "\n",
        "    if (epoch+1) % test_loss_step == 0:\n",
        "      model.eval()\n",
        "      test_loss = 0.0\n",
        "      correct = 0\n",
        "      total = 0\n",
        "      with torch.no_grad():\n",
        "        for inputs, labels in test_loader:\n",
        "          outputs = model(inputs.float())\n",
        "          loss = criterion(outputs.squeeze(), labels.float())\n",
        "          test_loss += loss.item()\n",
        "          predicted = (outputs.squeeze() > 0.5).long()\n",
        "          total += labels.size(0)\n",
        "          correct += (predicted == labels).sum().item()\n",
        "\n",
        "      test_loss /= len(test_loader)\n",
        "      accuracy = 100 * correct / total\n",
        "      print(f'***Epoch [{epoch+1}/{num_epochs}], Test Loss: {test_loss:.4f}, Accuracy: {accuracy:.2f}%')\n",
        "      test_losses.append(test_loss)\n",
        "      if test_loss < best_test_loss:\n",
        "        best_test_loss = test_loss\n",
        "        best_test_model_on_loss = model\n",
        "      if accuracy > best_test_accuracy:\n",
        "        best_test_accuracy = accuracy\n",
        "        best_test_model_on_accuracy = model\n",
        "\n",
        "\n",
        "  return train_losses, test_losses, best_train_model, best_test_model_on_loss, best_test_model_on_accuracy\n",
        "\n"
      ],
      "metadata": {
        "id": "Dx4llGc-5JN3"
      },
      "execution_count": 61,
      "outputs": []
    },
    {
      "cell_type": "code",
      "source": [
        "model = Neural_Network(input_size=3000, hidden_size=128, num_hidden_layers=4)\n",
        "train_losses, test_losses, best_train_model, best_test_model_on_loss, best_test_model_on_accuracy = train_network(model, train_loader, test_loader, num_epochs=50, learning_rate=0.001, test_loss_step =1)"
      ],
      "metadata": {
        "id": "iwQWR_9j5j7X",
        "colab": {
          "base_uri": "https://localhost:8080/"
        },
        "outputId": "c2a2b4f7-0893-403a-b0bb-7d4ccdfc0261"
      },
      "execution_count": 62,
      "outputs": [
        {
          "output_type": "stream",
          "name": "stdout",
          "text": [
            "Epoch [1/50], Train Loss: 0.6877\n",
            "***Epoch [1/50], Test Loss: 0.6839, Accuracy: 55.44%\n",
            "Epoch [2/50], Train Loss: 0.6783\n",
            "***Epoch [2/50], Test Loss: 0.6714, Accuracy: 58.50%\n",
            "Epoch [3/50], Train Loss: 0.6599\n",
            "***Epoch [3/50], Test Loss: 0.6655, Accuracy: 59.51%\n",
            "Epoch [4/50], Train Loss: 0.6256\n",
            "***Epoch [4/50], Test Loss: 0.6533, Accuracy: 61.15%\n",
            "Epoch [5/50], Train Loss: 0.5962\n",
            "***Epoch [5/50], Test Loss: 0.6255, Accuracy: 62.82%\n",
            "Epoch [6/50], Train Loss: 0.5642\n",
            "***Epoch [6/50], Test Loss: 0.5929, Accuracy: 66.53%\n",
            "Epoch [7/50], Train Loss: 0.5409\n",
            "***Epoch [7/50], Test Loss: 0.6078, Accuracy: 66.53%\n",
            "Epoch [8/50], Train Loss: 0.5184\n",
            "***Epoch [8/50], Test Loss: 0.5863, Accuracy: 68.42%\n",
            "Epoch [9/50], Train Loss: 0.5074\n",
            "***Epoch [9/50], Test Loss: 0.5829, Accuracy: 69.94%\n",
            "Epoch [10/50], Train Loss: 0.4655\n",
            "***Epoch [10/50], Test Loss: 0.5592, Accuracy: 72.33%\n",
            "Epoch [11/50], Train Loss: 0.4398\n",
            "***Epoch [11/50], Test Loss: 0.5145, Accuracy: 75.59%\n",
            "Epoch [12/50], Train Loss: 0.4049\n",
            "***Epoch [12/50], Test Loss: 0.5180, Accuracy: 76.22%\n",
            "Epoch [13/50], Train Loss: 0.3724\n",
            "***Epoch [13/50], Test Loss: 0.5136, Accuracy: 76.98%\n",
            "Epoch [14/50], Train Loss: 0.3483\n",
            "***Epoch [14/50], Test Loss: 0.4946, Accuracy: 79.03%\n",
            "Epoch [15/50], Train Loss: 0.3099\n",
            "***Epoch [15/50], Test Loss: 0.4794, Accuracy: 81.00%\n",
            "Epoch [16/50], Train Loss: 0.2726\n",
            "***Epoch [16/50], Test Loss: 0.4755, Accuracy: 82.40%\n",
            "Epoch [17/50], Train Loss: 0.2500\n",
            "***Epoch [17/50], Test Loss: 0.4942, Accuracy: 82.48%\n",
            "Epoch [18/50], Train Loss: 0.2302\n",
            "***Epoch [18/50], Test Loss: 0.5175, Accuracy: 82.76%\n",
            "Epoch [19/50], Train Loss: 0.2084\n",
            "***Epoch [19/50], Test Loss: 0.4365, Accuracy: 84.96%\n",
            "Epoch [20/50], Train Loss: 0.1795\n",
            "***Epoch [20/50], Test Loss: 0.5144, Accuracy: 83.44%\n",
            "Epoch [21/50], Train Loss: 0.1807\n",
            "***Epoch [21/50], Test Loss: 0.4556, Accuracy: 85.77%\n",
            "Epoch [22/50], Train Loss: 0.1587\n",
            "***Epoch [22/50], Test Loss: 0.4782, Accuracy: 83.92%\n",
            "Epoch [23/50], Train Loss: 0.1515\n",
            "***Epoch [23/50], Test Loss: 0.4905, Accuracy: 84.62%\n",
            "Epoch [24/50], Train Loss: 0.1516\n",
            "***Epoch [24/50], Test Loss: 0.5174, Accuracy: 86.06%\n",
            "Epoch [25/50], Train Loss: 0.1126\n",
            "***Epoch [25/50], Test Loss: 0.4343, Accuracy: 88.04%\n",
            "Epoch [26/50], Train Loss: 0.1331\n",
            "***Epoch [26/50], Test Loss: 0.4709, Accuracy: 83.86%\n",
            "Epoch [27/50], Train Loss: 0.1185\n",
            "***Epoch [27/50], Test Loss: 0.4903, Accuracy: 87.76%\n",
            "Epoch [28/50], Train Loss: 0.0870\n",
            "***Epoch [28/50], Test Loss: 0.4234, Accuracy: 89.32%\n",
            "Epoch [29/50], Train Loss: 0.0762\n",
            "***Epoch [29/50], Test Loss: 0.5357, Accuracy: 89.32%\n",
            "Epoch [30/50], Train Loss: 0.0592\n",
            "***Epoch [30/50], Test Loss: 0.5812, Accuracy: 89.59%\n",
            "Epoch [31/50], Train Loss: 0.0621\n",
            "***Epoch [31/50], Test Loss: 0.4790, Accuracy: 89.59%\n",
            "Epoch [32/50], Train Loss: 0.0706\n",
            "***Epoch [32/50], Test Loss: 0.4612, Accuracy: 89.07%\n",
            "Epoch [33/50], Train Loss: 0.0708\n",
            "***Epoch [33/50], Test Loss: 0.5514, Accuracy: 89.13%\n",
            "Epoch [34/50], Train Loss: 0.0417\n",
            "***Epoch [34/50], Test Loss: 0.4963, Accuracy: 90.47%\n",
            "Epoch [35/50], Train Loss: 0.0826\n",
            "***Epoch [35/50], Test Loss: 0.4022, Accuracy: 89.12%\n",
            "Epoch [36/50], Train Loss: 0.0780\n",
            "***Epoch [36/50], Test Loss: 0.4252, Accuracy: 88.83%\n",
            "Epoch [37/50], Train Loss: 0.0448\n",
            "***Epoch [37/50], Test Loss: 0.5971, Accuracy: 88.88%\n",
            "Epoch [38/50], Train Loss: 0.0295\n",
            "***Epoch [38/50], Test Loss: 0.7546, Accuracy: 88.95%\n",
            "Epoch [39/50], Train Loss: 0.0443\n",
            "***Epoch [39/50], Test Loss: 0.4882, Accuracy: 91.31%\n",
            "Epoch [40/50], Train Loss: 0.0405\n",
            "***Epoch [40/50], Test Loss: 0.6446, Accuracy: 89.06%\n",
            "Epoch [41/50], Train Loss: 0.0592\n",
            "***Epoch [41/50], Test Loss: 0.4892, Accuracy: 90.52%\n",
            "Epoch [42/50], Train Loss: 0.0347\n",
            "***Epoch [42/50], Test Loss: 0.4519, Accuracy: 90.60%\n",
            "Epoch [43/50], Train Loss: 0.0444\n",
            "***Epoch [43/50], Test Loss: 0.5383, Accuracy: 90.66%\n",
            "Epoch [44/50], Train Loss: 0.0204\n",
            "***Epoch [44/50], Test Loss: 0.5985, Accuracy: 90.84%\n",
            "Epoch [45/50], Train Loss: 0.0248\n",
            "***Epoch [45/50], Test Loss: 0.7338, Accuracy: 90.31%\n",
            "Epoch [46/50], Train Loss: 0.0378\n",
            "***Epoch [46/50], Test Loss: 0.6294, Accuracy: 88.29%\n",
            "Epoch [47/50], Train Loss: 0.0608\n",
            "***Epoch [47/50], Test Loss: 0.6376, Accuracy: 89.38%\n",
            "Epoch [48/50], Train Loss: 0.0183\n",
            "***Epoch [48/50], Test Loss: 0.7208, Accuracy: 91.00%\n",
            "Epoch [49/50], Train Loss: 0.0386\n",
            "***Epoch [49/50], Test Loss: 0.4753, Accuracy: 89.04%\n",
            "Epoch [50/50], Train Loss: 0.0296\n",
            "***Epoch [50/50], Test Loss: 0.5740, Accuracy: 91.46%\n"
          ]
        }
      ]
    },
    {
      "cell_type": "code",
      "source": [
        "plt.plot(train_losses, label='Train Loss')\n",
        "plt.plot(test_losses, label='Test Loss')\n",
        "plt.xlabel('Epoch')\n",
        "plt.ylabel('Loss')\n",
        "plt.legend()\n",
        "plt.show()"
      ],
      "metadata": {
        "id": "gk1asNIe5m8W",
        "colab": {
          "base_uri": "https://localhost:8080/",
          "height": 449
        },
        "outputId": "6835c8c6-7fd9-4ab7-a7c2-6a6ada343615"
      },
      "execution_count": 63,
      "outputs": [
        {
          "output_type": "display_data",
          "data": {
            "text/plain": [
              "<Figure size 640x480 with 1 Axes>"
            ],
            "image/png": "[encoded data removed]"
          },
          "metadata": {}
        }
      ]
    },
    {
      "cell_type": "code",
      "source": [
        "from sklearn.metrics import roc_auc_score, confusion_matrix\n",
        "\n",
        "def evaluate(trained_model, dataloader):\n",
        "  trained_model.eval()\n",
        "\n",
        "  y_pred = []\n",
        "  y_true = []\n",
        "  with torch.no_grad():\n",
        "    for inputs, labels in dataloader:\n",
        "      outputs = trained_model(inputs.float())\n",
        "      predicted = (outputs.squeeze() > 0.5).long()\n",
        "      y_pred.extend(predicted.tolist())\n",
        "      y_true.extend(labels.tolist())\n",
        "\n",
        "  accuracy = 100 * sum([1 if y_pred[i]==y_true[i] else 0 for i in range(len(y_pred))]) / len(y_pred)\n",
        "  roc_auc = roc_auc_score(y_true, y_pred)\n",
        "  tn, fp, fn, tp = confusion_matrix(y_true, y_pred).ravel()\n",
        "  specificity = tn / (tn + fp)\n",
        "  sensitivity = tp / (tp + fn)\n",
        "\n",
        "  return accuracy, roc_auc, specificity, sensitivity"
      ],
      "metadata": {
        "id": "Fp_0jw7h7o8R"
      },
      "execution_count": 64,
      "outputs": []
    },
    {
      "cell_type": "code",
      "source": [
        "def print_metrics(trained_model, dataloader, name):\n",
        "  accuracy, roc_auc, specificity, sensitivity = evaluate(trained_model, dataloader)\n",
        "  print(f\"\"\"{name} Metrics:\n",
        "  Accuracy: {accuracy:.2f}%\n",
        "  ROC AUC: {roc_auc:.4f}\n",
        "  Specificity: {specificity:.4f}\n",
        "  Sensitivity: {sensitivity:.4f}\"\"\")\n"
      ],
      "metadata": {
        "id": "YmiKg-cW8IQZ"
      },
      "execution_count": 65,
      "outputs": []
    },
    {
      "cell_type": "code",
      "source": [
        "# Best train model\n",
        "print_metrics(best_train_model, train_loader, \"Best Train Model on Training Data\")\n",
        "print_metrics(best_train_model, test_loader, \"Best Train Model on Test Data\")\n",
        "# Best test model on loss\n",
        "print_metrics(best_test_model_on_loss, train_loader, \"Best Test Model on Loss on Training Data\")\n",
        "print_metrics(best_test_model_on_loss, test_loader, \"Best Test Model on Loss on Test Data\")\n",
        "# Best test model on accuracy\n",
        "print_metrics(best_test_model_on_accuracy, train_loader, \"Best Test Model on Accuracy on Training Data\")\n",
        "print_metrics(best_test_model_on_accuracy, test_loader, \"Best Test Model on Accuracy on Test Data\")\n"
      ],
      "metadata": {
        "id": "4068Yka58Zre",
        "colab": {
          "base_uri": "https://localhost:8080/"
        },
        "outputId": "1f9f399b-f0ce-44b1-ada3-92f8d646984d"
      },
      "execution_count": 66,
      "outputs": [
        {
          "output_type": "stream",
          "name": "stdout",
          "text": [
            "Best Train Model on Training Data Metrics:\n",
            "  Accuracy: 99.65%\n",
            "  ROC AUC: 0.9965\n",
            "  Specificity: 0.9952\n",
            "  Sensitivity: 0.9978\n",
            "Best Train Model on Test Data Metrics:\n",
            "  Accuracy: 91.46%\n",
            "  ROC AUC: 0.9146\n",
            "  Specificity: 0.8466\n",
            "  Sensitivity: 0.9826\n",
            "Best Test Model on Loss on Training Data Metrics:\n",
            "  Accuracy: 99.65%\n",
            "  ROC AUC: 0.9965\n",
            "  Specificity: 0.9952\n",
            "  Sensitivity: 0.9978\n",
            "Best Test Model on Loss on Test Data Metrics:\n",
            "  Accuracy: 91.46%\n",
            "  ROC AUC: 0.9146\n",
            "  Specificity: 0.8466\n",
            "  Sensitivity: 0.9826\n",
            "Best Test Model on Accuracy on Training Data Metrics:\n",
            "  Accuracy: 99.65%\n",
            "  ROC AUC: 0.9965\n",
            "  Specificity: 0.9952\n",
            "  Sensitivity: 0.9978\n",
            "Best Test Model on Accuracy on Test Data Metrics:\n",
            "  Accuracy: 91.46%\n",
            "  ROC AUC: 0.9146\n",
            "  Specificity: 0.8466\n",
            "  Sensitivity: 0.9826\n"
          ]
        }
      ]
    },
    {
      "cell_type": "code",
      "source": [
        "# save best_train_model to drive\n",
        "torch.save(best_train_model.state_dict(), '/content/drive/MyDrive/protein_props/best_train_model.pth')"
      ],
      "metadata": {
        "id": "xIJY6iFH8sZJ"
      },
      "execution_count": 67,
      "outputs": []
    },
    {
      "cell_type": "code",
      "source": [],
      "metadata": {
        "id": "pMXIAsJ8x6nY"
      },
      "execution_count": null,
      "outputs": []
    }
  ]
}