{
  "nbformat": 4,
  "nbformat_minor": 0,
  "metadata": {
    "colab": {
      "provenance": []
    },
    "kernelspec": {
      "name": "python3",
      "display_name": "Python 3"
    },
    "language_info": {
      "name": "python"
    }
  },
  "cells": [
    {
      "cell_type": "code",
      "source": [
        "### Amino acids"
      ],
      "metadata": {
        "id": "MEd52AJl0tJ-"
      },
      "execution_count": 45,
      "outputs": []
    },
    {
      "cell_type": "code",
      "source": [
        "# Mount google drive at /content/drive\n",
        "from google.colab import drive\n",
        "drive.mount('/content/drive')"
      ],
      "metadata": {
        "id": "ZY2qN_14msod",
        "colab": {
          "base_uri": "https://localhost:8080/"
        },
        "outputId": "1744186a-a16e-4f6a-9b12-c77a239f3fe5"
      },
      "execution_count": 33,
      "outputs": [
        {
          "output_type": "stream",
          "name": "stdout",
          "text": [
            "Drive already mounted at /content/drive; to attempt to forcibly remount, call drive.mount(\"/content/drive\", force_remount=True).\n"
          ]
        }
      ]
    },
    {
      "cell_type": "code",
      "source": [
        "import json\n",
        "\n",
        "data_file_path = \"/content/drive/MyDrive/protein_props/protein_props.json\"\n",
        "druggable_proteins_file_path = \"/content/drive/MyDrive/protein_props/druggable_proteins.txt\"\n",
        "approved_druggable_proteins_file_path = \"/content/drive/MyDrive/protein_props/approved_druggable_proteins.txt\"\n",
        "\n",
        "with open(data_file_path, 'r') as f:\n",
        "    protein_data = json.load(f)\n",
        "\n",
        "print(\"Total number of uniprot human verified proteins:\", len(protein_data))\n"
      ],
      "metadata": {
        "colab": {
          "base_uri": "https://localhost:8080/"
        },
        "id": "vZvAM5sQmyWq",
        "outputId": "3b90d657-245a-4b72-f1c0-a6e8aff6bbb3"
      },
      "execution_count": 34,
      "outputs": [
        {
          "output_type": "stream",
          "name": "stdout",
          "text": [
            "Total number of uniprot human verified proteins: 20434\n"
          ]
        }
      ]
    },
    {
      "cell_type": "code",
      "source": [
        "with open(druggable_proteins_file_path, 'r') as f:\n",
        "    druggable_proteins = f.read().splitlines()\n",
        "\n",
        "with open(approved_druggable_proteins_file_path, 'r') as f:\n",
        "    approved_druggable_proteins = f.read().splitlines()\n",
        "\n",
        "print(\"Number of druggable proteins:\", len(druggable_proteins))\n",
        "print(\"Number of approved druggable proteins:\", len(approved_druggable_proteins))"
      ],
      "metadata": {
        "colab": {
          "base_uri": "https://localhost:8080/"
        },
        "id": "Up_91xbyocBo",
        "outputId": "c52111d0-5c0a-40b4-9125-894b900356e3"
      },
      "execution_count": 35,
      "outputs": [
        {
          "output_type": "stream",
          "name": "stdout",
          "text": [
            "Number of druggable proteins: 3345\n",
            "Number of approved druggable proteins: 2652\n"
          ]
        }
      ]
    },
    {
      "cell_type": "code",
      "source": [
        "max_seq_length = -1\n",
        "min_seq_length = 1e10\n",
        "\n",
        "for protein in protein_data:\n",
        "  seq_length = len(protein_data[protein]['Sequence'])\n",
        "  max_seq_length = max(max_seq_length, seq_length)\n",
        "  min_seq_length = min(min_seq_length, seq_length)\n",
        "\n",
        "print(\"Maximum Sequence Length:\", max_seq_length)\n",
        "print(\"Minimum Sequence Length:\", min_seq_length)"
      ],
      "metadata": {
        "colab": {
          "base_uri": "https://localhost:8080/"
        },
        "id": "NTTliPiUnIZx",
        "outputId": "51476eba-9955-4157-c859-97cbb133ce5a"
      },
      "execution_count": 36,
      "outputs": [
        {
          "output_type": "stream",
          "name": "stdout",
          "text": [
            "Maximum Sequence Length: 34350\n",
            "Minimum Sequence Length: 2\n"
          ]
        }
      ]
    },
    {
      "cell_type": "code",
      "source": [
        "# Distribution of sequence lengths, plot a histogram\n",
        "\n",
        "import matplotlib.pyplot as plt\n",
        "\n",
        "plt.hist([len(protein_data[protein]['Sequence']) for protein in protein_data], bins=200)\n",
        "plt.show()"
      ],
      "metadata": {
        "colab": {
          "base_uri": "https://localhost:8080/",
          "height": 430
        },
        "id": "biXf6Vv9nZ-L",
        "outputId": "e82c44ae-3f4e-46ee-b312-e0974e90cc6e"
      },
      "execution_count": 37,
      "outputs": [
        {
          "output_type": "display_data",
          "data": {
            "text/plain": [
              "<Figure size 640x480 with 1 Axes>"
            ],
            "image/png": "[encoded data removed]"
          },
          "metadata": {}
        }
      ]
    },
    {
      "cell_type": "code",
      "source": [
        "def find_num_proteins_between(MIN_LENGTH, MAX_LENGTH):\n",
        "  druggable_protein_count = 0\n",
        "  non_druggable_protein_count = 0\n",
        "  for protein in protein_data:\n",
        "    if MIN_LENGTH <= len(protein_data[protein]['Sequence']) <= MAX_LENGTH:\n",
        "      if protein in druggable_proteins:\n",
        "        druggable_protein_count += 1\n",
        "      else:\n",
        "        non_druggable_protein_count += 1\n",
        "  print(\"Number of proteins between\", MIN_LENGTH, \"and\", MAX_LENGTH, \":\", druggable_protein_count + non_druggable_protein_count)\n",
        "  print(\"Number of druggable proteins between\", MIN_LENGTH, \"and\", MAX_LENGTH, \":\", druggable_protein_count)\n",
        "  print(\"Number of non-druggable proteins between\", MIN_LENGTH, \"and\", MAX_LENGTH, \":\", non_druggable_protein_count)"
      ],
      "metadata": {
        "id": "1aGsVvdMoADv"
      },
      "execution_count": 38,
      "outputs": []
    },
    {
      "cell_type": "code",
      "source": [
        "find_num_proteins_between(100, 500)"
      ],
      "metadata": {
        "colab": {
          "base_uri": "https://localhost:8080/"
        },
        "id": "6WBZIB2KoMCZ",
        "outputId": "4c9daafc-f762-4abf-ff56-ec299ea55fba"
      },
      "execution_count": 39,
      "outputs": [
        {
          "output_type": "stream",
          "name": "stdout",
          "text": [
            "Number of proteins between 100 and 500 : 11632\n",
            "Number of druggable proteins between 100 and 500 : 1859\n",
            "Number of non-druggable proteins between 100 and 500 : 9773\n"
          ]
        }
      ]
    },
    {
      "cell_type": "code",
      "source": [
        "# Find unique amino acids in protein sequences\n",
        "unique_amino_acids = set()\n",
        "for protein in protein_data:\n",
        "    seq = protein_data[protein]['Sequence']\n",
        "    for aa in seq:\n",
        "        unique_amino_acids.add(aa)\n",
        "\n",
        "print(\"Number of unique amino acids:\", len(unique_amino_acids))\n",
        "print(unique_amino_acids)"
      ],
      "metadata": {
        "colab": {
          "base_uri": "https://localhost:8080/"
        },
        "id": "2K20tlb7p6IZ",
        "outputId": "db23b6e9-dd0b-4cb6-e187-ef08d2398673"
      },
      "execution_count": 40,
      "outputs": [
        {
          "output_type": "stream",
          "name": "stdout",
          "text": [
            "Number of unique amino acids: 20\n",
            "{'M', 'Y', 'D', 'G', 'E', 'Q', 'T', 'F', 'L', 'C', 'W', 'P', 'N', 'K', 'A', 'S', 'V', 'I', 'R', 'H'}\n"
          ]
        }
      ]
    },
    {
      "cell_type": "code",
      "source": [
        "unique_amino_acids = sorted(list(unique_amino_acids))\n",
        "print(unique_amino_acids)\n",
        "\n",
        "amino_acid_to_num_mapping = {aa: i+1 for i, aa in enumerate(unique_amino_acids)}\n",
        "print(amino_acid_to_num_mapping)"
      ],
      "metadata": {
        "colab": {
          "base_uri": "https://localhost:8080/"
        },
        "id": "p_wfgAI3qJ36",
        "outputId": "08e033d3-26a2-4b94-a837-137174851c91"
      },
      "execution_count": 41,
      "outputs": [
        {
          "output_type": "stream",
          "name": "stdout",
          "text": [
            "['A', 'C', 'D', 'E', 'F', 'G', 'H', 'I', 'K', 'L', 'M', 'N', 'P', 'Q', 'R', 'S', 'T', 'V', 'W', 'Y']\n",
            "{'A': 1, 'C': 2, 'D': 3, 'E': 4, 'F': 5, 'G': 6, 'H': 7, 'I': 8, 'K': 9, 'L': 10, 'M': 11, 'N': 12, 'P': 13, 'Q': 14, 'R': 15, 'S': 16, 'T': 17, 'V': 18, 'W': 19, 'Y': 20}\n"
          ]
        }
      ]
    },
    {
      "cell_type": "code",
      "source": [
        "def get_data_protein_sequence_encoding(MIN_LENGTH, MAX_LENGTH):\n",
        "  valid_length_proteins = {}\n",
        "  for protein in protein_data:\n",
        "    if MIN_LENGTH <= len(protein_data[protein]['Sequence']) <= MAX_LENGTH:\n",
        "      seq = protein_data[protein]['Sequence']\n",
        "      encoded_seq = [amino_acid_to_num_mapping[aa] for aa in seq]\n",
        "      valid_length_proteins[protein] = encoded_seq\n",
        "  print(\"Total data length: \", len(valid_length_proteins))\n",
        "  return valid_length_proteins"
      ],
      "metadata": {
        "id": "-zblK94Io3fn"
      },
      "execution_count": 42,
      "outputs": []
    },
    {
      "cell_type": "code",
      "source": [
        "protein_data_100_500 = get_data_protein_sequence_encoding(100, 500)"
      ],
      "metadata": {
        "colab": {
          "base_uri": "https://localhost:8080/"
        },
        "id": "jnE2EAJoqf6D",
        "outputId": "b2891d49-b618-4bbc-b4d0-2a8b3a227307"
      },
      "execution_count": 43,
      "outputs": [
        {
          "output_type": "stream",
          "name": "stdout",
          "text": [
            "Total data length:  11632\n"
          ]
        }
      ]
    },
    {
      "cell_type": "code",
      "source": [
        "import numpy as np\n",
        "import pandas as pd\n",
        "import random\n",
        "from sklearn.model_selection import train_test_split\n",
        "\n",
        "def sequence_process(sequences):\n",
        "  max_length = max(len(seq) for seq in sequences)\n",
        "  processed_sequences = []\n",
        "  for seq in sequences:\n",
        "    while len(seq) < max_length:\n",
        "      seq.append(0)\n",
        "    processed_sequences.append(seq)\n",
        "  return processed_sequences\n",
        "\n",
        "def train_test_split_(MIN_LIMIT, MAX_LIMIT, druggable_proteins, test_size=0.2, case_ = 'default', shuffle = True):\n",
        "  protein_data_combined = get_data_protein_sequence_encoding(MIN_LIMIT, MAX_LIMIT)\n",
        "  druggable_proteins_data = [protein_data_combined[protein] for protein in protein_data_combined if protein in druggable_proteins]\n",
        "  non_druggable_proteins_data = [protein_data_combined[protein] for protein in protein_data_combined if protein not in druggable_proteins]\n",
        "  print(\"Number of druggable to non druggable = \", len(druggable_proteins_data), \":\", len(non_druggable_proteins_data))\n",
        "  X_druggable = druggable_proteins_data\n",
        "  X_non_druggable = non_druggable_proteins_data\n",
        "\n",
        "  if case_ == \"oversampling\":\n",
        "    X_druggable = [random.choice(X_druggable) for _ in range(len(X_non_druggable))]\n",
        "  if case_ == \"undersampling\":\n",
        "    X_non_druggable = [random.choice(X_non_druggable) for _ in range(len(X_druggable))]\n",
        "\n",
        "  print(\"Number of druggable to non druggable = \", len(X_druggable), \":\", len(X_non_druggable))\n",
        "  X_combined = X_druggable + X_non_druggable\n",
        "  y_combined = [1] * len(X_druggable) + [0] * len(X_non_druggable)\n",
        "  if shuffle:\n",
        "    combined = list(zip(X_combined, y_combined))\n",
        "    random.shuffle(combined)\n",
        "    X_combined, y_combined = zip(*combined)\n",
        "  X_combined = sequence_process(X_combined)\n",
        "  X_combined = np.array(X_combined)\n",
        "  y_combined = np.array(y_combined)\n",
        "  X_train, X_test, y_train, y_test = train_test_split(X_combined, y_combined, test_size=test_size, stratify=y_combined, random_state = 42)\n",
        "  return X_train, X_test, y_train, y_test\n",
        "\n"
      ],
      "metadata": {
        "id": "4vUv0wHbqj_W"
      },
      "execution_count": 66,
      "outputs": []
    },
    {
      "cell_type": "code",
      "source": [
        "X_train, X_test, y_train, y_test = train_test_split_(100,500, druggable_proteins, test_size=0.2, case_='oversampling', shuffle=True)\n",
        "print(X_train.shape, X_test.shape, y_train.shape, y_test.shape)"
      ],
      "metadata": {
        "colab": {
          "base_uri": "https://localhost:8080/"
        },
        "id": "YScoPkVV0Nqx",
        "outputId": "cbb2f902-8c3e-401f-d7e1-48911b964e7e"
      },
      "execution_count": 67,
      "outputs": [
        {
          "output_type": "stream",
          "name": "stdout",
          "text": [
            "Total data length:  11632\n",
            "Number of druggable to non druggable =  1859 : 9773\n",
            "Number of druggable to non druggable =  9773 : 9773\n",
            "(15636, 500) (3910, 500) (15636,) (3910,)\n"
          ]
        }
      ]
    },
    {
      "cell_type": "code",
      "source": [
        "# Distribution of druggable/nondruggable in test and train\n",
        "print(\"Train distribution:\", sum(y_train==1), sum(y_train==0))\n",
        "print(\"Test distribution:\", sum(y_test==1), sum(y_test==0))"
      ],
      "metadata": {
        "colab": {
          "base_uri": "https://localhost:8080/"
        },
        "id": "eNRTvIwE1vZp",
        "outputId": "13a2ff05-f72d-4c86-8c5b-edd44de88a01"
      },
      "execution_count": 68,
      "outputs": [
        {
          "output_type": "stream",
          "name": "stdout",
          "text": [
            "Train distribution: 7818 7818\n",
            "Test distribution: 1955 1955\n"
          ]
        }
      ]
    },
    {
      "cell_type": "code",
      "source": [
        "# Train a neural network with this data\n",
        "import torch\n",
        "import torch.nn as nn\n",
        "import torch.optim as optim\n",
        "from torch.utils.data import Dataset, DataLoader\n",
        "\n",
        "# Dataloader class\n",
        "class MyDataset(Dataset):\n",
        "  def __init__(self, X, y):\n",
        "    self.X = X\n",
        "    self.y = y\n",
        "  def __len__(self):\n",
        "    return len(self.X)\n",
        "  def __getitem__(self, idx):\n",
        "    return self.X[idx], self.y[idx]\n",
        "\n",
        "# Define the neural network\n",
        "class Neural_Network(nn.Module):\n",
        "  def __init__(self, input_size, hidden_size, num_hidden_layers):\n",
        "    super(Neural_Network, self).__init__()\n",
        "    self.fc1 = nn.Linear(input_size, hidden_size)\n",
        "    self.relu = nn.ReLU()\n",
        "    # num_hidden_layers of linear and relu\n",
        "    self.hidden_layers = nn.ModuleList([nn.Linear(hidden_size, hidden_size) for _ in range(num_hidden_layers)])\n",
        "    self.hidden_relus = nn.ModuleList([nn.ReLU() for _ in range(num_hidden_layers)])\n",
        "    self.fc2 = nn.Linear(hidden_size, 1)\n",
        "    self.sigmoid = nn.Sigmoid()\n",
        "\n",
        "  def forward(self, x):\n",
        "    x = self.fc1(x)\n",
        "    x = self.relu(x)\n",
        "    for layer, relu in zip(self.hidden_layers, self.hidden_relus):\n",
        "      x = layer(x)\n",
        "      x = relu(x)\n",
        "    x = self.fc2(x)\n",
        "    x = self.sigmoid(x)\n",
        "    return x"
      ],
      "metadata": {
        "id": "MH3sb8RN4EPa"
      },
      "execution_count": 69,
      "outputs": []
    },
    {
      "cell_type": "code",
      "source": [
        "train_loader = DataLoader(MyDataset(X_train, y_train), batch_size=32, shuffle=True)\n",
        "test_loader = DataLoader(MyDataset(X_test, y_test), batch_size=32, shuffle=False)"
      ],
      "metadata": {
        "id": "FaSZ_lgO5Dv5"
      },
      "execution_count": 70,
      "outputs": []
    },
    {
      "cell_type": "code",
      "source": [
        "# Train loop\n",
        "def train_network(model, train_loader, test_loader, num_epochs, learning_rate, test_loss_step):\n",
        "  criterion = nn.BCELoss()\n",
        "  optimizer = optim.Adam(model.parameters(), lr=learning_rate)\n",
        "  train_losses = []\n",
        "  test_losses = []\n",
        "  best_train_loss = 1e10\n",
        "  best_test_loss = 1e10\n",
        "  best_test_accuracy = 0\n",
        "  best_train_model = None\n",
        "  best_test_model_on_loss = None\n",
        "  best_test_model_on_accuracy = None\n",
        "\n",
        "  for epoch in range(num_epochs):\n",
        "    model.train()\n",
        "    train_loss = 0.0\n",
        "    for inputs, labels in train_loader:\n",
        "      optimizer.zero_grad()\n",
        "      outputs = model(inputs.float())\n",
        "      loss = criterion(outputs.squeeze(), labels.float())\n",
        "      loss.backward()\n",
        "      optimizer.step()\n",
        "      train_loss += loss.item()\n",
        "\n",
        "    train_loss /= len(train_loader)\n",
        "    print(f'Epoch [{epoch+1}/{num_epochs}], Train Loss: {train_loss:.4f}')\n",
        "    train_losses.append(train_loss)\n",
        "    if train_loss < best_train_loss:\n",
        "      best_train_loss = train_loss\n",
        "      best_train_model = model\n",
        "\n",
        "    if (epoch+1) % test_loss_step == 0:\n",
        "      model.eval()\n",
        "      test_loss = 0.0\n",
        "      correct = 0\n",
        "      total = 0\n",
        "      with torch.no_grad():\n",
        "        for inputs, labels in test_loader:\n",
        "          outputs = model(inputs.float())\n",
        "          loss = criterion(outputs.squeeze(), labels.float())\n",
        "          test_loss += loss.item()\n",
        "          predicted = (outputs.squeeze() > 0.5).long()\n",
        "          total += labels.size(0)\n",
        "          correct += (predicted == labels).sum().item()\n",
        "\n",
        "      test_loss /= len(test_loader)\n",
        "      accuracy = 100 * correct / total\n",
        "      print(f'***Epoch [{epoch+1}/{num_epochs}], Test Loss: {test_loss:.4f}, Accuracy: {accuracy:.2f}%')\n",
        "      test_losses.append(test_loss)\n",
        "      if test_loss < best_test_loss:\n",
        "        best_test_loss = test_loss\n",
        "        best_test_model_on_loss = model\n",
        "      if accuracy > best_test_accuracy:\n",
        "        best_test_accuracy = accuracy\n",
        "        best_test_model_on_accuracy = model\n",
        "\n",
        "\n",
        "  return train_losses, test_losses, best_train_model, best_test_model_on_loss, best_test_model_on_accuracy\n",
        "\n"
      ],
      "metadata": {
        "id": "Dx4llGc-5JN3"
      },
      "execution_count": 78,
      "outputs": []
    },
    {
      "cell_type": "code",
      "source": [
        "model = Neural_Network(input_size=500, hidden_size=128, num_hidden_layers=4)\n",
        "train_losses, test_losses, best_train_model, best_test_model_on_loss, best_test_model_on_accuracy = train_network(model, train_loader, test_loader, num_epochs=50, learning_rate=0.001, test_loss_step =1)"
      ],
      "metadata": {
        "colab": {
          "base_uri": "https://localhost:8080/"
        },
        "id": "iwQWR_9j5j7X",
        "outputId": "e9495190-18f3-4403-e1a6-4322e02f3d96"
      },
      "execution_count": 79,
      "outputs": [
        {
          "output_type": "stream",
          "name": "stdout",
          "text": [
            "Epoch [1/50], Train Loss: 0.6843\n",
            "***Epoch [1/50], Test Loss: 0.6802, Accuracy: 56.32%\n",
            "Epoch [2/50], Train Loss: 0.6730\n",
            "***Epoch [2/50], Test Loss: 0.6757, Accuracy: 58.39%\n",
            "Epoch [3/50], Train Loss: 0.6529\n",
            "***Epoch [3/50], Test Loss: 0.6512, Accuracy: 60.92%\n",
            "Epoch [4/50], Train Loss: 0.6243\n",
            "***Epoch [4/50], Test Loss: 0.6281, Accuracy: 64.27%\n",
            "Epoch [5/50], Train Loss: 0.5993\n",
            "***Epoch [5/50], Test Loss: 0.6263, Accuracy: 64.60%\n",
            "Epoch [6/50], Train Loss: 0.5774\n",
            "***Epoch [6/50], Test Loss: 0.5977, Accuracy: 67.54%\n",
            "Epoch [7/50], Train Loss: 0.5533\n",
            "***Epoch [7/50], Test Loss: 0.6245, Accuracy: 61.99%\n",
            "Epoch [8/50], Train Loss: 0.5398\n",
            "***Epoch [8/50], Test Loss: 0.6255, Accuracy: 67.08%\n",
            "Epoch [9/50], Train Loss: 0.5097\n",
            "***Epoch [9/50], Test Loss: 0.5681, Accuracy: 70.43%\n",
            "Epoch [10/50], Train Loss: 0.4936\n",
            "***Epoch [10/50], Test Loss: 0.5863, Accuracy: 67.75%\n",
            "Epoch [11/50], Train Loss: 0.4790\n",
            "***Epoch [11/50], Test Loss: 0.5910, Accuracy: 70.03%\n",
            "Epoch [12/50], Train Loss: 0.4636\n",
            "***Epoch [12/50], Test Loss: 0.5477, Accuracy: 71.71%\n",
            "Epoch [13/50], Train Loss: 0.4527\n",
            "***Epoch [13/50], Test Loss: 0.5205, Accuracy: 74.55%\n",
            "Epoch [14/50], Train Loss: 0.4410\n",
            "***Epoch [14/50], Test Loss: 0.5472, Accuracy: 72.63%\n",
            "Epoch [15/50], Train Loss: 0.4341\n",
            "***Epoch [15/50], Test Loss: 0.5350, Accuracy: 74.53%\n",
            "Epoch [16/50], Train Loss: 0.4192\n",
            "***Epoch [16/50], Test Loss: 0.5258, Accuracy: 74.50%\n",
            "Epoch [17/50], Train Loss: 0.4132\n",
            "***Epoch [17/50], Test Loss: 0.5382, Accuracy: 74.04%\n",
            "Epoch [18/50], Train Loss: 0.4065\n",
            "***Epoch [18/50], Test Loss: 0.5054, Accuracy: 75.32%\n",
            "Epoch [19/50], Train Loss: 0.3908\n",
            "***Epoch [19/50], Test Loss: 0.5660, Accuracy: 72.56%\n",
            "Epoch [20/50], Train Loss: 0.3866\n",
            "***Epoch [20/50], Test Loss: 0.5379, Accuracy: 72.84%\n",
            "Epoch [21/50], Train Loss: 0.3822\n",
            "***Epoch [21/50], Test Loss: 0.5575, Accuracy: 75.40%\n",
            "Epoch [22/50], Train Loss: 0.3714\n",
            "***Epoch [22/50], Test Loss: 0.5108, Accuracy: 76.78%\n",
            "Epoch [23/50], Train Loss: 0.3622\n",
            "***Epoch [23/50], Test Loss: 0.5256, Accuracy: 76.83%\n",
            "Epoch [24/50], Train Loss: 0.3661\n",
            "***Epoch [24/50], Test Loss: 0.5396, Accuracy: 74.94%\n",
            "Epoch [25/50], Train Loss: 0.3633\n",
            "***Epoch [25/50], Test Loss: 0.5653, Accuracy: 74.53%\n",
            "Epoch [26/50], Train Loss: 0.3558\n",
            "***Epoch [26/50], Test Loss: 0.5078, Accuracy: 78.26%\n",
            "Epoch [27/50], Train Loss: 0.3555\n",
            "***Epoch [27/50], Test Loss: 0.5407, Accuracy: 74.78%\n",
            "Epoch [28/50], Train Loss: 0.3555\n",
            "***Epoch [28/50], Test Loss: 0.5024, Accuracy: 77.72%\n",
            "Epoch [29/50], Train Loss: 0.3428\n",
            "***Epoch [29/50], Test Loss: 0.4957, Accuracy: 77.77%\n",
            "Epoch [30/50], Train Loss: 0.3681\n",
            "***Epoch [30/50], Test Loss: 0.5280, Accuracy: 75.88%\n",
            "Epoch [31/50], Train Loss: 0.3316\n",
            "***Epoch [31/50], Test Loss: 0.5188, Accuracy: 78.54%\n",
            "Epoch [32/50], Train Loss: 0.3318\n",
            "***Epoch [32/50], Test Loss: 0.4807, Accuracy: 80.38%\n",
            "Epoch [33/50], Train Loss: 0.3190\n",
            "***Epoch [33/50], Test Loss: 0.5804, Accuracy: 77.95%\n",
            "Epoch [34/50], Train Loss: 0.3203\n",
            "***Epoch [34/50], Test Loss: 0.5094, Accuracy: 79.51%\n",
            "Epoch [35/50], Train Loss: 0.3146\n",
            "***Epoch [35/50], Test Loss: 0.4877, Accuracy: 79.59%\n",
            "Epoch [36/50], Train Loss: 0.3249\n",
            "***Epoch [36/50], Test Loss: 0.5131, Accuracy: 78.57%\n",
            "Epoch [37/50], Train Loss: 0.3004\n",
            "***Epoch [37/50], Test Loss: 0.5073, Accuracy: 80.49%\n",
            "Epoch [38/50], Train Loss: 0.3041\n",
            "***Epoch [38/50], Test Loss: 0.4795, Accuracy: 81.13%\n",
            "Epoch [39/50], Train Loss: 0.3022\n",
            "***Epoch [39/50], Test Loss: 0.4912, Accuracy: 79.82%\n",
            "Epoch [40/50], Train Loss: 0.3034\n",
            "***Epoch [40/50], Test Loss: 0.4837, Accuracy: 80.84%\n",
            "Epoch [41/50], Train Loss: 0.2977\n",
            "***Epoch [41/50], Test Loss: 0.4886, Accuracy: 80.69%\n",
            "Epoch [42/50], Train Loss: 0.2911\n",
            "***Epoch [42/50], Test Loss: 0.5799, Accuracy: 76.39%\n",
            "Epoch [43/50], Train Loss: 0.2896\n",
            "***Epoch [43/50], Test Loss: 0.5571, Accuracy: 76.62%\n",
            "Epoch [44/50], Train Loss: 0.2832\n",
            "***Epoch [44/50], Test Loss: 0.4572, Accuracy: 81.97%\n",
            "Epoch [45/50], Train Loss: 0.2917\n",
            "***Epoch [45/50], Test Loss: 0.5199, Accuracy: 80.95%\n",
            "Epoch [46/50], Train Loss: 0.2883\n",
            "***Epoch [46/50], Test Loss: 0.4851, Accuracy: 81.87%\n",
            "Epoch [47/50], Train Loss: 0.3120\n",
            "***Epoch [47/50], Test Loss: 0.5596, Accuracy: 78.82%\n",
            "Epoch [48/50], Train Loss: 0.2781\n",
            "***Epoch [48/50], Test Loss: 0.5298, Accuracy: 80.31%\n",
            "Epoch [49/50], Train Loss: 0.2831\n",
            "***Epoch [49/50], Test Loss: 0.5678, Accuracy: 79.10%\n",
            "Epoch [50/50], Train Loss: 0.2761\n",
            "***Epoch [50/50], Test Loss: 0.4761, Accuracy: 81.56%\n"
          ]
        }
      ]
    },
    {
      "cell_type": "code",
      "source": [
        "plt.plot(train_losses, label='Train Loss')\n",
        "plt.plot(test_losses, label='Test Loss')\n",
        "plt.xlabel('Epoch')\n",
        "plt.ylabel('Loss')\n",
        "plt.legend()\n",
        "plt.show()"
      ],
      "metadata": {
        "colab": {
          "base_uri": "https://localhost:8080/",
          "height": 451
        },
        "id": "gk1asNIe5m8W",
        "outputId": "a440c4bd-491a-4fef-81b9-3558b89c52ab"
      },
      "execution_count": 80,
      "outputs": [
        {
          "output_type": "display_data",
          "data": {
            "text/plain": [
              "<Figure size 640x480 with 1 Axes>"
            ],
            "image/png": "[encoded data removed]"
          },
          "metadata": {}
        }
      ]
    },
    {
      "cell_type": "code",
      "source": [
        "from sklearn.metrics import roc_auc_score, confusion_matrix\n",
        "\n",
        "def evaluate(trained_model, dataloader):\n",
        "  trained_model.eval()\n",
        "\n",
        "  y_pred = []\n",
        "  y_true = []\n",
        "  with torch.no_grad():\n",
        "    for inputs, labels in dataloader:\n",
        "      outputs = trained_model(inputs.float())\n",
        "      predicted = (outputs.squeeze() > 0.5).long()\n",
        "      y_pred.extend(predicted.tolist())\n",
        "      y_true.extend(labels.tolist())\n",
        "\n",
        "  accuracy = 100 * sum([1 if y_pred[i]==y_true[i] else 0 for i in range(len(y_pred))]) / len(y_pred)\n",
        "  roc_auc = roc_auc_score(y_true, y_pred)\n",
        "  tn, fp, fn, tp = confusion_matrix(y_true, y_pred).ravel()\n",
        "  specificity = tn / (tn + fp)\n",
        "  sensitivity = tp / (tp + fn)\n",
        "\n",
        "  return accuracy, roc_auc, specificity, sensitivity"
      ],
      "metadata": {
        "id": "Fp_0jw7h7o8R"
      },
      "execution_count": 81,
      "outputs": []
    },
    {
      "cell_type": "code",
      "source": [
        "def print_metrics(trained_model, dataloader, name):\n",
        "  accuracy, roc_auc, specificity, sensitivity = evaluate(trained_model, dataloader)\n",
        "  print(f\"\"\"{name} Metrics:\n",
        "  Accuracy: {accuracy:.2f}%\n",
        "  ROC AUC: {roc_auc:.4f}\n",
        "  Specificity: {specificity:.4f}\n",
        "  Sensitivity: {sensitivity:.4f}\"\"\")\n",
        ""
      ],
      "metadata": {
        "id": "YmiKg-cW8IQZ"
      },
      "execution_count": 82,
      "outputs": []
    },
    {
      "cell_type": "code",
      "source": [
        "# Best train model\n",
        "print_metrics(best_train_model, train_loader, \"Best Train Model on Training Data\")\n",
        "print_metrics(best_train_model, test_loader, \"Best Train Model on Test Data\")\n",
        "# Best test model on loss\n",
        "print_metrics(best_test_model_on_loss, train_loader, \"Best Test Model on Loss on Training Data\")\n",
        "print_metrics(best_test_model_on_loss, test_loader, \"Best Test Model on Loss on Test Data\")\n",
        "# Best test model on accuracy\n",
        "print_metrics(best_test_model_on_accuracy, train_loader, \"Best Test Model on Accuracy on Training Data\")\n",
        "print_metrics(best_test_model_on_accuracy, test_loader, \"Best Test Model on Accuracy on Test Data\")\n"
      ],
      "metadata": {
        "colab": {
          "base_uri": "https://localhost:8080/"
        },
        "id": "4068Yka58Zre",
        "outputId": "6368f38d-d985-4a17-9a4f-27922bfdc00f"
      },
      "execution_count": 83,
      "outputs": [
        {
          "output_type": "stream",
          "name": "stdout",
          "text": [
            "Best Train Model on Training Data Metrics:\n",
            "  Accuracy: 90.20%\n",
            "  ROC AUC: 0.9020\n",
            "  Specificity: 0.9198\n",
            "  Sensitivity: 0.8841\n",
            "Best Train Model on Test Data Metrics:\n",
            "  Accuracy: 81.56%\n",
            "  ROC AUC: 0.8156\n",
            "  Specificity: 0.7821\n",
            "  Sensitivity: 0.8491\n",
            "Best Test Model on Loss on Training Data Metrics:\n",
            "  Accuracy: 90.20%\n",
            "  ROC AUC: 0.9020\n",
            "  Specificity: 0.9198\n",
            "  Sensitivity: 0.8841\n",
            "Best Test Model on Loss on Test Data Metrics:\n",
            "  Accuracy: 81.56%\n",
            "  ROC AUC: 0.8156\n",
            "  Specificity: 0.7821\n",
            "  Sensitivity: 0.8491\n",
            "Best Test Model on Accuracy on Training Data Metrics:\n",
            "  Accuracy: 90.20%\n",
            "  ROC AUC: 0.9020\n",
            "  Specificity: 0.9198\n",
            "  Sensitivity: 0.8841\n",
            "Best Test Model on Accuracy on Test Data Metrics:\n",
            "  Accuracy: 81.56%\n",
            "  ROC AUC: 0.8156\n",
            "  Specificity: 0.7821\n",
            "  Sensitivity: 0.8491\n"
          ]
        }
      ]
    },
    {
      "cell_type": "code",
      "source": [],
      "metadata": {
        "id": "xIJY6iFH8sZJ"
      },
      "execution_count": null,
      "outputs": []
    }
  ]
}