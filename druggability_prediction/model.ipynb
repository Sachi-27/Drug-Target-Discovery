{
 "cells": [
  {
   "cell_type": "code",
   "execution_count": 1,
   "metadata": {},
   "outputs": [],
   "source": [
    "import json \n",
    "import numpy as np\n",
    "import pandas as pd\n",
    "import matplotlib.pyplot as plt\n",
    "from scipy import stats"
   ]
  },
  {
   "cell_type": "code",
   "execution_count": 2,
   "metadata": {},
   "outputs": [
    {
     "data": {
      "text/plain": [
       "20427"
      ]
     },
     "execution_count": 2,
     "metadata": {},
     "output_type": "execute_result"
    }
   ],
   "source": [
    "# Protein properties file\n",
    "with open(\"../protein_properties/proteins.json\", \"r\") as f:\n",
    "    protein_properties = json.loads(f.read())\n",
    "\n",
    "len(protein_properties)"
   ]
  },
  {
   "cell_type": "code",
   "execution_count": 3,
   "metadata": {},
   "outputs": [
    {
     "data": {
      "text/plain": [
       "2652"
      ]
     },
     "execution_count": 3,
     "metadata": {},
     "output_type": "execute_result"
    }
   ],
   "source": [
    "# Read from protein's drugs information extracted from DrugBank\n",
    "with open(\"../drugbank/protein_drugbank.json\", \"r\") as f:\n",
    "    drugs = json.loads(f.read())\n",
    "\n",
    "druggable_prots = []\n",
    "for k, v in drugs.items():\n",
    "    for drug, info in v.items():\n",
    "        if(\"approved\" in info[1]):\n",
    "            druggable_prots.append(k)\n",
    "            break \n",
    "\n",
    "len(druggable_prots)"
   ]
  },
  {
   "cell_type": "markdown",
   "metadata": {},
   "source": [
    "#### Machine Learning Models"
   ]
  },
  {
   "cell_type": "code",
   "execution_count": 9,
   "metadata": {},
   "outputs": [],
   "source": [
    "import numpy as np\n",
    "from sklearn.preprocessing import StandardScaler\n",
    "from sklearn.svm import SVC\n",
    "from sklearn.linear_model import LogisticRegression\n",
    "from sklearn.neighbors import KNeighborsClassifier\n",
    "from sklearn.metrics import roc_auc_score, roc_curve\n",
    "from sklearn.metrics import accuracy_score, precision_score, recall_score, f1_score\n",
    "from sklearn.tree import DecisionTreeClassifier\n",
    "from sklearn.ensemble import RandomForestClassifier, AdaBoostClassifier"
   ]
  },
  {
   "cell_type": "code",
   "execution_count": 5,
   "metadata": {},
   "outputs": [],
   "source": [
    "# Here we will investigate all properties at once\n",
    "# Molar Extinction Coefficient, GRAVY, Isoelectric Point, Instability Index, Aromaticity, Sequence Length, Molecular Weight, Amino Acid Composition\n",
    "X_druggable = []\n",
    "X_non_druggable = []\n",
    "\n",
    "for prot, info in protein_properties.items():   \n",
    "    if prot in druggable_prots:\n",
    "        X_druggable.append([info['Molar Extinction Coefficient'][0], info[\"Molar Extinction Coefficient\"][1], info['GRAVY'], info['Isoelectric Point'], info['Instability Index'], info['Aromaticity'], info['Sequence Length'], info['Molecular Weight']] + list(info['Amino Acid Percent'].values()))\n",
    "    else:\n",
    "        X_non_druggable.append([info['Molar Extinction Coefficient'][0], info[\"Molar Extinction Coefficient\"][1], info['GRAVY'], info['Isoelectric Point'], info['Instability Index'], info['Aromaticity'], info['Sequence Length'], info['Molecular Weight']] + list(info['Amino Acid Percent'].values()))"
   ]
  },
  {
   "cell_type": "code",
   "execution_count": 6,
   "metadata": {},
   "outputs": [
    {
     "data": {
      "text/plain": [
       "((2652, 28), (17775, 28))"
      ]
     },
     "execution_count": 6,
     "metadata": {},
     "output_type": "execute_result"
    }
   ],
   "source": [
    "random_state = 42\n",
    "np.random.seed(random_state)\n",
    "\n",
    "X_druggable, X_non_druggable = np.array(X_druggable), np.array(X_non_druggable)\n",
    "\n",
    "np.random.shuffle(X_druggable)\n",
    "np.random.shuffle(X_non_druggable)\n",
    "\n",
    "X_druggable.shape, X_non_druggable.shape"
   ]
  },
  {
   "cell_type": "code",
   "execution_count": 7,
   "metadata": {},
   "outputs": [
    {
     "data": {
      "text/plain": [
       "((16341, 28), (16341,), (4086, 28), (4086,))"
      ]
     },
     "execution_count": 7,
     "metadata": {},
     "output_type": "execute_result"
    }
   ],
   "source": [
    "train_ratio = 0.8\n",
    "X_train = np.concatenate([X_druggable[:int(train_ratio * len(X_druggable))], X_non_druggable[:int(train_ratio * len(X_non_druggable))]], axis=0)\n",
    "X_test = np.concatenate([X_druggable[int(train_ratio * len(X_druggable)):], X_non_druggable[int(train_ratio * len(X_non_druggable)):]], axis=0)\n",
    "# labels\n",
    "y_train = np.concatenate([np.ones(int(train_ratio * len(X_druggable))), np.zeros(int(train_ratio * len(X_non_druggable)))], axis=0)\n",
    "y_test = np.concatenate([np.ones(len(X_druggable) - int(train_ratio * len(X_druggable))), np.zeros(len(X_non_druggable) - int(train_ratio * len(X_non_druggable)))], axis=0)\n",
    "\n",
    "# Shuffling the training data\n",
    "data = np.concatenate([X_train, y_train.reshape(-1, 1)], axis=1)\n",
    "np.random.shuffle(data)\n",
    "X_train, y_train = data[:, :-1], data[:, -1]\n",
    "\n",
    "# Printing the shapes of the training and testing data\n",
    "X_train.shape, y_train.shape, X_test.shape, y_test.shape"
   ]
  },
  {
   "cell_type": "code",
   "execution_count": 8,
   "metadata": {},
   "outputs": [],
   "source": [
    "scaler = StandardScaler()\n",
    "X_train = scaler.fit_transform(X_train)\n",
    "X_test = scaler.transform(X_test)"
   ]
  },
  {
   "cell_type": "code",
   "execution_count": 12,
   "metadata": {},
   "outputs": [],
   "source": [
    "clf1 = SVC(kernel='linear', probability=True, random_state=random_state)\n",
    "clf2 = SVC(kernel='rbf', probability=True, random_state=random_state)\n",
    "clf3 = SVC(kernel='poly', probability=True, random_state=random_state)\n",
    "\n",
    "clf4 = LogisticRegression(random_state=random_state)\n",
    "clf5 = KNeighborsClassifier(n_neighbors=5)\n",
    "\n",
    "clf6 = DecisionTreeClassifier(random_state=random_state)\n",
    "clf7 = RandomForestClassifier(random_state=random_state)\n",
    "\n",
    "clf8 = AdaBoostClassifier(random_state=random_state)"
   ]
  },
  {
   "cell_type": "code",
   "execution_count": 13,
   "metadata": {},
   "outputs": [
    {
     "name": "stdout",
     "output_type": "stream",
     "text": [
      "SVM Linear trained\n",
      "SVM RBF trained\n",
      "SVM Poly trained\n",
      "Logistic Regression trained\n",
      "KNN trained\n"
     ]
    }
   ],
   "source": [
    "clf1.fit(X_train, y_train)\n",
    "print(\"SVM Linear trained\")\n",
    "clf2.fit(X_train, y_train)\n",
    "print(\"SVM RBF trained\")\n",
    "clf3.fit(X_train, y_train)\n",
    "print(\"SVM Poly trained\")\n",
    "clf4.fit(X_train, y_train)\n",
    "print(\"Logistic Regression trained\")\n",
    "clf5.fit(X_train, y_train)\n",
    "print(\"KNN trained\")"
   ]
  },
  {
   "cell_type": "code",
   "execution_count": 14,
   "metadata": {},
   "outputs": [
    {
     "name": "stdout",
     "output_type": "stream",
     "text": [
      "Decision Tree trained\n",
      "Random Forest trained\n"
     ]
    }
   ],
   "source": [
    "clf6.fit(X_train, y_train)\n",
    "print(\"Decision Tree trained\")\n",
    "clf7.fit(X_train, y_train)\n",
    "print(\"Random Forest trained\")"
   ]
  },
  {
   "cell_type": "code",
   "execution_count": 15,
   "metadata": {},
   "outputs": [
    {
     "name": "stdout",
     "output_type": "stream",
     "text": [
      "AdaBoost trained\n"
     ]
    }
   ],
   "source": [
    "clf8.fit(X_train, y_train)\n",
    "print(\"AdaBoost trained\")"
   ]
  },
  {
   "cell_type": "code",
   "execution_count": 30,
   "metadata": {},
   "outputs": [],
   "source": [
    "def evaluate(y_test, y_pred):\n",
    "    print(\"Accuracy: \", accuracy_score(y_test, y_pred))\n",
    "    print(\"Precision: \", precision_score(y_test, y_pred))\n",
    "    print(\"Recall: \", recall_score(y_test, y_pred))\n",
    "    print(\"F1 Score: \", f1_score(y_test, y_pred))\n",
    "    print(\"ROC AUC Score: \", roc_auc_score(y_test, y_pred))\n",
    "\n",
    "    return accuracy_score(y_test, y_pred), precision_score(y_test, y_pred), recall_score(y_test, y_pred), f1_score(y_test, y_pred), roc_auc_score(y_test, y_pred)"
   ]
  },
  {
   "cell_type": "code",
   "execution_count": 22,
   "metadata": {},
   "outputs": [],
   "source": [
    "# Predict class\n",
    "y_pred1 = clf1.predict(X_test)\n",
    "y_pred2 = clf2.predict(X_test)\n",
    "y_pred3 = clf3.predict(X_test)\n",
    "y_pred4 = clf4.predict(X_test)\n",
    "y_pred5 = clf5.predict(X_test)\n",
    "y_pred6 = clf6.predict(X_test)\n",
    "y_pred7 = clf7.predict(X_test)\n",
    "y_pred8 = clf8.predict(X_test)"
   ]
  },
  {
   "cell_type": "code",
   "execution_count": 26,
   "metadata": {},
   "outputs": [
    {
     "data": {
      "text/plain": [
       "(531.0, 0.0, 3.0, 13.0, 5.0, 294.0, 584.0, 58.0, 49.0)"
      ]
     },
     "execution_count": 26,
     "metadata": {},
     "output_type": "execute_result"
    }
   ],
   "source": [
    "np.sum(y_test), np.sum(y_pred1), np.sum(y_pred2), np.sum(y_pred3), np.sum(y_pred4), np.sum(y_pred5), np.sum(y_pred6), np.sum(y_pred7), np.sum(y_pred8)"
   ]
  },
  {
   "cell_type": "code",
   "execution_count": 28,
   "metadata": {},
   "outputs": [
    {
     "name": "stdout",
     "output_type": "stream",
     "text": [
      "SVM Linear\n",
      "Accuracy:  0.8700440528634361\n",
      "Precision:  0.0\n",
      "Recall:  0.0\n",
      "F1 Score:  0.0\n",
      "ROC AUC Score:  0.5\n",
      "=====================================\n",
      "SVM RBF\n",
      "Accuracy:  0.8707782672540382\n",
      "Precision:  1.0\n",
      "Recall:  0.005649717514124294\n",
      "F1 Score:  0.011235955056179775\n",
      "ROC AUC Score:  0.5028248587570622\n",
      "=====================================\n",
      "SVM Poly\n",
      "Accuracy:  0.8707782672540382\n",
      "Precision:  0.6153846153846154\n",
      "Recall:  0.015065913370998116\n",
      "F1 Score:  0.029411764705882346\n",
      "ROC AUC Score:  0.506829721805049\n",
      "=====================================\n",
      "Logistic Regression\n",
      "Accuracy:  0.8688203622124328\n",
      "Precision:  0.0\n",
      "Recall:  0.0\n",
      "F1 Score:  0.0\n",
      "ROC AUC Score:  0.49929676511954996\n",
      "=====================================\n",
      "KNN\n",
      "Accuracy:  0.8710230053842388\n",
      "Precision:  0.5068027210884354\n",
      "Recall:  0.2806026365348399\n",
      "F1 Score:  0.3612121212121212\n",
      "ROC AUC Score:  0.6199075067343679\n",
      "=====================================\n",
      "Decision Tree\n",
      "Accuracy:  0.7980910425844346\n",
      "Precision:  0.2482876712328767\n",
      "Recall:  0.2730696798493409\n",
      "F1 Score:  0.26008968609865474\n",
      "ROC AUC Score:  0.5747908174211542\n",
      "=====================================\n",
      "Random Forest\n",
      "Accuracy:  0.8764072442486539\n",
      "Precision:  0.7241379310344828\n",
      "Recall:  0.07909604519774012\n",
      "F1 Score:  0.14261460101867574\n",
      "ROC AUC Score:  0.5372976709814298\n",
      "=====================================\n",
      "AdaBoost\n",
      "Accuracy:  0.8717572197748409\n",
      "Precision:  0.5714285714285714\n",
      "Recall:  0.05273069679849341\n",
      "F1 Score:  0.09655172413793103\n",
      "ROC AUC Score:  0.5234117619013565\n"
     ]
    },
    {
     "name": "stderr",
     "output_type": "stream",
     "text": [
      "/home/sachi/.local/lib/python3.10/site-packages/sklearn/metrics/_classification.py:1344: UndefinedMetricWarning: Precision is ill-defined and being set to 0.0 due to no predicted samples. Use `zero_division` parameter to control this behavior.\n",
      "  _warn_prf(average, modifier, msg_start, len(result))\n"
     ]
    }
   ],
   "source": [
    "print(\"SVM Linear\")\n",
    "evaluate(y_test, y_pred1)\n",
    "print(\"=====================================\")\n",
    "print(\"SVM RBF\")\n",
    "evaluate(y_test, y_pred2)\n",
    "print(\"=====================================\")\n",
    "print(\"SVM Poly\")\n",
    "evaluate(y_test, y_pred3)\n",
    "print(\"=====================================\")\n",
    "print(\"Logistic Regression\")\n",
    "evaluate(y_test, y_pred4)\n",
    "print(\"=====================================\")\n",
    "print(\"KNN\")\n",
    "evaluate(y_test, y_pred5)\n",
    "print(\"=====================================\")\n",
    "print(\"Decision Tree\")\n",
    "evaluate(y_test, y_pred6)\n",
    "print(\"=====================================\")\n",
    "print(\"Random Forest\")\n",
    "evaluate(y_test, y_pred7)\n",
    "print(\"=====================================\")\n",
    "print(\"AdaBoost\")\n",
    "evaluate(y_test, y_pred8)"
   ]
  },
  {
   "cell_type": "code",
   "execution_count": 31,
   "metadata": {},
   "outputs": [
    {
     "name": "stdout",
     "output_type": "stream",
     "text": [
      "Accuracy:  0.8700440528634361\n",
      "Precision:  0.0\n",
      "Recall:  0.0\n",
      "F1 Score:  0.0\n",
      "ROC AUC Score:  0.5\n",
      "Accuracy:  0.8707782672540382\n",
      "Precision:  1.0\n",
      "Recall:  0.005649717514124294\n",
      "F1 Score:  0.011235955056179775\n",
      "ROC AUC Score:  0.5028248587570622\n",
      "Accuracy:  0.8707782672540382\n",
      "Precision:  0.6153846153846154\n",
      "Recall:  0.015065913370998116\n",
      "F1 Score:  0.029411764705882346\n",
      "ROC AUC Score:  0.506829721805049\n",
      "Accuracy:  0.8688203622124328\n",
      "Precision:  0.0\n",
      "Recall:  0.0\n",
      "F1 Score:  0.0\n",
      "ROC AUC Score:  0.49929676511954996\n",
      "Accuracy:  0.8710230053842388\n",
      "Precision:  0.5068027210884354\n",
      "Recall:  0.2806026365348399\n",
      "F1 Score:  0.3612121212121212\n",
      "ROC AUC Score:  0.6199075067343679\n",
      "Accuracy:  0.7980910425844346\n",
      "Precision:  0.2482876712328767\n",
      "Recall:  0.2730696798493409\n",
      "F1 Score:  0.26008968609865474\n",
      "ROC AUC Score:  0.5747908174211542\n",
      "Accuracy:  0.8764072442486539\n",
      "Precision:  0.7241379310344828\n",
      "Recall:  0.07909604519774012\n",
      "F1 Score:  0.14261460101867574\n",
      "ROC AUC Score:  0.5372976709814298\n",
      "Accuracy:  0.8717572197748409\n",
      "Precision:  0.5714285714285714\n",
      "Recall:  0.05273069679849341\n",
      "F1 Score:  0.09655172413793103\n",
      "ROC AUC Score:  0.5234117619013565\n"
     ]
    },
    {
     "name": "stderr",
     "output_type": "stream",
     "text": [
      "/home/sachi/.local/lib/python3.10/site-packages/sklearn/metrics/_classification.py:1344: UndefinedMetricWarning: Precision is ill-defined and being set to 0.0 due to no predicted samples. Use `zero_division` parameter to control this behavior.\n",
      "  _warn_prf(average, modifier, msg_start, len(result))\n",
      "/home/sachi/.local/lib/python3.10/site-packages/sklearn/metrics/_classification.py:1344: UndefinedMetricWarning: Precision is ill-defined and being set to 0.0 due to no predicted samples. Use `zero_division` parameter to control this behavior.\n",
      "  _warn_prf(average, modifier, msg_start, len(result))\n"
     ]
    },
    {
     "data": {
      "text/html": [
       "<div>\n",
       "<style scoped>\n",
       "    .dataframe tbody tr th:only-of-type {\n",
       "        vertical-align: middle;\n",
       "    }\n",
       "\n",
       "    .dataframe tbody tr th {\n",
       "        vertical-align: top;\n",
       "    }\n",
       "\n",
       "    .dataframe thead th {\n",
       "        text-align: right;\n",
       "    }\n",
       "</style>\n",
       "<table border=\"1\" class=\"dataframe\">\n",
       "  <thead>\n",
       "    <tr style=\"text-align: right;\">\n",
       "      <th></th>\n",
       "      <th>Accuracy</th>\n",
       "      <th>Precision</th>\n",
       "      <th>Recall</th>\n",
       "      <th>F1 Score</th>\n",
       "      <th>ROC AUC Score</th>\n",
       "    </tr>\n",
       "  </thead>\n",
       "  <tbody>\n",
       "    <tr>\n",
       "      <th>SVM Linear</th>\n",
       "      <td>0.870044</td>\n",
       "      <td>0.0</td>\n",
       "      <td>0.0</td>\n",
       "      <td>0.0</td>\n",
       "      <td>0.5</td>\n",
       "    </tr>\n",
       "    <tr>\n",
       "      <th>SVM RBF</th>\n",
       "      <td>0.870778</td>\n",
       "      <td>1.0</td>\n",
       "      <td>0.00565</td>\n",
       "      <td>0.011236</td>\n",
       "      <td>0.502825</td>\n",
       "    </tr>\n",
       "    <tr>\n",
       "      <th>SVM Poly</th>\n",
       "      <td>0.870778</td>\n",
       "      <td>0.615385</td>\n",
       "      <td>0.015066</td>\n",
       "      <td>0.029412</td>\n",
       "      <td>0.50683</td>\n",
       "    </tr>\n",
       "    <tr>\n",
       "      <th>Logistic Regression</th>\n",
       "      <td>0.86882</td>\n",
       "      <td>0.0</td>\n",
       "      <td>0.0</td>\n",
       "      <td>0.0</td>\n",
       "      <td>0.499297</td>\n",
       "    </tr>\n",
       "    <tr>\n",
       "      <th>KNN</th>\n",
       "      <td>0.871023</td>\n",
       "      <td>0.506803</td>\n",
       "      <td>0.280603</td>\n",
       "      <td>0.361212</td>\n",
       "      <td>0.619908</td>\n",
       "    </tr>\n",
       "    <tr>\n",
       "      <th>Decision Tree</th>\n",
       "      <td>0.798091</td>\n",
       "      <td>0.248288</td>\n",
       "      <td>0.27307</td>\n",
       "      <td>0.26009</td>\n",
       "      <td>0.574791</td>\n",
       "    </tr>\n",
       "    <tr>\n",
       "      <th>Random Forest</th>\n",
       "      <td>0.876407</td>\n",
       "      <td>0.724138</td>\n",
       "      <td>0.079096</td>\n",
       "      <td>0.142615</td>\n",
       "      <td>0.537298</td>\n",
       "    </tr>\n",
       "    <tr>\n",
       "      <th>AdaBoost</th>\n",
       "      <td>0.871757</td>\n",
       "      <td>0.571429</td>\n",
       "      <td>0.052731</td>\n",
       "      <td>0.096552</td>\n",
       "      <td>0.523412</td>\n",
       "    </tr>\n",
       "  </tbody>\n",
       "</table>\n",
       "</div>"
      ],
      "text/plain": [
       "                     Accuracy Precision    Recall  F1 Score ROC AUC Score\n",
       "SVM Linear           0.870044       0.0       0.0       0.0           0.5\n",
       "SVM RBF              0.870778       1.0   0.00565  0.011236      0.502825\n",
       "SVM Poly             0.870778  0.615385  0.015066  0.029412       0.50683\n",
       "Logistic Regression   0.86882       0.0       0.0       0.0      0.499297\n",
       "KNN                  0.871023  0.506803  0.280603  0.361212      0.619908\n",
       "Decision Tree        0.798091  0.248288   0.27307   0.26009      0.574791\n",
       "Random Forest        0.876407  0.724138  0.079096  0.142615      0.537298\n",
       "AdaBoost             0.871757  0.571429  0.052731  0.096552      0.523412"
      ]
     },
     "execution_count": 31,
     "metadata": {},
     "output_type": "execute_result"
    }
   ],
   "source": [
    "# Draw a table of results, using pandas\n",
    "results = pd.DataFrame(columns=[\"Accuracy\", \"Precision\", \"Recall\", \"F1 Score\", \"ROC AUC Score\"], index=[\"SVM Linear\", \"SVM RBF\", \"SVM Poly\", \"Logistic Regression\", \"KNN\", \"Decision Tree\", \"Random Forest\", \"AdaBoost\"])\n",
    "results.loc[\"SVM Linear\"] = evaluate(y_test, y_pred1)\n",
    "results.loc[\"SVM RBF\"] = evaluate(y_test, y_pred2)\n",
    "results.loc[\"SVM Poly\"] = evaluate(y_test, y_pred3)\n",
    "results.loc[\"Logistic Regression\"] = evaluate(y_test, y_pred4)\n",
    "results.loc[\"KNN\"] = evaluate(y_test, y_pred5)\n",
    "results.loc[\"Decision Tree\"] = evaluate(y_test, y_pred6)\n",
    "results.loc[\"Random Forest\"] = evaluate(y_test, y_pred7)\n",
    "results.loc[\"AdaBoost\"] = evaluate(y_test, y_pred8)\n",
    "results"
   ]
  },
  {
   "cell_type": "code",
   "execution_count": null,
   "metadata": {},
   "outputs": [],
   "source": []
  }
 ],
 "metadata": {
  "kernelspec": {
   "display_name": "Python 3",
   "language": "python",
   "name": "python3"
  },
  "language_info": {
   "codemirror_mode": {
    "name": "ipython",
    "version": 3
   },
   "file_extension": ".py",
   "mimetype": "text/x-python",
   "name": "python",
   "nbconvert_exporter": "python",
   "pygments_lexer": "ipython3",
   "version": "3.10.12"
  }
 },
 "nbformat": 4,
 "nbformat_minor": 2
}
