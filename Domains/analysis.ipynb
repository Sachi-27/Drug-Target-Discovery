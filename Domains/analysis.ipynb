{
 "cells": [
  {
   "cell_type": "code",
   "execution_count": 8,
   "metadata": {},
   "outputs": [],
   "source": [
    "import json\n",
    "\n",
    "with open(\"../protein_properties/protein_props.json\") as f:\n",
    "        uniprot_human_proteins = list((json.load(f)).keys())"
   ]
  },
  {
   "cell_type": "code",
   "execution_count": 9,
   "metadata": {},
   "outputs": [
    {
     "data": {
      "text/plain": [
       "(20434, 20434)"
      ]
     },
     "execution_count": 9,
     "metadata": {},
     "output_type": "execute_result"
    }
   ],
   "source": [
    "with open(\"domains.json\") as f:\n",
    "    domains_data = json.load(f)\n",
    "\n",
    "len(uniprot_human_proteins), len(domains_data)"
   ]
  },
  {
   "cell_type": "code",
   "execution_count": 10,
   "metadata": {},
   "outputs": [
    {
     "data": {
      "text/plain": [
       "[{'type': 'Region',\n",
       "  'location': {'start': {'value': 1, 'modifier': 'EXACT'},\n",
       "   'end': {'value': 38, 'modifier': 'EXACT'}},\n",
       "  'description': 'Disordered',\n",
       "  'evidences': [{'evidenceCode': 'ECO:0000256',\n",
       "    'source': 'SAM',\n",
       "    'id': 'MobiDB-lite'}]},\n",
       " {'type': 'Compositional bias',\n",
       "  'location': {'start': {'value': 16, 'modifier': 'EXACT'},\n",
       "   'end': {'value': 38, 'modifier': 'EXACT'}},\n",
       "  'description': 'Basic and acidic residues',\n",
       "  'evidences': [{'evidenceCode': 'ECO:0000256',\n",
       "    'source': 'SAM',\n",
       "    'id': 'MobiDB-lite'}]}]"
      ]
     },
     "execution_count": 10,
     "metadata": {},
     "output_type": "execute_result"
    }
   ],
   "source": [
    "domains_data[\"A0A024R1R8\"]"
   ]
  },
  {
   "cell_type": "code",
   "execution_count": 11,
   "metadata": {},
   "outputs": [],
   "source": [
    "def is_num(x):\n",
    "    try:\n",
    "        y = int(x)\n",
    "        return True\n",
    "    except:\n",
    "        return False"
   ]
  },
  {
   "cell_type": "code",
   "execution_count": 12,
   "metadata": {},
   "outputs": [
    {
     "data": {
      "text/plain": [
       "False"
      ]
     },
     "execution_count": 12,
     "metadata": {},
     "output_type": "execute_result"
    }
   ],
   "source": [
    "is_num(\"102a\")"
   ]
  },
  {
   "cell_type": "code",
   "execution_count": 13,
   "metadata": {},
   "outputs": [
    {
     "data": {
      "text/plain": [
       "(6879, 6879)"
      ]
     },
     "execution_count": 13,
     "metadata": {},
     "output_type": "execute_result"
    }
   ],
   "source": [
    "unique_domains = set()\n",
    "frequency = {}\n",
    "for protein in domains_data:\n",
    "    for v in domains_data[protein]:\n",
    "        desc = v[\"description\"].lower()\n",
    "        if is_num(desc.split()[-1]):\n",
    "            desc = \" \".join(desc.split()[:-1])        \n",
    "        unique_domains.add(desc)\n",
    "        if desc in frequency:\n",
    "            frequency[desc] += 1\n",
    "        else:\n",
    "            frequency[desc] = 1\n",
    "\n",
    "len(unique_domains), len(frequency)"
   ]
  },
  {
   "cell_type": "code",
   "execution_count": 14,
   "metadata": {},
   "outputs": [],
   "source": [
    "with open(\"unique_domains.txt\", \"w\") as f:\n",
    "    f.write(\"\\n\".join(unique_domains))"
   ]
  },
  {
   "cell_type": "code",
   "execution_count": 15,
   "metadata": {},
   "outputs": [],
   "source": [
    "frequency = {k: v for k, v in sorted(frequency.items(), key=lambda item: item[1], reverse=True)}\n",
    "with open(\"unique_domains.csv\", \"w\") as f:\n",
    "    f.write(\"domain,frequency\\n\")\n",
    "    for k in frequency:\n",
    "        f.write(f\"{k}::{frequency[k]}\\n\")"
   ]
  },
  {
   "cell_type": "code",
   "execution_count": null,
   "metadata": {},
   "outputs": [],
   "source": []
  }
 ],
 "metadata": {
  "kernelspec": {
   "display_name": "base",
   "language": "python",
   "name": "python3"
  },
  "language_info": {
   "codemirror_mode": {
    "name": "ipython",
    "version": 3
   },
   "file_extension": ".py",
   "mimetype": "text/x-python",
   "name": "python",
   "nbconvert_exporter": "python",
   "pygments_lexer": "ipython3",
   "version": "3.11.4"
  }
 },
 "nbformat": 4,
 "nbformat_minor": 2
}
