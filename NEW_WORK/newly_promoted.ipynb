{
 "cells": [
  {
   "cell_type": "code",
   "execution_count": 2,
   "metadata": {},
   "outputs": [
    {
     "data": {
      "text/plain": [
       "(2233, 682, 2310, 766)"
      ]
     },
     "execution_count": 2,
     "metadata": {},
     "output_type": "execute_result"
    }
   ],
   "source": [
    "old_druggable_file_path = \"DRUG_INFO/druggable_proteins.txt\"\n",
    "old_investigational_file_path = \"DRUG_INFO/investigational_proteins.txt\"\n",
    "new_druggable_file_path = \"NEW_DRUG_INFO/druggable_proteins.txt\"\n",
    "new_investigational_file_path = \"NEW_DRUG_INFO/investigational_proteins.txt\"\n",
    "\n",
    "def get_protein_list(file_path):\n",
    "    with open(file_path, \"r\") as f:\n",
    "        return [line.strip() for line in f]\n",
    "\n",
    "old_druggable_proteins = get_protein_list(old_druggable_file_path)\n",
    "old_investigational_proteins = get_protein_list(old_investigational_file_path)\n",
    "new_druggable_proteins = get_protein_list(new_druggable_file_path)\n",
    "new_investigational_proteins = get_protein_list(new_investigational_file_path)\n",
    "len(old_druggable_proteins), len(old_investigational_proteins), len(new_druggable_proteins), len(new_investigational_proteins)"
   ]
  },
  {
   "cell_type": "code",
   "execution_count": 4,
   "metadata": {},
   "outputs": [
    {
     "name": "stdout",
     "output_type": "stream",
     "text": [
      "O96007\n",
      "P05120\n",
      "P09681\n",
      "Q01362\n"
     ]
    }
   ],
   "source": [
    "# all old druggable are in new druggable\n",
    "for protein in old_druggable_proteins:\n",
    "    if protein not in new_druggable_proteins:\n",
    "        print(protein)"
   ]
  },
  {
   "cell_type": "code",
   "execution_count": 6,
   "metadata": {},
   "outputs": [
    {
     "data": {
      "text/plain": [
       "(31, 81)"
      ]
     },
     "execution_count": 6,
     "metadata": {},
     "output_type": "execute_result"
    }
   ],
   "source": [
    "# newly druggable\n",
    "newly_druggable_proteins = [protein for protein in new_druggable_proteins if protein not in old_druggable_proteins]\n",
    "\n",
    "# of the newly druggable, how many are in the old investigational\n",
    "newly_druggable_in_old_investigational = [protein for protein in newly_druggable_proteins if protein in old_investigational_proteins]\n",
    "len(newly_druggable_in_old_investigational), len(newly_druggable_proteins)"
   ]
  },
  {
   "cell_type": "code",
   "execution_count": 8,
   "metadata": {},
   "outputs": [
    {
     "data": {
      "text/plain": [
       "115"
      ]
     },
     "execution_count": 8,
     "metadata": {},
     "output_type": "execute_result"
    }
   ],
   "source": [
    "newly_investigational_proteins = [protein for protein in new_investigational_proteins if protein not in old_investigational_proteins]\n",
    "len(newly_investigational_proteins)"
   ]
  },
  {
   "cell_type": "code",
   "execution_count": null,
   "metadata": {},
   "outputs": [],
   "source": []
  }
 ],
 "metadata": {
  "kernelspec": {
   "display_name": "base",
   "language": "python",
   "name": "python3"
  },
  "language_info": {
   "codemirror_mode": {
    "name": "ipython",
    "version": 3
   },
   "file_extension": ".py",
   "mimetype": "text/x-python",
   "name": "python",
   "nbconvert_exporter": "python",
   "pygments_lexer": "ipython3",
   "version": "3.11.4"
  }
 },
 "nbformat": 4,
 "nbformat_minor": 2
}
