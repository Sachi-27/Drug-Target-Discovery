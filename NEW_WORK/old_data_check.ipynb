{
 "cells": [
  {
   "cell_type": "markdown",
   "metadata": {},
   "source": [
    "#### CONSTRUCTION OF DRUG CLASS MAP"
   ]
  },
  {
   "cell_type": "code",
   "execution_count": 1,
   "metadata": {},
   "outputs": [
    {
     "data": {
      "text/html": [
       "<div>\n",
       "<style scoped>\n",
       "    .dataframe tbody tr th:only-of-type {\n",
       "        vertical-align: middle;\n",
       "    }\n",
       "\n",
       "    .dataframe tbody tr th {\n",
       "        vertical-align: top;\n",
       "    }\n",
       "\n",
       "    .dataframe thead th {\n",
       "        text-align: right;\n",
       "    }\n",
       "</style>\n",
       "<table border=\"1\" class=\"dataframe\">\n",
       "  <thead>\n",
       "    <tr style=\"text-align: right;\">\n",
       "      <th></th>\n",
       "      <th>Name</th>\n",
       "      <th>Gene Name</th>\n",
       "      <th>GenBank Protein ID</th>\n",
       "      <th>GenBank Gene ID</th>\n",
       "      <th>UniProt ID</th>\n",
       "      <th>Uniprot Title</th>\n",
       "      <th>PDB ID</th>\n",
       "      <th>GeneCard ID</th>\n",
       "      <th>GenAtlas ID</th>\n",
       "      <th>HGNC ID</th>\n",
       "      <th>Species</th>\n",
       "      <th>Drug IDs</th>\n",
       "    </tr>\n",
       "    <tr>\n",
       "      <th>ID</th>\n",
       "      <th></th>\n",
       "      <th></th>\n",
       "      <th></th>\n",
       "      <th></th>\n",
       "      <th></th>\n",
       "      <th></th>\n",
       "      <th></th>\n",
       "      <th></th>\n",
       "      <th></th>\n",
       "      <th></th>\n",
       "      <th></th>\n",
       "      <th></th>\n",
       "    </tr>\n",
       "  </thead>\n",
       "  <tbody>\n",
       "    <tr>\n",
       "      <th>1</th>\n",
       "      <td>Peptidoglycan synthase FtsI</td>\n",
       "      <td>ftsI</td>\n",
       "      <td>1574687.0</td>\n",
       "      <td>L42023</td>\n",
       "      <td>P45059</td>\n",
       "      <td>FTSI_HAEIN</td>\n",
       "      <td>NaN</td>\n",
       "      <td>NaN</td>\n",
       "      <td>NaN</td>\n",
       "      <td>NaN</td>\n",
       "      <td>Haemophilus influenzae (strain ATCC 51907 / DS...</td>\n",
       "      <td>DB00303</td>\n",
       "    </tr>\n",
       "    <tr>\n",
       "      <th>2</th>\n",
       "      <td>Histidine decarboxylase</td>\n",
       "      <td>HDC</td>\n",
       "      <td>32109.0</td>\n",
       "      <td>X54297</td>\n",
       "      <td>P19113</td>\n",
       "      <td>DCHS_HUMAN</td>\n",
       "      <td>4E1O</td>\n",
       "      <td>NaN</td>\n",
       "      <td>HDC</td>\n",
       "      <td>HGNC:4855</td>\n",
       "      <td>Humans</td>\n",
       "      <td>DB00114; DB00117</td>\n",
       "    </tr>\n",
       "    <tr>\n",
       "      <th>3</th>\n",
       "      <td>Glutaminase liver isoform, mitochondrial</td>\n",
       "      <td>GLS2</td>\n",
       "      <td>6650606.0</td>\n",
       "      <td>AF110330</td>\n",
       "      <td>Q9UI32</td>\n",
       "      <td>GLSL_HUMAN</td>\n",
       "      <td>4BQM</td>\n",
       "      <td>NaN</td>\n",
       "      <td>GLS2</td>\n",
       "      <td>HGNC:29570</td>\n",
       "      <td>Humans</td>\n",
       "      <td>DB00142</td>\n",
       "    </tr>\n",
       "    <tr>\n",
       "      <th>4</th>\n",
       "      <td>Coagulation factor XIII A chain</td>\n",
       "      <td>F13A1</td>\n",
       "      <td>182309.0</td>\n",
       "      <td>M22001</td>\n",
       "      <td>P00488</td>\n",
       "      <td>F13A_HUMAN</td>\n",
       "      <td>1EVU; 1EX0; 1F13; 1FIE; 1GGT; 1GGU; 1GGY; 1QRK...</td>\n",
       "      <td>NaN</td>\n",
       "      <td>F13A1</td>\n",
       "      <td>HGNC:3531</td>\n",
       "      <td>Humans</td>\n",
       "      <td>DB02340; DB11300; DB11311; DB11571; DB13151</td>\n",
       "    </tr>\n",
       "    <tr>\n",
       "      <th>5</th>\n",
       "      <td>Nitric oxide synthase, inducible</td>\n",
       "      <td>NOS2</td>\n",
       "      <td>292242.0</td>\n",
       "      <td>L09210</td>\n",
       "      <td>P35228</td>\n",
       "      <td>NOS2_HUMAN</td>\n",
       "      <td>1NSI; 2LL6; 2NSI; 3E7G; 3EJ8; 3HR4; 4CX7; 4NOS</td>\n",
       "      <td>NaN</td>\n",
       "      <td>NOS2A</td>\n",
       "      <td>HGNC:7873</td>\n",
       "      <td>Humans</td>\n",
       "      <td>DB00125; DB00155; DB00244; DB01017; DB01110; D...</td>\n",
       "    </tr>\n",
       "  </tbody>\n",
       "</table>\n",
       "</div>"
      ],
      "text/plain": [
       "                                        Name Gene Name  GenBank Protein ID  \\\n",
       "ID                                                                           \n",
       "1                Peptidoglycan synthase FtsI      ftsI           1574687.0   \n",
       "2                    Histidine decarboxylase       HDC             32109.0   \n",
       "3   Glutaminase liver isoform, mitochondrial      GLS2           6650606.0   \n",
       "4            Coagulation factor XIII A chain     F13A1            182309.0   \n",
       "5           Nitric oxide synthase, inducible      NOS2            292242.0   \n",
       "\n",
       "   GenBank Gene ID UniProt ID Uniprot Title  \\\n",
       "ID                                            \n",
       "1           L42023     P45059    FTSI_HAEIN   \n",
       "2           X54297     P19113    DCHS_HUMAN   \n",
       "3         AF110330     Q9UI32    GLSL_HUMAN   \n",
       "4           M22001     P00488    F13A_HUMAN   \n",
       "5           L09210     P35228    NOS2_HUMAN   \n",
       "\n",
       "                                               PDB ID  GeneCard ID  \\\n",
       "ID                                                                   \n",
       "1                                                 NaN          NaN   \n",
       "2                                                4E1O          NaN   \n",
       "3                                                4BQM          NaN   \n",
       "4   1EVU; 1EX0; 1F13; 1FIE; 1GGT; 1GGU; 1GGY; 1QRK...          NaN   \n",
       "5      1NSI; 2LL6; 2NSI; 3E7G; 3EJ8; 3HR4; 4CX7; 4NOS          NaN   \n",
       "\n",
       "   GenAtlas ID     HGNC ID                                            Species  \\\n",
       "ID                                                                              \n",
       "1          NaN         NaN  Haemophilus influenzae (strain ATCC 51907 / DS...   \n",
       "2          HDC   HGNC:4855                                             Humans   \n",
       "3         GLS2  HGNC:29570                                             Humans   \n",
       "4        F13A1   HGNC:3531                                             Humans   \n",
       "5        NOS2A   HGNC:7873                                             Humans   \n",
       "\n",
       "                                             Drug IDs  \n",
       "ID                                                     \n",
       "1                                             DB00303  \n",
       "2                                    DB00114; DB00117  \n",
       "3                                             DB00142  \n",
       "4         DB02340; DB11300; DB11311; DB11571; DB13151  \n",
       "5   DB00125; DB00155; DB00244; DB01017; DB01110; D...  "
      ]
     },
     "execution_count": 1,
     "metadata": {},
     "output_type": "execute_result"
    }
   ],
   "source": [
    "import pandas as pd\n",
    "\n",
    "file_paths = {\n",
    "    'all': 'UPDATED_DATA_OLD/all.csv',\n",
    "    'approved': 'UPDATED_DATA_OLD/approved.csv',\n",
    "    'biotech': 'UPDATED_DATA_OLD/biotech.csv',\n",
    "    'experimental': 'UPDATED_DATA_OLD/experimental.csv',\n",
    "    'illicit': 'UPDATED_DATA_OLD/illicit.csv',\n",
    "    'investigational': 'UPDATED_DATA_OLD/investigational.csv',\n",
    "    'nutraceutical': 'UPDATED_DATA_OLD/nutraceutical.csv',\n",
    "    'small_molecule': 'UPDATED_DATA_OLD/small_molecule.csv',\n",
    "    'withdrawn': 'UPDATED_DATA_OLD/withdrawn.csv'\n",
    "}\n",
    "\n",
    "target_data = {x: pd.read_csv(file_paths[x], index_col=0) for x in file_paths.keys()}\n",
    "\n",
    "target_data['all'].head()"
   ]
  },
  {
   "cell_type": "code",
   "execution_count": 2,
   "metadata": {},
   "outputs": [],
   "source": [
    "def get_drug_info(uniprot_id):\n",
    "    drugs = {}\n",
    "    for class_, data in target_data.items():\n",
    "        drugs[class_] = []\n",
    "        drug_lists = data[data[\"UniProt ID\"] == uniprot_id][\"Drug IDs\"].values\n",
    "        for dl in drug_lists:\n",
    "            drugs[class_].extend([x.strip() for x in dl.split(\";\")])\n",
    "    return drugs"
   ]
  },
  {
   "cell_type": "code",
   "execution_count": 3,
   "metadata": {},
   "outputs": [
    {
     "data": {
      "text/plain": [
       "{'all': ['DB00746',\n",
       "  'DB01370',\n",
       "  'DB01593',\n",
       "  'DB02235',\n",
       "  'DB02709',\n",
       "  'DB03754',\n",
       "  'DB04892',\n",
       "  'DB05088',\n",
       "  'DB05150',\n",
       "  'DB05846',\n",
       "  'DB05938',\n",
       "  'DB06782',\n",
       "  'DB09130',\n",
       "  'DB09148',\n",
       "  'DB09149',\n",
       "  'DB09151',\n",
       "  'DB12034',\n",
       "  'DB12274',\n",
       "  'DB14487',\n",
       "  'DB14517',\n",
       "  'DB14518',\n",
       "  'DB14533',\n",
       "  'DB14548',\n",
       "  'DB14580'],\n",
       " 'approved': ['DB00746',\n",
       "  'DB01370',\n",
       "  'DB01593',\n",
       "  'DB03754',\n",
       "  'DB06782',\n",
       "  'DB09130',\n",
       "  'DB09148',\n",
       "  'DB09149',\n",
       "  'DB09151',\n",
       "  'DB12274',\n",
       "  'DB14487',\n",
       "  'DB14517',\n",
       "  'DB14518',\n",
       "  'DB14533',\n",
       "  'DB14548',\n",
       "  'DB14580'],\n",
       " 'biotech': ['DB12034', 'DB12274', 'DB14580'],\n",
       " 'experimental': ['DB02235', 'DB14548'],\n",
       " 'illicit': [],\n",
       " 'investigational': ['DB00746',\n",
       "  'DB01370',\n",
       "  'DB01593',\n",
       "  'DB02709',\n",
       "  'DB04892',\n",
       "  'DB05088',\n",
       "  'DB05150',\n",
       "  'DB05846',\n",
       "  'DB05938',\n",
       "  'DB09130',\n",
       "  'DB09149',\n",
       "  'DB09151',\n",
       "  'DB12034',\n",
       "  'DB12274',\n",
       "  'DB14487',\n",
       "  'DB14517',\n",
       "  'DB14518',\n",
       "  'DB14533',\n",
       "  'DB14580'],\n",
       " 'nutraceutical': [],\n",
       " 'small_molecule': ['DB00746',\n",
       "  'DB01370',\n",
       "  'DB01593',\n",
       "  'DB02235',\n",
       "  'DB02709',\n",
       "  'DB03754',\n",
       "  'DB04892',\n",
       "  'DB05088',\n",
       "  'DB05150',\n",
       "  'DB05846',\n",
       "  'DB05938',\n",
       "  'DB06782',\n",
       "  'DB09130',\n",
       "  'DB09148',\n",
       "  'DB09149',\n",
       "  'DB09151',\n",
       "  'DB14487',\n",
       "  'DB14517',\n",
       "  'DB14518',\n",
       "  'DB14533',\n",
       "  'DB14548'],\n",
       " 'withdrawn': []}"
      ]
     },
     "execution_count": 3,
     "metadata": {},
     "output_type": "execute_result"
    }
   ],
   "source": [
    "get_drug_info(\"P05067\")"
   ]
  },
  {
   "cell_type": "markdown",
   "metadata": {},
   "source": [
    "### Points to establish\n",
    "\n",
    "1. Is it true that counts of number of drugs satisfy: all = biotech + nutraceutical + small_molecule?\n",
    "No, there can be intersections, because a small molecule can be nutraceutical. So all <= B+N+SM is true. Also, each drug in the all set must belong to atleast one of B,N and SM.\n"
   ]
  },
  {
   "cell_type": "code",
   "execution_count": 4,
   "metadata": {},
   "outputs": [
    {
     "name": "stdout",
     "output_type": "stream",
     "text": [
      "all: 24\n",
      "approved: 16\n",
      "biotech: 3\n",
      "experimental: 2\n",
      "illicit: 0\n",
      "investigational: 19\n",
      "nutraceutical: 0\n",
      "small_molecule: 21\n",
      "withdrawn: 0\n"
     ]
    }
   ],
   "source": [
    "drugs = get_drug_info(\"P05067\")\n",
    "for class_, drug_list in drugs.items():\n",
    "    print(f\"{class_}: {len(drug_list)}\")"
   ]
  },
  {
   "cell_type": "code",
   "execution_count": 5,
   "metadata": {},
   "outputs": [
    {
     "name": "stdout",
     "output_type": "stream",
     "text": [
      "Total proteins: 20434\n"
     ]
    }
   ],
   "source": [
    "import json \n",
    "\n",
    "with open(\"../protein_properties/protein_props.json\") as f:\n",
    "    protein_ids = list(json.load(f).keys())\n",
    "\n",
    "print(\"Total proteins:\", len(protein_ids))"
   ]
  },
  {
   "cell_type": "code",
   "execution_count": 6,
   "metadata": {},
   "outputs": [
    {
     "data": {
      "text/plain": [
       "{'all': ['DB00172'],\n",
       " 'approved': [],\n",
       " 'biotech': [],\n",
       " 'experimental': [],\n",
       " 'illicit': [],\n",
       " 'investigational': [],\n",
       " 'nutraceutical': ['DB00172'],\n",
       " 'small_molecule': ['DB00172'],\n",
       " 'withdrawn': []}"
      ]
     },
     "execution_count": 6,
     "metadata": {},
     "output_type": "execute_result"
    }
   ],
   "source": [
    "drugs = get_drug_info(\"O15460\")\n",
    "drugs"
   ]
  },
  {
   "cell_type": "code",
   "execution_count": 7,
   "metadata": {},
   "outputs": [],
   "source": [
    "drug_class_map = {}\n",
    "for pid in protein_ids:\n",
    "    drugs = get_drug_info(pid)\n",
    "    for class_, drug_list in drugs.items():\n",
    "        for drug in drug_list:\n",
    "            if drug not in drug_class_map:\n",
    "                drug_class_map[drug] = {}\n",
    "            if pid not in drug_class_map[drug]:\n",
    "                drug_class_map[drug][pid] = set([class_])\n",
    "            else:\n",
    "                drug_class_map[drug][pid].update([class_])"
   ]
  },
  {
   "cell_type": "markdown",
   "metadata": {},
   "source": [
    "Constructed drug class map as above. Note that the status of a drug the same across all of its targets. We have a total of 5954 drugs. DB12010 is the drug with largest number of targets = 303 human proteins"
   ]
  },
  {
   "cell_type": "code",
   "execution_count": 8,
   "metadata": {},
   "outputs": [],
   "source": [
    "# verify that the drug status is same across all its targets\n",
    "for drug, targets in drug_class_map.items():\n",
    "    status = list()\n",
    "    for target, classes in targets.items():\n",
    "        if classes not in status:\n",
    "            status.append(classes)\n",
    "    if len(status) > 1:\n",
    "        print(drug, status)"
   ]
  },
  {
   "cell_type": "code",
   "execution_count": 9,
   "metadata": {},
   "outputs": [],
   "source": [
    "# Simplifying drug class mapping\n",
    "drug_class_map_simple = {}\n",
    "for pid in protein_ids:\n",
    "    drugs = get_drug_info(pid)\n",
    "    for class_, drug_list in drugs.items():\n",
    "        for drug in drug_list:\n",
    "            if drug not in drug_class_map_simple:\n",
    "                drug_class_map_simple[drug] = set()\n",
    "            drug_class_map_simple[drug].add(class_)"
   ]
  },
  {
   "cell_type": "code",
   "execution_count": 10,
   "metadata": {},
   "outputs": [
    {
     "data": {
      "text/plain": [
       "5954"
      ]
     },
     "execution_count": 10,
     "metadata": {},
     "output_type": "execute_result"
    }
   ],
   "source": [
    "len(drug_class_map_simple)"
   ]
  },
  {
   "cell_type": "code",
   "execution_count": 11,
   "metadata": {},
   "outputs": [
    {
     "name": "stdout",
     "output_type": "stream",
     "text": [
      "DB00715 {'small_molecule', 'investigational', 'approved', 'all'}\n",
      "DB01049 {'small_molecule', 'approved', 'all'}\n",
      "DB01239 {'all', 'investigational', 'small_molecule', 'experimental', 'approved', 'withdrawn'}\n",
      "DB09304 {'small_molecule', 'experimental', 'all'}\n",
      "DB11273 {'small_molecule', 'approved', 'all'}\n"
     ]
    }
   ],
   "source": [
    "i = 0\n",
    "for drug, classes in drug_class_map_simple.items():\n",
    "    if i == 5: break \n",
    "    print(drug, classes)\n",
    "    i += 1"
   ]
  },
  {
   "cell_type": "code",
   "execution_count": 12,
   "metadata": {},
   "outputs": [
    {
     "data": {
      "text/plain": [
       "179"
      ]
     },
     "execution_count": 12,
     "metadata": {},
     "output_type": "execute_result"
    }
   ],
   "source": [
    "# number of drugs in approved and withdrawn or illicit\n",
    "dicy_drugs = [x for x in drug_class_map_simple.keys() if \"approved\" in drug_class_map_simple[x] and (\"withdrawn\" in drug_class_map_simple[x] or \"illicit\" in drug_class_map_simple[x])]\n",
    "len(dicy_drugs)"
   ]
  },
  {
   "cell_type": "code",
   "execution_count": 13,
   "metadata": {},
   "outputs": [],
   "source": [
    "# save drug info in json\n",
    "drug_class_map_simple = {k: list(v) for k, v in drug_class_map_simple.items()}\n",
    "with open(\"DRUG_INFO/druginfo_updated.json\", \"w\") as f:\n",
    "    json.dump(drug_class_map_simple, f, indent=4)"
   ]
  },
  {
   "cell_type": "markdown",
   "metadata": {},
   "source": [
    "#### PROTEIN DRUG MAP"
   ]
  },
  {
   "cell_type": "code",
   "execution_count": 13,
   "metadata": {},
   "outputs": [
    {
     "data": {
      "text/plain": [
       "2927"
      ]
     },
     "execution_count": 13,
     "metadata": {},
     "output_type": "execute_result"
    }
   ],
   "source": [
    "all_proteins = set()\n",
    "all_data = pd.read_csv(\"UPDATED_DATA_OLD/all.csv\", index_col=0)\n",
    "for pid in all_data[\"UniProt ID\"]:\n",
    "    if pid in protein_ids:\n",
    "        all_proteins.add(pid)\n",
    "len(all_proteins)"
   ]
  },
  {
   "cell_type": "code",
   "execution_count": 14,
   "metadata": {},
   "outputs": [
    {
     "data": {
      "text/plain": [
       "(20434,\n",
       " ['DB00746',\n",
       "  'DB01370',\n",
       "  'DB01593',\n",
       "  'DB02235',\n",
       "  'DB02709',\n",
       "  'DB03754',\n",
       "  'DB04892',\n",
       "  'DB05088',\n",
       "  'DB05150',\n",
       "  'DB05846',\n",
       "  'DB05938',\n",
       "  'DB06782',\n",
       "  'DB09130',\n",
       "  'DB09148',\n",
       "  'DB09149',\n",
       "  'DB09151',\n",
       "  'DB12034',\n",
       "  'DB12274',\n",
       "  'DB14487',\n",
       "  'DB14517',\n",
       "  'DB14518',\n",
       "  'DB14533',\n",
       "  'DB14548',\n",
       "  'DB14580'],\n",
       " ['DB11718', 'DB14904'])"
      ]
     },
     "execution_count": 14,
     "metadata": {},
     "output_type": "execute_result"
    }
   ],
   "source": [
    "protein_to_drug_map = {}\n",
    "for pid in protein_ids:\n",
    "    protein_to_drug_map[pid] = get_drug_info(pid)[\"all\"]\n",
    "\n",
    "len(protein_to_drug_map), protein_to_drug_map[\"P05067\"], protein_to_drug_map[\"P45985\"]"
   ]
  },
  {
   "cell_type": "code",
   "execution_count": 15,
   "metadata": {},
   "outputs": [],
   "source": [
    "with open(\"DRUG_INFO/protein_drug_map.json\", \"w\") as f:\n",
    "    json.dump(protein_to_drug_map, f, indent=4)"
   ]
  },
  {
   "cell_type": "markdown",
   "metadata": {},
   "source": [
    "#### CATEGORISATION"
   ]
  },
  {
   "cell_type": "code",
   "execution_count": 16,
   "metadata": {},
   "outputs": [],
   "source": [
    "import json \n",
    "\n",
    "with open(\"DRUG_INFO/protein_drug_map.json\") as f:\n",
    "    protein_to_drug_map = json.load(f)"
   ]
  },
  {
   "cell_type": "code",
   "execution_count": 17,
   "metadata": {},
   "outputs": [],
   "source": [
    "with open(\"DRUG_INFO/druginfo_updated.json\") as f:\n",
    "    drug_class_map_simple = json.load(f)"
   ]
  },
  {
   "cell_type": "code",
   "execution_count": 18,
   "metadata": {},
   "outputs": [
    {
     "data": {
      "text/plain": [
       "2915"
      ]
     },
     "execution_count": 18,
     "metadata": {},
     "output_type": "execute_result"
    }
   ],
   "source": [
    "proteins_with_drugs = []\n",
    "for protein, drugs in protein_to_drug_map.items():\n",
    "    old_length = len(drugs)\n",
    "    drugs = [x for x in drugs if ('illicit' not in drug_class_map_simple[x] and 'withdrawn' not in drug_class_map_simple[x])]\n",
    "    if len(drugs) > 0:\n",
    "        proteins_with_drugs.append(protein)\n",
    "len(proteins_with_drugs)"
   ]
  },
  {
   "cell_type": "code",
   "execution_count": 19,
   "metadata": {},
   "outputs": [
    {
     "data": {
      "text/plain": [
       "2233"
      ]
     },
     "execution_count": 19,
     "metadata": {},
     "output_type": "execute_result"
    }
   ],
   "source": [
    "approved_proteins = []\n",
    "for protein in proteins_with_drugs:\n",
    "    drugs = [x for x in protein_to_drug_map[protein] if ('illicit' not in drug_class_map_simple[x] and 'withdrawn' not in drug_class_map_simple[x])]\n",
    "    for drug in drugs:\n",
    "        if \"approved\" in drug_class_map_simple[drug]:\n",
    "            approved_proteins.append(protein)\n",
    "            break\n",
    "len(approved_proteins)"
   ]
  },
  {
   "cell_type": "code",
   "execution_count": 20,
   "metadata": {},
   "outputs": [
    {
     "name": "stdout",
     "output_type": "stream",
     "text": [
      "682\n"
     ]
    }
   ],
   "source": [
    "with open(\"DRUG_INFO/druggable_proteins.txt\", \"w\") as f:\n",
    "    for protein in approved_proteins:\n",
    "        f.write(protein + \"\\n\")\n",
    "\n",
    "investigational_proteins = [x for x in proteins_with_drugs if x not in approved_proteins]\n",
    "print(len(investigational_proteins))\n",
    "\n",
    "with open(\"DRUG_INFO/investigational_proteins.txt\", \"w\") as f:\n",
    "    for protein in investigational_proteins:\n",
    "        f.write(protein + \"\\n\")"
   ]
  },
  {
   "cell_type": "code",
   "execution_count": 25,
   "metadata": {},
   "outputs": [
    {
     "name": "stdout",
     "output_type": "stream",
     "text": [
      "728 53 71\n"
     ]
    }
   ],
   "source": [
    "small_molecule, biotech, nutraceutical = set(), set(), set()\n",
    "for protein in investigational_proteins:\n",
    "    drugs = [x for x in protein_to_drug_map[protein] if ('illicit' not in drug_class_map_simple[x] and 'withdrawn' not in drug_class_map_simple[x])]\n",
    "    for drug in drugs:\n",
    "        if \"small_molecule\" in drug_class_map_simple[drug]:\n",
    "            small_molecule.add(protein)\n",
    "        if \"biotech\" in drug_class_map_simple[drug]:\n",
    "            biotech.add(protein)\n",
    "        if \"nutraceutical\" in drug_class_map_simple[drug]:\n",
    "            nutraceutical.add(protein)\n",
    "\n",
    "print(len(small_molecule), len(biotech), len(nutraceutical))"
   ]
  },
  {
   "cell_type": "code",
   "execution_count": 23,
   "metadata": {},
   "outputs": [
    {
     "name": "stdout",
     "output_type": "stream",
     "text": [
      "Requirement already satisfied: matplotlib-venn in /home/aria/anaconda3/lib/python3.11/site-packages (1.1.1)\n",
      "Requirement already satisfied: matplotlib in /home/aria/anaconda3/lib/python3.11/site-packages (from matplotlib-venn) (3.7.5)\n",
      "Requirement already satisfied: numpy in /home/aria/anaconda3/lib/python3.11/site-packages (from matplotlib-venn) (1.24.3)\n",
      "Requirement already satisfied: scipy in /home/aria/anaconda3/lib/python3.11/site-packages (from matplotlib-venn) (1.10.1)\n",
      "Requirement already satisfied: contourpy>=1.0.1 in /home/aria/anaconda3/lib/python3.11/site-packages (from matplotlib->matplotlib-venn) (1.0.5)\n",
      "Requirement already satisfied: cycler>=0.10 in /home/aria/anaconda3/lib/python3.11/site-packages (from matplotlib->matplotlib-venn) (0.11.0)\n",
      "Requirement already satisfied: fonttools>=4.22.0 in /home/aria/anaconda3/lib/python3.11/site-packages (from matplotlib->matplotlib-venn) (4.25.0)\n",
      "Requirement already satisfied: kiwisolver>=1.0.1 in /home/aria/anaconda3/lib/python3.11/site-packages (from matplotlib->matplotlib-venn) (1.4.4)\n",
      "Requirement already satisfied: packaging>=20.0 in /home/aria/anaconda3/lib/python3.11/site-packages (from matplotlib->matplotlib-venn) (23.0)\n",
      "Requirement already satisfied: pillow>=6.2.0 in /home/aria/anaconda3/lib/python3.11/site-packages (from matplotlib->matplotlib-venn) (9.4.0)\n",
      "Requirement already satisfied: pyparsing>=2.3.1 in /home/aria/anaconda3/lib/python3.11/site-packages (from matplotlib->matplotlib-venn) (3.0.9)\n",
      "Requirement already satisfied: python-dateutil>=2.7 in /home/aria/anaconda3/lib/python3.11/site-packages (from matplotlib->matplotlib-venn) (2.8.2)\n",
      "Requirement already satisfied: six>=1.5 in /home/aria/anaconda3/lib/python3.11/site-packages (from python-dateutil>=2.7->matplotlib->matplotlib-venn) (1.16.0)\n"
     ]
    }
   ],
   "source": [
    "!pip install matplotlib-venn"
   ]
  },
  {
   "cell_type": "code",
   "execution_count": 26,
   "metadata": {},
   "outputs": [
    {
     "data": {
      "image/png": "[encoded data removed]",
      "text/plain": [
       "<Figure size 640x480 with 1 Axes>"
      ]
     },
     "metadata": {},
     "output_type": "display_data"
    }
   ],
   "source": [
    "# draw a venn diagram of counts\n",
    "import matplotlib.pyplot as plt\n",
    "from matplotlib_venn import venn3\n",
    "\n",
    "venn3([small_molecule, biotech, nutraceutical], ('Small Molecule', 'Biotech', 'Nutraceutical'))\n",
    "\n",
    "# high definition images\n",
    "plt.savefig(\"NEW_DRUG_INFO/investigational_venn.png\", dpi=300)"
   ]
  },
  {
   "cell_type": "markdown",
   "metadata": {},
   "source": [
    "#### EXTRA WORK"
   ]
  },
  {
   "cell_type": "code",
   "execution_count": 96,
   "metadata": {},
   "outputs": [],
   "source": [
    "pharmacologically_active_data = pd.read_csv(\"data/pharmacologically_active.csv\", index_col=0)\n",
    "drug_pharmacological_map = {}\n",
    "for row in pharmacologically_active_data.iterrows():\n",
    "    if row[1][\"UniProt ID\"] not in protein_ids:\n",
    "        continue\n",
    "    drugs = [x.strip() for x in row[1][\"Drug IDs\"].split(\";\")]\n",
    "    for drug in drugs:\n",
    "        if drug not in drug_pharmacological_map:\n",
    "            drug_pharmacological_map[drug] = set([row[1][\"UniProt ID\"]])\n",
    "        else:\n",
    "            drug_pharmacological_map[drug].add(row[1][\"UniProt ID\"])"
   ]
  },
  {
   "cell_type": "code",
   "execution_count": 98,
   "metadata": {},
   "outputs": [
    {
     "data": {
      "text/plain": [
       "1948"
      ]
     },
     "execution_count": 98,
     "metadata": {},
     "output_type": "execute_result"
    }
   ],
   "source": [
    "len(drug_pharmacological_map)"
   ]
  },
  {
   "cell_type": "code",
   "execution_count": 104,
   "metadata": {},
   "outputs": [
    {
     "data": {
      "text/plain": [
       "({'P00451',\n",
       "  'P00488',\n",
       "  'P02671',\n",
       "  'P02675',\n",
       "  'P02679',\n",
       "  'P03951',\n",
       "  'P05160',\n",
       "  'P12259'},\n",
       " {'P00451',\n",
       "  'P00488',\n",
       "  'P02671',\n",
       "  'P02675',\n",
       "  'P02679',\n",
       "  'P03951',\n",
       "  'P05160',\n",
       "  'P12259',\n",
       "  'P25116',\n",
       "  'Q96RI0'})"
      ]
     },
     "execution_count": 104,
     "metadata": {},
     "output_type": "execute_result"
    }
   ],
   "source": [
    "drug_pharmacological_map[\"DB11300\"], set(drug_class_map[\"DB11300\"].keys())"
   ]
  },
  {
   "cell_type": "code",
   "execution_count": null,
   "metadata": {},
   "outputs": [],
   "source": []
  }
 ],
 "metadata": {
  "kernelspec": {
   "display_name": "base",
   "language": "python",
   "name": "python3"
  },
  "language_info": {
   "codemirror_mode": {
    "name": "ipython",
    "version": 3
   },
   "file_extension": ".py",
   "mimetype": "text/x-python",
   "name": "python",
   "nbconvert_exporter": "python",
   "pygments_lexer": "ipython3",
   "version": "3.11.4"
  }
 },
 "nbformat": 4,
 "nbformat_minor": 2
}
