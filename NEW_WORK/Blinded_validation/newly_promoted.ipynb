{
 "cells": [
  {
   "cell_type": "code",
   "execution_count": 1,
   "metadata": {},
   "outputs": [
    {
     "data": {
      "text/plain": [
       "(2233, 682, 2310, 766)"
      ]
     },
     "execution_count": 1,
     "metadata": {},
     "output_type": "execute_result"
    }
   ],
   "source": [
    "old_druggable_file_path = \"../DRUG_INFO/druggable_proteins.txt\"\n",
    "old_investigational_file_path = \"../DRUG_INFO/investigational_proteins.txt\"\n",
    "new_druggable_file_path = \"../NEW_DRUG_INFO/druggable_proteins.txt\"\n",
    "new_investigational_file_path = \"../NEW_DRUG_INFO/investigational_proteins.txt\"\n",
    "\n",
    "def get_protein_list(file_path):\n",
    "    with open(file_path, \"r\") as f:\n",
    "        return [line.strip() for line in f]\n",
    "\n",
    "old_druggable_proteins = get_protein_list(old_druggable_file_path)\n",
    "old_investigational_proteins = get_protein_list(old_investigational_file_path)\n",
    "new_druggable_proteins = get_protein_list(new_druggable_file_path)\n",
    "new_investigational_proteins = get_protein_list(new_investigational_file_path)\n",
    "len(old_druggable_proteins), len(old_investigational_proteins), len(new_druggable_proteins), len(new_investigational_proteins)"
   ]
  },
  {
   "cell_type": "code",
   "execution_count": 2,
   "metadata": {},
   "outputs": [
    {
     "name": "stdout",
     "output_type": "stream",
     "text": [
      "O96007\n",
      "P05120\n",
      "P09681\n",
      "Q01362\n"
     ]
    }
   ],
   "source": [
    "# all old druggable are in new druggable\n",
    "for protein in old_druggable_proteins:\n",
    "    if protein not in new_druggable_proteins:\n",
    "        print(protein)"
   ]
  },
  {
   "cell_type": "code",
   "execution_count": 3,
   "metadata": {},
   "outputs": [
    {
     "data": {
      "text/plain": [
       "(31, 81)"
      ]
     },
     "execution_count": 3,
     "metadata": {},
     "output_type": "execute_result"
    }
   ],
   "source": [
    "# newly druggable\n",
    "newly_druggable_proteins = [protein for protein in new_druggable_proteins if protein not in old_druggable_proteins]\n",
    "\n",
    "# of the newly druggable, how many are in the old investigational\n",
    "newly_druggable_in_old_investigational = [protein for protein in newly_druggable_proteins if protein in old_investigational_proteins]\n",
    "len(newly_druggable_in_old_investigational), len(newly_druggable_proteins)"
   ]
  },
  {
   "cell_type": "code",
   "execution_count": 4,
   "metadata": {},
   "outputs": [
    {
     "data": {
      "text/plain": [
       "115"
      ]
     },
     "execution_count": 4,
     "metadata": {},
     "output_type": "execute_result"
    }
   ],
   "source": [
    "newly_investigational_proteins = [protein for protein in new_investigational_proteins if protein not in old_investigational_proteins]\n",
    "len(newly_investigational_proteins)"
   ]
  },
  {
   "cell_type": "code",
   "execution_count": 10,
   "metadata": {},
   "outputs": [],
   "source": [
    "import pandas as pd \n",
    "rf_di_investigational = pd.read_csv(\"RF_DI_investigational.csv\", index_col=0)[['Mean_Probability', 'Majority_Prediction']]\n",
    "rf_di_non_druggable = pd.read_csv(\"RF_DI_non_druggable.csv\", index_col=0)[['Mean_Probability', 'Majority_Prediction']]\n",
    "xgb_di_investigational = pd.read_csv(\"XGB_DI_investigational.csv\", index_col=0)[['Mean_Probability', 'Majority_Prediction']]\n",
    "xgb_di_non_druggable = pd.read_csv(\"XGB_DI_non_druggable.csv\", index_col=0)[['Mean_Probability', 'Majority_Prediction']]"
   ]
  },
  {
   "cell_type": "code",
   "execution_count": 17,
   "metadata": {},
   "outputs": [],
   "source": [
    "newly_druggable_scores = {}\n",
    "for protein in newly_druggable_proteins:\n",
    "    if protein in newly_druggable_in_old_investigational:\n",
    "        assert protein in rf_di_investigational.index\n",
    "        assert protein in xgb_di_investigational.index\n",
    "        newly_druggable_scores[protein] = {\n",
    "            'RF_Mean_Probability': rf_di_investigational.loc[protein, 'Mean_Probability'],\n",
    "            'RF_Majority_Prediction': rf_di_investigational.loc[protein, 'Majority_Prediction'],\n",
    "            'XGB_Mean_Probability': xgb_di_investigational.loc[protein, 'Mean_Probability'],\n",
    "            'XGB_Majority_Prediction': xgb_di_investigational.loc[protein, 'Majority_Prediction'],\n",
    "            'earlier': 'investigational'\n",
    "        }\n",
    "    else:\n",
    "        assert protein in rf_di_non_druggable.index\n",
    "        assert protein in xgb_di_non_druggable.index\n",
    "        newly_druggable_scores[protein] = {\n",
    "            'RF_Mean_Probability': rf_di_non_druggable.loc[protein, 'Mean_Probability'],\n",
    "            'RF_Majority_Prediction': rf_di_non_druggable.loc[protein, 'Majority_Prediction'],\n",
    "            'XGB_Mean_Probability': xgb_di_non_druggable.loc[protein, 'Mean_Probability'],\n",
    "            'XGB_Majority_Prediction': xgb_di_non_druggable.loc[protein, 'Majority_Prediction'],\n",
    "            'earlier': 'non_druggable'\n",
    "        }\n"
   ]
  },
  {
   "cell_type": "code",
   "execution_count": 18,
   "metadata": {},
   "outputs": [],
   "source": [
    "newly_druggable_scores = pd.DataFrame(newly_druggable_scores).T\n",
    "newly_druggable_scores.to_csv(\"newly_druggable_scores.csv\")"
   ]
  },
  {
   "cell_type": "code",
   "execution_count": 20,
   "metadata": {},
   "outputs": [
    {
     "name": "stdout",
     "output_type": "stream",
     "text": [
      "P05120\n"
     ]
    }
   ],
   "source": [
    "# sanity checks on newly_investigational_proteins\n",
    "for protein in newly_investigational_proteins:\n",
    "    if protein in old_druggable_proteins:\n",
    "        print(protein)"
   ]
  },
  {
   "cell_type": "code",
   "execution_count": 21,
   "metadata": {},
   "outputs": [],
   "source": [
    "# sanity checks on old_investigational_proteins\n",
    "for protein in old_investigational_proteins:\n",
    "    if protein in new_druggable_proteins or protein in new_investigational_proteins:\n",
    "        continue\n",
    "    else:\n",
    "        print(protein)"
   ]
  },
  {
   "cell_type": "code",
   "execution_count": 22,
   "metadata": {},
   "outputs": [],
   "source": [
    "newly_investigational_scores = {}\n",
    "for protein in newly_investigational_proteins:\n",
    "    if protein == \"P05120\": continue\n",
    "    assert protein in rf_di_non_druggable.index\n",
    "    assert protein in xgb_di_non_druggable.index\n",
    "    newly_investigational_scores[protein] = {\n",
    "        'RF_Mean_Probability': rf_di_non_druggable.loc[protein, 'Mean_Probability'],\n",
    "        'RF_Majority_Prediction': rf_di_non_druggable.loc[protein, 'Majority_Prediction'],\n",
    "        'XGB_Mean_Probability': xgb_di_non_druggable.loc[protein, 'Mean_Probability'],\n",
    "        'XGB_Majority_Prediction': xgb_di_non_druggable.loc[protein, 'Majority_Prediction'],\n",
    "    }\n",
    "\n",
    "newly_investigational_scores = pd.DataFrame(newly_investigational_scores).T\n",
    "newly_investigational_scores.to_csv(\"newly_investigational_scores.csv\")"
   ]
  },
  {
   "cell_type": "code",
   "execution_count": null,
   "metadata": {},
   "outputs": [],
   "source": []
  }
 ],
 "metadata": {
  "kernelspec": {
   "display_name": "base",
   "language": "python",
   "name": "python3"
  },
  "language_info": {
   "codemirror_mode": {
    "name": "ipython",
    "version": 3
   },
   "file_extension": ".py",
   "mimetype": "text/x-python",
   "name": "python",
   "nbconvert_exporter": "python",
   "pygments_lexer": "ipython3",
   "version": "3.11.4"
  }
 },
 "nbformat": 4,
 "nbformat_minor": 2
}
