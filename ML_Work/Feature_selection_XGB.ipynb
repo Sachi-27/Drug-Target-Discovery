{
  "nbformat": 4,
  "nbformat_minor": 0,
  "metadata": {
    "colab": {
      "provenance": []
    },
    "kernelspec": {
      "name": "python3",
      "display_name": "Python 3"
    },
    "language_info": {
      "name": "python"
    }
  },
  "cells": [
    {
      "cell_type": "code",
      "execution_count": 2,
      "metadata": {
        "colab": {
          "base_uri": "https://localhost:8080/"
        },
        "id": "aQjc9zrHADBD",
        "outputId": "a6f745f8-a95f-4a87-ba5c-4d981ee9d6bf"
      },
      "outputs": [
        {
          "output_type": "stream",
          "name": "stdout",
          "text": [
            "Mounted at /content/drive\n"
          ]
        }
      ],
      "source": [
        "# Mount google drive at /content/drive\n",
        "from google.colab import drive\n",
        "drive.mount('/content/drive')"
      ]
    },
    {
      "cell_type": "code",
      "source": [
        "# Set seeds\n",
        "import numpy as np\n",
        "import tensorflow as tf\n",
        "from sklearn.preprocessing import StandardScaler\n",
        "import json\n",
        "import pandas as pd\n",
        "np.random.seed(42)\n",
        "tf.random.set_seed(42)"
      ],
      "metadata": {
        "id": "oDq4fXrPr55V"
      },
      "execution_count": 4,
      "outputs": []
    },
    {
      "cell_type": "code",
      "source": [
        "# Fetching PCP properties of druggable and non-druggable proteins\n",
        "data_file_path = \"/content/drive/MyDrive/protein_props/features/protein_props.json\"\n",
        "druggable_proteins_file_path = \"/content/drive/MyDrive/protein_props/druggable_proteins.txt\"\n",
        "approved_druggable_proteins_file_path = \"/content/drive/MyDrive/protein_props/approved_druggable_proteins.txt\"\n",
        "\n",
        "with open(data_file_path, 'r') as f:\n",
        "    protein_data = json.load(f)\n",
        "\n",
        "print(\"Total number of uniprot human verified proteins:\", len(protein_data))\n",
        "\n",
        "with open(druggable_proteins_file_path, 'r') as f:\n",
        "    druggable_proteins = f.read().splitlines()\n",
        "\n",
        "with open(approved_druggable_proteins_file_path, 'r') as f:\n",
        "    approved_druggable_proteins = f.read().splitlines()\n",
        "\n",
        "print(\"Number of druggable proteins:\", len(druggable_proteins))\n",
        "print(\"Number of approved druggable proteins:\", len(approved_druggable_proteins))\n",
        "\n",
        "\n",
        "\n",
        "\n",
        "properties = (pd.read_json(\"/content/drive/MyDrive/protein_props/features/protein_props.json\")).transpose()\n",
        "is_druggable = [1 if i in druggable_proteins else 0 for i in properties.index]\n",
        "is_approved_druggable = [1 if i in approved_druggable_proteins else 0 for i in properties.index]\n",
        "\n",
        "properties[\"is_druggable\"] = is_druggable\n",
        "properties[\"is_approved_druggable\"] = is_approved_druggable\n",
        "\n",
        "PCP_properties = properties.copy()\n",
        "amino_acids = 'ACDEFGHIKLMNPQRSTVWY'\n",
        "amino_acid_percent = {i:[] for i in amino_acids}\n",
        "for i in PCP_properties['Amino Acid Percent']:\n",
        "  for aa in amino_acids:\n",
        "    amino_acid_percent[aa].append(i[aa])\n",
        "for aa in amino_acids:\n",
        "  PCP_properties = pd.concat([PCP_properties, pd.Series(amino_acid_percent[aa], index = PCP_properties.index, name = f\"Amino Acid Percent {aa}\")], axis = 1)\n",
        "\n",
        "PCP_properties[f\"Molar Extinction Coefficient 1\"] = pd.Series([x[0] for x in PCP_properties['Molar Extinction Coefficient']], index = PCP_properties.index)\n",
        "PCP_properties[f\"Molar Extinction Coefficient 2\"] = pd.Series([x[1] for x in PCP_properties['Molar Extinction Coefficient']], index = PCP_properties.index)\n",
        "\n",
        "PCP_properties[f\"Secondary Structure helix\"] = pd.Series([x[0] for x in PCP_properties['Secondary Structure']], index = PCP_properties.index)\n",
        "PCP_properties[f\"Secondary Structure turn\"] = pd.Series([x[1] for x in PCP_properties['Secondary Structure']], index = PCP_properties.index)\n",
        "PCP_properties[f\"Secondary Structure sheet\"] = pd.Series([x[2] for x in PCP_properties['Secondary Structure']], index = PCP_properties.index)\n",
        "\n",
        "PCP_properties.drop(columns = ['Amino Acid Count','Amino Acid Percent',\"Molar Extinction Coefficient\",\"Flexibility\",\"Secondary Structure\",'Sequence'], inplace = True)\n",
        "PCP_properties['Sequence Length'] = PCP_properties['Sequence Length'].astype(int)\n",
        "PCP_properties[['Molecular Weight', 'GRAVY', 'Isoelectric Point', 'Instability Index', 'Aromaticity', 'Charge at 7']] = PCP_properties[['Molecular Weight', 'GRAVY', 'Isoelectric Point', 'Instability Index', 'Aromaticity', 'Charge at 7']].astype(float)\n",
        "\n",
        "with open(\"/content/drive/MyDrive/protein_props/features/gdpc_encodings.json\", 'r') as file:\n",
        "    data = json.load(file)\n",
        "gpdc_encodings = pd.DataFrame(data).transpose()\n",
        "\n",
        "ppi = pd.read_json(\"/content/drive/MyDrive/protein_props/features/ppi.json\").transpose()\n",
        "ppi_network = pd.read_csv(\"/content/drive/MyDrive/protein_props/features/ppi_network_properties.csv\")\n",
        "ppi_network.index = ppi_network['Unnamed: 0']\n",
        "ppi_network.drop(columns = ['Unnamed: 0'], inplace = True)\n",
        "ppi = pd.concat([ppi, ppi_network], axis = 1)\n",
        "\n",
        "glycolisation = pd.read_csv(\"/content/drive/MyDrive/protein_props/features/glycosylation.csv\")\n",
        "glycolisation.index = glycolisation['Unnamed: 0']\n",
        "glycolisation.drop(columns = ['Unnamed: 0'], inplace = True)\n",
        "ptm = pd.read_csv(\"/content/drive/MyDrive/protein_props/features/PTM_counts.csv\")\n",
        "ptm.index = ptm[\"Unnamed: 0\"]\n",
        "ptm.drop(columns = ['Unnamed: 0'], inplace = True)\n",
        "ptm_counts = pd.concat([ptm, glycolisation], axis = 1)\n",
        "\n",
        "with open(\"/content/drive/MyDrive/protein_props/features/subcellular_locations2.json\", 'r') as file:\n",
        "    data = json.load(file)\n",
        "unique_groups = set()\n",
        "for entry in data.values():\n",
        "    if \"general\" in entry:\n",
        "        for general_entry in entry[\"general\"]:\n",
        "            if \"group\" in general_entry: unique_groups.add(general_entry[\"group\"])\n",
        "\n",
        "unique_groups_list = list(unique_groups)\n",
        "\n",
        "rows = []\n",
        "for protein_id in PCP_properties.index:\n",
        "    row = {group: 0 for group in unique_groups_list}\n",
        "    if protein_id in data:\n",
        "        for entry in data[protein_id].get(\"general\", []):\n",
        "            if \"group\" in entry and entry[\"group\"] in unique_groups:\n",
        "                row[entry[\"group\"]] = 1\n",
        "    row[\"protein_id\"] = protein_id\n",
        "    rows.append(row)\n",
        "\n",
        "subcellular_data = pd.DataFrame(rows).set_index(\"protein_id\")\n",
        "\n",
        "domains = pd.read_csv(\"/content/drive/MyDrive/protein_props/features/data_top20_updated.csv\")\n",
        "domains.index = domains['Unnamed: 0']\n",
        "domains.drop(columns = ['Unnamed: 0'], inplace = True)\n",
        "\n",
        "flexibility = pd.read_csv(\"/content/drive/MyDrive/protein_props/features/flexibility_properties.csv\")\n",
        "flexibility.index = flexibility['Unnamed: 0']\n",
        "flexibility.drop(columns = ['Unnamed: 0'], inplace = True)\n",
        "\n",
        "latent_data = pd.read_csv(\"/content/drive/MyDrive/protein_props/features/latent_values.csv\").transpose()\n",
        "latent_data.columns = [f\"Latent_Value_{i+1}\" for i in latent_data.columns]\n",
        "final_data = pd.concat([PCP_properties,gpdc_encodings, ptm_counts, ppi, subcellular_data, domains, flexibility, latent_data], axis = 1).dropna()\n",
        "features_list = final_data.columns\n",
        "features_list = features_list.drop(['is_druggable','is_approved_druggable'])\n",
        "features_list = list(features_list)\n",
        "print(features_list)\n",
        "print(len(features_list))\n"
      ],
      "metadata": {
        "colab": {
          "base_uri": "https://localhost:8080/"
        },
        "id": "DWpMSiGBAJZP",
        "outputId": "bf494edb-466b-4f07-f4ae-1de776e312fa"
      },
      "execution_count": 15,
      "outputs": [
        {
          "output_type": "stream",
          "name": "stdout",
          "text": [
            "Total number of uniprot human verified proteins: 20434\n",
            "Number of druggable proteins: 3345\n",
            "Number of approved druggable proteins: 2652\n",
            "['Sequence Length', 'Molecular Weight', 'GRAVY', 'Isoelectric Point', 'Instability Index', 'Aromaticity', 'Charge at 7', 'Amino Acid Percent A', 'Amino Acid Percent C', 'Amino Acid Percent D', 'Amino Acid Percent E', 'Amino Acid Percent F', 'Amino Acid Percent G', 'Amino Acid Percent H', 'Amino Acid Percent I', 'Amino Acid Percent K', 'Amino Acid Percent L', 'Amino Acid Percent M', 'Amino Acid Percent N', 'Amino Acid Percent P', 'Amino Acid Percent Q', 'Amino Acid Percent R', 'Amino Acid Percent S', 'Amino Acid Percent T', 'Amino Acid Percent V', 'Amino Acid Percent W', 'Amino Acid Percent Y', 'Molar Extinction Coefficient 1', 'Molar Extinction Coefficient 2', 'Secondary Structure helix', 'Secondary Structure turn', 'Secondary Structure sheet', 'aliphatic_aliphatic', 'aliphatic_positive', 'aliphatic_negative', 'aliphatic_uncharged', 'aliphatic_aromatic', 'positive_aliphatic', 'positive_positive', 'positive_negative', 'positive_uncharged', 'positive_aromatic', 'negative_aliphatic', 'negative_positive', 'negative_negative', 'negative_uncharged', 'negative_aromatic', 'uncharged_aliphatic', 'uncharged_positive', 'uncharged_negative', 'uncharged_uncharged', 'uncharged_aromatic', 'aromatic_aliphatic', 'aromatic_positive', 'aromatic_negative', 'aromatic_uncharged', 'aromatic_aromatic', 'Glycosylation', 'Cross-link', 'Modified residue', 'Signal', 'Disulfide bond', 'O-linked', 'N-linked', 'C-linked', 'N-beta-linked', 'S-linked', 'O-alpha-linked', 'binary_count', 'binary_experimental_count', 'xeno_count', 'xeno_experimental_count', 'degree_binary', 'degree_xeno', 'degree_all', 'avg_degree_nbr_binary', 'avg_degree_nbr_xeno', 'avg_degree_nbr_all', 'strongly_connected_component_sizes_all', 'midbody', 'cell projection', 'chromosome', 'cell junction', 'secreted', 'inflammasome', 'sarcoplasmic reticulum', 'lysosome', 'cell membrane', 'extracellular vessicle', 'membrane', 'target cell membrane', 'endosome', 'lipid droplet', 'nucleus', 'vacuole', 'zymogen granule', 'vesicle', 'cleavage furrow', 'photoreceptor', 'preautophagosomal structure', 'early endosome', 'dynein axonemal particle', 'golgo apparatus', 'lateral cell membrane', 'melanosome', 'cytoplasmic vesicle', 'virion', 'peroxisome', 'cytoplasmic granule', 'perikaryon', 'myelin membrane', 'rough endoplasmic reticulum', 'vacuole membrane', 'late endosome', 'postsynapse', 'cytoplasm', 'endoplasmic reticulum', 'smooth endoplasmic reticulum membrane', 'cell surface', 'golgi outpost', 'parasitophorous vacuole', 'cytolitic granule', 'mitochondrion', 'microsome', 'recycling endosome', 'synapse', 'presynapse', 'cornified envelope', 'endomembrane system', 'rrm', 'acidic residues', 'ph', 'krab', 'pdz', 'btb', 'nuclear localization signal', 'fibronectin type-iii', 'disordered', 'ig-like v-type', 'ef-hand', 'sh3', 'ig-like', 'pro residues', 'protein kinase', 'ig-like c2-type', 'basic and acidic residues', 'basic residues', 'egf-like', 'polar residues', 'Mean', 'Mode', 'Min', 'Max', 'Variance', 'Median', 'Standard Deviation', 'Range', 'Min gap', 'Max gap', 'Average gap', 'Min 2-hop gap', 'Max 2-hop gap', 'Average 2-hop gap', 'Latent_Value_1', 'Latent_Value_2', 'Latent_Value_3', 'Latent_Value_4', 'Latent_Value_5', 'Latent_Value_6', 'Latent_Value_7', 'Latent_Value_8', 'Latent_Value_9', 'Latent_Value_10', 'Latent_Value_11', 'Latent_Value_12', 'Latent_Value_13', 'Latent_Value_14', 'Latent_Value_15', 'Latent_Value_16', 'Latent_Value_17', 'Latent_Value_18', 'Latent_Value_19', 'Latent_Value_20']\n",
            "183\n"
          ]
        }
      ]
    },
    {
      "cell_type": "code",
      "source": [
        "#for splitting of data\n",
        "from sklearn.model_selection import train_test_split\n",
        "from sklearn.utils import shuffle\n",
        "from sklearn.preprocessing import StandardScaler, MinMaxScaler\n",
        "from imblearn.over_sampling import ADASYN, SMOTE\n",
        "\n",
        "def data_splitting(x_sample, y_sample, mode=\"default\", scaler=\"none\"):\n",
        "  druggable_indices = (y_sample == 1)  # Assuming 1 represents druggable\n",
        "  non_druggable_indices = (y_sample == 0)  # Assuming 0 represents non-druggable\n",
        "\n",
        "  druggable_X = x_sample[druggable_indices]\n",
        "  druggable_y = y_sample[druggable_indices]\n",
        "\n",
        "  non_druggable_X = x_sample[non_druggable_indices]\n",
        "  non_druggable_y = y_sample[non_druggable_indices]\n",
        "\n",
        "  class_size = 600\n",
        "  druggable_X_remaining, druggable_X_test, druggable_y_remaining, druggable_y_test = train_test_split(druggable_X, druggable_y, test_size=class_size, random_state=123)\n",
        "  non_druggable_X_remaining, non_druggable_X_test, non_druggable_y_remaining, non_druggable_y_test = train_test_split(non_druggable_X, non_druggable_y, test_size= class_size, random_state=123)\n",
        "\n",
        "  X_test = pd.concat((druggable_X_test, non_druggable_X_test))\n",
        "  y_test = pd.concat((druggable_y_test, non_druggable_y_test))\n",
        "  X_train = pd.concat((druggable_X_remaining, non_druggable_X_remaining))\n",
        "  y_train = pd.concat((druggable_y_remaining, non_druggable_y_remaining))\n",
        "  X_train, y_train = shuffle(X_train, y_train, random_state=123)\n",
        "  if mode == \"default\":\n",
        "    pass\n",
        "  elif mode == \"adasyn\":\n",
        "    ada = ADASYN(random_state=42)\n",
        "    X_train, y_train = ada.fit_resample(X_train, y_train)\n",
        "  elif mode == \"smote\":\n",
        "    smt = SMOTE(random_state=42)\n",
        "    X_train, y_train = smt.fit_resample(X_train, y_train)\n",
        "\n",
        "  if scaler == \"std\":\n",
        "    scaler = StandardScaler()\n",
        "    X_train = scaler.fit_transform(X_train)\n",
        "    X_test = scaler.transform(X_test)\n",
        "  elif scaler == \"minmax\":\n",
        "    scaler = MinMaxScaler()\n",
        "    X_train = scaler.fit_transform(X_train)\n",
        "    X_test = scaler.transform(X_test)\n",
        "  elif scaler == \"none\":\n",
        "    pass\n",
        "\n",
        "  return X_train, X_test, y_train, y_test\n"
      ],
      "metadata": {
        "id": "OEAjsH6Al1j4"
      },
      "execution_count": 32,
      "outputs": []
    },
    {
      "cell_type": "code",
      "source": [
        "X_train, X_test, y_train, y_test = data_splitting(final_data[features_list], final_data['is_druggable'])\n",
        "X_train.shape, X_test.shape, y_train.shape, y_test.shape"
      ],
      "metadata": {
        "id": "S9AHTc6f2rll",
        "colab": {
          "base_uri": "https://localhost:8080/"
        },
        "outputId": "e39aee7d-e19a-4787-aa82-e5c51d582ae5"
      },
      "execution_count": 33,
      "outputs": [
        {
          "output_type": "execute_result",
          "data": {
            "text/plain": [
              "((19073, 183), (1200, 183), (19073,), (1200,))"
            ]
          },
          "metadata": {},
          "execution_count": 33
        }
      ]
    },
    {
      "cell_type": "code",
      "source": [
        "import numpy as np\n",
        "np.bincount(y_train), np.bincount(y_test)"
      ],
      "metadata": {
        "colab": {
          "base_uri": "https://localhost:8080/"
        },
        "id": "abN2nMtUOAoe",
        "outputId": "c4410d07-430c-4181-e375-f06ed030c1f0"
      },
      "execution_count": 53,
      "outputs": [
        {
          "output_type": "execute_result",
          "data": {
            "text/plain": [
              "(array([16349,  2724]), array([600, 600]))"
            ]
          },
          "metadata": {},
          "execution_count": 53
        }
      ]
    },
    {
      "cell_type": "markdown",
      "source": [
        "### Experimentation to understand the sensitivity of XGBoost"
      ],
      "metadata": {
        "id": "g787gYLQQmCx"
      }
    },
    {
      "cell_type": "code",
      "source": [
        "# XGBOOST Model\n",
        "import xgboost as xgb\n",
        "xgb_model = xgb.XGBClassifier(objective='binary:logistic', random_state=27)\n",
        "xgb_model.fit(X_train, y_train)"
      ],
      "metadata": {
        "colab": {
          "base_uri": "https://localhost:8080/",
          "height": 248
        },
        "id": "Nh8eYeA1JBcm",
        "outputId": "cdd38d0c-798a-4ac7-e7fa-9b7ac53ab109"
      },
      "execution_count": 46,
      "outputs": [
        {
          "output_type": "execute_result",
          "data": {
            "text/plain": [
              "XGBClassifier(base_score=None, booster=None, callbacks=None,\n",
              "              colsample_bylevel=None, colsample_bynode=None,\n",
              "              colsample_bytree=None, device=None, early_stopping_rounds=None,\n",
              "              enable_categorical=False, eval_metric=None, feature_types=None,\n",
              "              gamma=None, grow_policy=None, importance_type=None,\n",
              "              interaction_constraints=None, learning_rate=None, max_bin=None,\n",
              "              max_cat_threshold=None, max_cat_to_onehot=None,\n",
              "              max_delta_step=None, max_depth=None, max_leaves=None,\n",
              "              min_child_weight=None, missing=nan, monotone_constraints=None,\n",
              "              multi_strategy=None, n_estimators=None, n_jobs=None,\n",
              "              num_parallel_tree=None, random_state=27, ...)"
            ],
            "text/html": [
              "<style>#sk-container-id-8 {color: black;background-color: white;}#sk-container-id-8 pre{padding: 0;}#sk-container-id-8 div.sk-toggleable {background-color: white;}#sk-container-id-8 label.sk-toggleable__label {cursor: pointer;display: block;width: 100%;margin-bottom: 0;padding: 0.3em;box-sizing: border-box;text-align: center;}#sk-container-id-8 label.sk-toggleable__label-arrow:before {content: \"▸\";float: left;margin-right: 0.25em;color: #696969;}#sk-container-id-8 label.sk-toggleable__label-arrow:hover:before {color: black;}#sk-container-id-8 div.sk-estimator:hover label.sk-toggleable__label-arrow:before {color: black;}#sk-container-id-8 div.sk-toggleable__content {max-height: 0;max-width: 0;overflow: hidden;text-align: left;background-color: #f0f8ff;}#sk-container-id-8 div.sk-toggleable__content pre {margin: 0.2em;color: black;border-radius: 0.25em;background-color: #f0f8ff;}#sk-container-id-8 input.sk-toggleable__control:checked~div.sk-toggleable__content {max-height: 200px;max-width: 100%;overflow: auto;}#sk-container-id-8 input.sk-toggleable__control:checked~label.sk-toggleable__label-arrow:before {content: \"▾\";}#sk-container-id-8 div.sk-estimator input.sk-toggleable__control:checked~label.sk-toggleable__label {background-color: #d4ebff;}#sk-container-id-8 div.sk-label input.sk-toggleable__control:checked~label.sk-toggleable__label {background-color: #d4ebff;}#sk-container-id-8 input.sk-hidden--visually {border: 0;clip: rect(1px 1px 1px 1px);clip: rect(1px, 1px, 1px, 1px);height: 1px;margin: -1px;overflow: hidden;padding: 0;position: absolute;width: 1px;}#sk-container-id-8 div.sk-estimator {font-family: monospace;background-color: #f0f8ff;border: 1px dotted black;border-radius: 0.25em;box-sizing: border-box;margin-bottom: 0.5em;}#sk-container-id-8 div.sk-estimator:hover {background-color: #d4ebff;}#sk-container-id-8 div.sk-parallel-item::after {content: \"\";width: 100%;border-bottom: 1px solid gray;flex-grow: 1;}#sk-container-id-8 div.sk-label:hover label.sk-toggleable__label {background-color: #d4ebff;}#sk-container-id-8 div.sk-serial::before {content: \"\";position: absolute;border-left: 1px solid gray;box-sizing: border-box;top: 0;bottom: 0;left: 50%;z-index: 0;}#sk-container-id-8 div.sk-serial {display: flex;flex-direction: column;align-items: center;background-color: white;padding-right: 0.2em;padding-left: 0.2em;position: relative;}#sk-container-id-8 div.sk-item {position: relative;z-index: 1;}#sk-container-id-8 div.sk-parallel {display: flex;align-items: stretch;justify-content: center;background-color: white;position: relative;}#sk-container-id-8 div.sk-item::before, #sk-container-id-8 div.sk-parallel-item::before {content: \"\";position: absolute;border-left: 1px solid gray;box-sizing: border-box;top: 0;bottom: 0;left: 50%;z-index: -1;}#sk-container-id-8 div.sk-parallel-item {display: flex;flex-direction: column;z-index: 1;position: relative;background-color: white;}#sk-container-id-8 div.sk-parallel-item:first-child::after {align-self: flex-end;width: 50%;}#sk-container-id-8 div.sk-parallel-item:last-child::after {align-self: flex-start;width: 50%;}#sk-container-id-8 div.sk-parallel-item:only-child::after {width: 0;}#sk-container-id-8 div.sk-dashed-wrapped {border: 1px dashed gray;margin: 0 0.4em 0.5em 0.4em;box-sizing: border-box;padding-bottom: 0.4em;background-color: white;}#sk-container-id-8 div.sk-label label {font-family: monospace;font-weight: bold;display: inline-block;line-height: 1.2em;}#sk-container-id-8 div.sk-label-container {text-align: center;}#sk-container-id-8 div.sk-container {/* jupyter's `normalize.less` sets `[hidden] { display: none; }` but bootstrap.min.css set `[hidden] { display: none !important; }` so we also need the `!important` here to be able to override the default hidden behavior on the sphinx rendered scikit-learn.org. See: https://github.com/scikit-learn/scikit-learn/issues/21755 */display: inline-block !important;position: relative;}#sk-container-id-8 div.sk-text-repr-fallback {display: none;}</style><div id=\"sk-container-id-8\" class=\"sk-top-container\"><div class=\"sk-text-repr-fallback\"><pre>XGBClassifier(base_score=None, booster=None, callbacks=None,\n",
              "              colsample_bylevel=None, colsample_bynode=None,\n",
              "              colsample_bytree=None, device=None, early_stopping_rounds=None,\n",
              "              enable_categorical=False, eval_metric=None, feature_types=None,\n",
              "              gamma=None, grow_policy=None, importance_type=None,\n",
              "              interaction_constraints=None, learning_rate=None, max_bin=None,\n",
              "              max_cat_threshold=None, max_cat_to_onehot=None,\n",
              "              max_delta_step=None, max_depth=None, max_leaves=None,\n",
              "              min_child_weight=None, missing=nan, monotone_constraints=None,\n",
              "              multi_strategy=None, n_estimators=None, n_jobs=None,\n",
              "              num_parallel_tree=None, random_state=27, ...)</pre><b>In a Jupyter environment, please rerun this cell to show the HTML representation or trust the notebook. <br />On GitHub, the HTML representation is unable to render, please try loading this page with nbviewer.org.</b></div><div class=\"sk-container\" hidden><div class=\"sk-item\"><div class=\"sk-estimator sk-toggleable\"><input class=\"sk-toggleable__control sk-hidden--visually\" id=\"sk-estimator-id-8\" type=\"checkbox\" checked><label for=\"sk-estimator-id-8\" class=\"sk-toggleable__label sk-toggleable__label-arrow\">XGBClassifier</label><div class=\"sk-toggleable__content\"><pre>XGBClassifier(base_score=None, booster=None, callbacks=None,\n",
              "              colsample_bylevel=None, colsample_bynode=None,\n",
              "              colsample_bytree=None, device=None, early_stopping_rounds=None,\n",
              "              enable_categorical=False, eval_metric=None, feature_types=None,\n",
              "              gamma=None, grow_policy=None, importance_type=None,\n",
              "              interaction_constraints=None, learning_rate=None, max_bin=None,\n",
              "              max_cat_threshold=None, max_cat_to_onehot=None,\n",
              "              max_delta_step=None, max_depth=None, max_leaves=None,\n",
              "              min_child_weight=None, missing=nan, monotone_constraints=None,\n",
              "              multi_strategy=None, n_estimators=None, n_jobs=None,\n",
              "              num_parallel_tree=None, random_state=27, ...)</pre></div></div></div></div></div>"
            ]
          },
          "metadata": {},
          "execution_count": 46
        }
      ]
    },
    {
      "cell_type": "code",
      "source": [
        "y_pred = xgb_model.predict(X_test)\n",
        "print(\"Accuracy_total:\", xgb_model.score(X_test, y_test))\n",
        "print(\"Accuracy_druggable:\", xgb_model.score(X_test[y_test == 1], y_test[y_test == 1]))\n",
        "print(\"Accuracy_non-druggable:\", xgb_model.score(X_test[y_test == 0], y_test[y_test == 0]))"
      ],
      "metadata": {
        "colab": {
          "base_uri": "https://localhost:8080/"
        },
        "id": "v-BH_-4gJMBz",
        "outputId": "b3836cc7-a4b6-4e22-a850-6737315bf405"
      },
      "execution_count": 47,
      "outputs": [
        {
          "output_type": "stream",
          "name": "stdout",
          "text": [
            "Accuracy_total: 0.6358333333333334\n",
            "Accuracy_druggable: 0.305\n",
            "Accuracy_non-druggable: 0.9666666666666667\n"
          ]
        }
      ]
    },
    {
      "cell_type": "code",
      "source": [
        "print(\"Training_Accuracy_total:\", xgb_model.score(X_train, y_train))\n",
        "print(\"Training_Accuracy_druggable:\", xgb_model.score(X_train[y_train == 1], y_train[y_train == 1]))\n",
        "print(\"Training_Accuracy_non-druggable:\", xgb_model.score(X_train[y_train == 0], y_train[y_train == 0]))"
      ],
      "metadata": {
        "colab": {
          "base_uri": "https://localhost:8080/"
        },
        "id": "DpP9nS0pJy9o",
        "outputId": "dad38038-1457-4720-ee48-261ea6ae9ad9"
      },
      "execution_count": 48,
      "outputs": [
        {
          "output_type": "stream",
          "name": "stdout",
          "text": [
            "Training_Accuracy_total: 0.9929219315262413\n",
            "Training_Accuracy_druggable: 0.9515418502202643\n",
            "Training_Accuracy_non-druggable: 0.9998165025383815\n"
          ]
        }
      ]
    },
    {
      "cell_type": "code",
      "source": [
        "xgb_model2 = xgb.XGBClassifier(objective='binary:logistic', random_state=27)\n",
        "# cross validate\n",
        "from sklearn.model_selection import cross_val_score\n",
        "scores = cross_val_score(xgb_model2, X_train, y_train, cv=5)\n",
        "print(\"Cross-validation scores:\", scores)"
      ],
      "metadata": {
        "colab": {
          "base_uri": "https://localhost:8080/"
        },
        "id": "llID40tCKaLR",
        "outputId": "d1885d23-5ae8-4270-caeb-91c8ca709795"
      },
      "execution_count": 49,
      "outputs": [
        {
          "output_type": "stream",
          "name": "stdout",
          "text": [
            "Cross-validation scores: [0.87260813 0.87916121 0.87365662 0.8765076  0.87860514]\n"
          ]
        }
      ]
    },
    {
      "cell_type": "code",
      "source": [
        "xgb_model3 = xgb.XGBClassifier(objective='binary:logistic', random_state=27)\n",
        "scores = cross_val_score(xgb_model3, X_test, y_test, cv=5)\n",
        "print(\"Cross-validation scores:\", scores)"
      ],
      "metadata": {
        "colab": {
          "base_uri": "https://localhost:8080/"
        },
        "id": "sYY3OFf2K_Zh",
        "outputId": "ac998879-b680-4097-8b1f-3c981aa600b9"
      },
      "execution_count": 50,
      "outputs": [
        {
          "output_type": "stream",
          "name": "stdout",
          "text": [
            "Cross-validation scores: [0.7125     0.70416667 0.75416667 0.70416667 0.69583333]\n"
          ]
        }
      ]
    },
    {
      "cell_type": "code",
      "source": [
        "xgb_model4 = xgb.XGBClassifier(objective='binary:logistic', random_state=27)\n",
        "xgb_model4.fit(X_test, y_test)\n"
      ],
      "metadata": {
        "colab": {
          "base_uri": "https://localhost:8080/",
          "height": 248
        },
        "id": "j30wuSyKLH30",
        "outputId": "25888227-8f4e-4000-cadd-3190b9425165"
      },
      "execution_count": 51,
      "outputs": [
        {
          "output_type": "execute_result",
          "data": {
            "text/plain": [
              "XGBClassifier(base_score=None, booster=None, callbacks=None,\n",
              "              colsample_bylevel=None, colsample_bynode=None,\n",
              "              colsample_bytree=None, device=None, early_stopping_rounds=None,\n",
              "              enable_categorical=False, eval_metric=None, feature_types=None,\n",
              "              gamma=None, grow_policy=None, importance_type=None,\n",
              "              interaction_constraints=None, learning_rate=None, max_bin=None,\n",
              "              max_cat_threshold=None, max_cat_to_onehot=None,\n",
              "              max_delta_step=None, max_depth=None, max_leaves=None,\n",
              "              min_child_weight=None, missing=nan, monotone_constraints=None,\n",
              "              multi_strategy=None, n_estimators=None, n_jobs=None,\n",
              "              num_parallel_tree=None, random_state=27, ...)"
            ],
            "text/html": [
              "<style>#sk-container-id-9 {color: black;background-color: white;}#sk-container-id-9 pre{padding: 0;}#sk-container-id-9 div.sk-toggleable {background-color: white;}#sk-container-id-9 label.sk-toggleable__label {cursor: pointer;display: block;width: 100%;margin-bottom: 0;padding: 0.3em;box-sizing: border-box;text-align: center;}#sk-container-id-9 label.sk-toggleable__label-arrow:before {content: \"▸\";float: left;margin-right: 0.25em;color: #696969;}#sk-container-id-9 label.sk-toggleable__label-arrow:hover:before {color: black;}#sk-container-id-9 div.sk-estimator:hover label.sk-toggleable__label-arrow:before {color: black;}#sk-container-id-9 div.sk-toggleable__content {max-height: 0;max-width: 0;overflow: hidden;text-align: left;background-color: #f0f8ff;}#sk-container-id-9 div.sk-toggleable__content pre {margin: 0.2em;color: black;border-radius: 0.25em;background-color: #f0f8ff;}#sk-container-id-9 input.sk-toggleable__control:checked~div.sk-toggleable__content {max-height: 200px;max-width: 100%;overflow: auto;}#sk-container-id-9 input.sk-toggleable__control:checked~label.sk-toggleable__label-arrow:before {content: \"▾\";}#sk-container-id-9 div.sk-estimator input.sk-toggleable__control:checked~label.sk-toggleable__label {background-color: #d4ebff;}#sk-container-id-9 div.sk-label input.sk-toggleable__control:checked~label.sk-toggleable__label {background-color: #d4ebff;}#sk-container-id-9 input.sk-hidden--visually {border: 0;clip: rect(1px 1px 1px 1px);clip: rect(1px, 1px, 1px, 1px);height: 1px;margin: -1px;overflow: hidden;padding: 0;position: absolute;width: 1px;}#sk-container-id-9 div.sk-estimator {font-family: monospace;background-color: #f0f8ff;border: 1px dotted black;border-radius: 0.25em;box-sizing: border-box;margin-bottom: 0.5em;}#sk-container-id-9 div.sk-estimator:hover {background-color: #d4ebff;}#sk-container-id-9 div.sk-parallel-item::after {content: \"\";width: 100%;border-bottom: 1px solid gray;flex-grow: 1;}#sk-container-id-9 div.sk-label:hover label.sk-toggleable__label {background-color: #d4ebff;}#sk-container-id-9 div.sk-serial::before {content: \"\";position: absolute;border-left: 1px solid gray;box-sizing: border-box;top: 0;bottom: 0;left: 50%;z-index: 0;}#sk-container-id-9 div.sk-serial {display: flex;flex-direction: column;align-items: center;background-color: white;padding-right: 0.2em;padding-left: 0.2em;position: relative;}#sk-container-id-9 div.sk-item {position: relative;z-index: 1;}#sk-container-id-9 div.sk-parallel {display: flex;align-items: stretch;justify-content: center;background-color: white;position: relative;}#sk-container-id-9 div.sk-item::before, #sk-container-id-9 div.sk-parallel-item::before {content: \"\";position: absolute;border-left: 1px solid gray;box-sizing: border-box;top: 0;bottom: 0;left: 50%;z-index: -1;}#sk-container-id-9 div.sk-parallel-item {display: flex;flex-direction: column;z-index: 1;position: relative;background-color: white;}#sk-container-id-9 div.sk-parallel-item:first-child::after {align-self: flex-end;width: 50%;}#sk-container-id-9 div.sk-parallel-item:last-child::after {align-self: flex-start;width: 50%;}#sk-container-id-9 div.sk-parallel-item:only-child::after {width: 0;}#sk-container-id-9 div.sk-dashed-wrapped {border: 1px dashed gray;margin: 0 0.4em 0.5em 0.4em;box-sizing: border-box;padding-bottom: 0.4em;background-color: white;}#sk-container-id-9 div.sk-label label {font-family: monospace;font-weight: bold;display: inline-block;line-height: 1.2em;}#sk-container-id-9 div.sk-label-container {text-align: center;}#sk-container-id-9 div.sk-container {/* jupyter's `normalize.less` sets `[hidden] { display: none; }` but bootstrap.min.css set `[hidden] { display: none !important; }` so we also need the `!important` here to be able to override the default hidden behavior on the sphinx rendered scikit-learn.org. See: https://github.com/scikit-learn/scikit-learn/issues/21755 */display: inline-block !important;position: relative;}#sk-container-id-9 div.sk-text-repr-fallback {display: none;}</style><div id=\"sk-container-id-9\" class=\"sk-top-container\"><div class=\"sk-text-repr-fallback\"><pre>XGBClassifier(base_score=None, booster=None, callbacks=None,\n",
              "              colsample_bylevel=None, colsample_bynode=None,\n",
              "              colsample_bytree=None, device=None, early_stopping_rounds=None,\n",
              "              enable_categorical=False, eval_metric=None, feature_types=None,\n",
              "              gamma=None, grow_policy=None, importance_type=None,\n",
              "              interaction_constraints=None, learning_rate=None, max_bin=None,\n",
              "              max_cat_threshold=None, max_cat_to_onehot=None,\n",
              "              max_delta_step=None, max_depth=None, max_leaves=None,\n",
              "              min_child_weight=None, missing=nan, monotone_constraints=None,\n",
              "              multi_strategy=None, n_estimators=None, n_jobs=None,\n",
              "              num_parallel_tree=None, random_state=27, ...)</pre><b>In a Jupyter environment, please rerun this cell to show the HTML representation or trust the notebook. <br />On GitHub, the HTML representation is unable to render, please try loading this page with nbviewer.org.</b></div><div class=\"sk-container\" hidden><div class=\"sk-item\"><div class=\"sk-estimator sk-toggleable\"><input class=\"sk-toggleable__control sk-hidden--visually\" id=\"sk-estimator-id-9\" type=\"checkbox\" checked><label for=\"sk-estimator-id-9\" class=\"sk-toggleable__label sk-toggleable__label-arrow\">XGBClassifier</label><div class=\"sk-toggleable__content\"><pre>XGBClassifier(base_score=None, booster=None, callbacks=None,\n",
              "              colsample_bylevel=None, colsample_bynode=None,\n",
              "              colsample_bytree=None, device=None, early_stopping_rounds=None,\n",
              "              enable_categorical=False, eval_metric=None, feature_types=None,\n",
              "              gamma=None, grow_policy=None, importance_type=None,\n",
              "              interaction_constraints=None, learning_rate=None, max_bin=None,\n",
              "              max_cat_threshold=None, max_cat_to_onehot=None,\n",
              "              max_delta_step=None, max_depth=None, max_leaves=None,\n",
              "              min_child_weight=None, missing=nan, monotone_constraints=None,\n",
              "              multi_strategy=None, n_estimators=None, n_jobs=None,\n",
              "              num_parallel_tree=None, random_state=27, ...)</pre></div></div></div></div></div>"
            ]
          },
          "metadata": {},
          "execution_count": 51
        }
      ]
    },
    {
      "cell_type": "code",
      "source": [
        "print(\"Training_accuracy_total\", xgb_model4.score(X_test, y_test))\n",
        "print(\"Trainign_accuracy_druggable\", xgb_model4.score(X_test[y_test == 1], y_test[y_test == 1]))\n",
        "print(\"Training_accuracy_non-druggable\", xgb_model4.score(X_test[y_test == 0], y_test[y_test == 0]))\n",
        "\n",
        "print(\"Test_accuracy_total\", xgb_model4.score(X_train, y_train))\n",
        "print(\"Test_accuracy_druggable\", xgb_model4.score(X_train[y_train == 1], y_train[y_train == 1]))\n",
        "print(\"Test_accuracy_non-druggable\", xgb_model4.score(X_train[y_train == 0], y_train[y_train == 0]))"
      ],
      "metadata": {
        "colab": {
          "base_uri": "https://localhost:8080/"
        },
        "id": "LWFPxy-eLOSJ",
        "outputId": "3fd07330-024b-4ff7-f03e-f3168f027fa5"
      },
      "execution_count": 52,
      "outputs": [
        {
          "output_type": "stream",
          "name": "stdout",
          "text": [
            "Training_accuracy_total 1.0\n",
            "Trainign_accuracy_druggable 1.0\n",
            "Training_accuracy_non-druggable 1.0\n",
            "Test_accuracy_total 0.7155665076285849\n",
            "Test_accuracy_druggable 0.723568281938326\n",
            "Test_accuracy_non-druggable 0.7142332864395375\n"
          ]
        }
      ]
    },
    {
      "cell_type": "markdown",
      "source": [
        "### Feature Selection Scores"
      ],
      "metadata": {
        "id": "98IfS5R9Qsd5"
      }
    },
    {
      "cell_type": "code",
      "source": [
        "X_train = np.array(X_train)\n",
        "X_test = np.array(X_test)\n",
        "y_train = np.array(y_train)\n",
        "y_test = np.array(y_test)"
      ],
      "metadata": {
        "id": "wQqhL_jWQv_N"
      },
      "execution_count": 59,
      "outputs": []
    },
    {
      "cell_type": "code",
      "source": [
        "# On entire data\n",
        "X_combined = np.concatenate((X_train, X_test))\n",
        "y_combined = np.concatenate((y_train, y_test))\n",
        "\n",
        "# shuffling\n",
        "X_combined, y_combined = shuffle(X_combined, y_combined, random_state=123)\n",
        "X_combined.shape, y_combined.shape"
      ],
      "metadata": {
        "colab": {
          "base_uri": "https://localhost:8080/"
        },
        "id": "5fuxM6EqQ26B",
        "outputId": "5c73b8ea-4e0d-467b-f6a8-ecdc4ed62d36"
      },
      "execution_count": 74,
      "outputs": [
        {
          "output_type": "execute_result",
          "data": {
            "text/plain": [
              "((20273, 183), (20273,))"
            ]
          },
          "metadata": {},
          "execution_count": 74
        }
      ]
    },
    {
      "cell_type": "code",
      "source": [
        "xgb_model_fs1 = xgb.XGBClassifier(objective='binary:logistic', random_state=27)\n",
        "xgb_model_fs1.fit(X_combined, y_combined)\n",
        "\n",
        "print(\"Accuracy_Total:\", xgb_model_fs1.score(X_combined, y_combined))\n",
        "print(\"Accuracy_Druggable:\", xgb_model_fs1.score(X_combined[y_combined == 1], y_combined[y_combined == 1]))\n",
        "print(\"Accuracy_Non_Druggable\", xgb_model_fs1.score(X_combined[y_combined == 0], y_combined[y_combined == 0]))"
      ],
      "metadata": {
        "colab": {
          "base_uri": "https://localhost:8080/"
        },
        "id": "Ml_t3D49RAoH",
        "outputId": "4f063942-2f19-426e-b0f8-f19aa270ca9e"
      },
      "execution_count": 75,
      "outputs": [
        {
          "output_type": "stream",
          "name": "stdout",
          "text": [
            "Accuracy_Total: 0.9866817935184728\n",
            "Accuracy_Druggable: 0.924187725631769\n",
            "Accuracy_Non_Druggable 0.998937990441914\n"
          ]
        }
      ]
    },
    {
      "cell_type": "code",
      "source": [
        "fs1_scores = xgb_model_fs1.feature_importances_"
      ],
      "metadata": {
        "id": "UuDYA_0PRU4U"
      },
      "execution_count": 76,
      "outputs": []
    },
    {
      "cell_type": "code",
      "source": [
        "### Now we now xgboost is sensitive to skewness"
      ],
      "metadata": {
        "id": "uj8iFCfARgHT"
      },
      "execution_count": 68,
      "outputs": []
    },
    {
      "cell_type": "code",
      "source": [
        "np.bincount(y_combined)"
      ],
      "metadata": {
        "colab": {
          "base_uri": "https://localhost:8080/"
        },
        "id": "xc8MMkCBSDOJ",
        "outputId": "f67b24c1-4ab2-4cad-abac-021a2643f0c1"
      },
      "execution_count": 77,
      "outputs": [
        {
          "output_type": "execute_result",
          "data": {
            "text/plain": [
              "array([16949,  3324])"
            ]
          },
          "metadata": {},
          "execution_count": 77
        }
      ]
    },
    {
      "cell_type": "code",
      "source": [
        "X_combined_druggable = X_combined[y_combined == 1]\n",
        "X_combined_non_druggable = X_combined[y_combined == 0]\n",
        "\n",
        "X_combined_non_druggable_partitions = np.array_split(X_combined_non_druggable, 5)\n",
        "\n",
        "print(\"Number of partitions:\", len(X_combined_non_druggable_partitions))\n",
        "for partition in X_combined_non_druggable_partitions:\n",
        "  print(partition.shape)"
      ],
      "metadata": {
        "colab": {
          "base_uri": "https://localhost:8080/"
        },
        "id": "_zqXTHQHSGmc",
        "outputId": "a4a34937-8742-4495-ee72-8840bf0f2cdb"
      },
      "execution_count": 78,
      "outputs": [
        {
          "output_type": "stream",
          "name": "stdout",
          "text": [
            "Number of partitions: 5\n",
            "(3390, 183)\n",
            "(3390, 183)\n",
            "(3390, 183)\n",
            "(3390, 183)\n",
            "(3389, 183)\n"
          ]
        }
      ]
    },
    {
      "cell_type": "code",
      "source": [
        "xgb_models = []\n",
        "training_metrics = {}\n",
        "for i, partition in enumerate(X_combined_non_druggable_partitions):\n",
        "  X_train_new = np.concatenate((X_combined_druggable, partition))\n",
        "  y_train_new = np.concatenate((np.ones(X_combined_druggable.shape[0]), np.zeros(partition.shape[0])))\n",
        "  X_train_new, y_train_new = shuffle(X_train_new, y_train_new, random_state=123)\n",
        "  xgb_model_fs2 = xgb.XGBClassifier(objective='binary:logistic', random_state=27)\n",
        "  xgb_model_fs2.fit(X_train_new, y_train_new)\n",
        "  xgb_models.append(xgb_model_fs2)\n",
        "\n",
        "  training_metrics[f\"partition_{i}\"] = {\n",
        "      \"accuracy_total\" : xgb_model_fs2.score(X_train_new, y_train_new),\n",
        "      \"accuracy_druggable\": xgb_model_fs2.score(X_train_new[y_train_new == 1], y_train_new[y_train_new == 1]),\n",
        "      \"accuracy_non-druggable\": xgb_model_fs2.score(X_train_new[y_train_new == 0], y_train_new[y_train_new == 0])\n",
        "  }"
      ],
      "metadata": {
        "id": "tiYgaR0FSKEU"
      },
      "execution_count": 80,
      "outputs": []
    },
    {
      "cell_type": "code",
      "source": [
        "test_metrics = {}\n",
        "for i in range(5):\n",
        "  model = xgb_models[i]\n",
        "  remaining_non_druggable_partitions = []\n",
        "  for j in range(5):\n",
        "    if j != i:\n",
        "      remaining_non_druggable_partitions.append(X_combined_non_druggable_partitions[j])\n",
        "  remaining_non_druggable_partitions = np.concatenate(remaining_non_druggable_partitions)\n",
        "  test_metrics[f\"partition_{i}\"] = {\n",
        "      \"accuracy_non_druggable\": model.score(remaining_non_druggable_partitions, np.zeros(remaining_non_druggable_partitions.shape[0]))\n",
        "  }\n"
      ],
      "metadata": {
        "id": "6MXIb0MQTkGM"
      },
      "execution_count": 81,
      "outputs": []
    },
    {
      "cell_type": "code",
      "source": [
        "training_metrics, test_metrics"
      ],
      "metadata": {
        "colab": {
          "base_uri": "https://localhost:8080/"
        },
        "id": "iG1DgqFSUv7q",
        "outputId": "10548832-5ec4-48a8-9366-86ea11ae63b1"
      },
      "execution_count": 84,
      "outputs": [
        {
          "output_type": "execute_result",
          "data": {
            "text/plain": [
              "({'partition_0': {'accuracy_total': 1.0,\n",
              "   'accuracy_druggable': 1.0,\n",
              "   'accuracy_non-druggable': 1.0},\n",
              "  'partition_1': {'accuracy_total': 0.9995531724754245,\n",
              "   'accuracy_druggable': 0.9996991576413959,\n",
              "   'accuracy_non-druggable': 0.9994100294985251},\n",
              "  'partition_2': {'accuracy_total': 0.9997021149836163,\n",
              "   'accuracy_druggable': 0.9996991576413959,\n",
              "   'accuracy_non-druggable': 0.9997050147492625},\n",
              "  'partition_3': {'accuracy_total': 1.0,\n",
              "   'accuracy_druggable': 1.0,\n",
              "   'accuracy_non-druggable': 1.0},\n",
              "  'partition_4': {'accuracy_total': 1.0,\n",
              "   'accuracy_druggable': 1.0,\n",
              "   'accuracy_non-druggable': 1.0}},\n",
              " {'partition_0': {'accuracy_non_druggable': 0.7558079504388229},\n",
              "  'partition_1': {'accuracy_non_druggable': 0.7569879784644885},\n",
              "  'partition_2': {'accuracy_non_druggable': 0.7559554539420311},\n",
              "  'partition_3': {'accuracy_non_druggable': 0.7523416181134301},\n",
              "  'partition_4': {'accuracy_non_druggable': 0.7589970501474926}})"
            ]
          },
          "metadata": {},
          "execution_count": 84
        }
      ]
    },
    {
      "cell_type": "code",
      "source": [
        "def get_dict_form(feature_scores):\n",
        "  return {feature: score for feature, score in zip(features_list, feature_scores)}"
      ],
      "metadata": {
        "id": "SqrDlGc3VTGI"
      },
      "execution_count": 86,
      "outputs": []
    },
    {
      "cell_type": "code",
      "source": [
        "model_fs_scores = {\n",
        "    \"All_Data\": get_dict_form(xgb_model_fs1.feature_importances_),\n",
        "    \"Partition_1\": get_dict_form(xgb_models[0].feature_importances_),\n",
        "    \"Partition_2\": get_dict_form(xgb_models[1].feature_importances_),\n",
        "    \"Partition_3\": get_dict_form(xgb_models[2].feature_importances_),\n",
        "    \"Partition_4\": get_dict_form(xgb_models[3].feature_importances_),\n",
        "    \"Partition_5\": get_dict_form(xgb_models[4].feature_importances_)\n",
        "}"
      ],
      "metadata": {
        "id": "tsMxsmRYUxcz"
      },
      "execution_count": 87,
      "outputs": []
    },
    {
      "cell_type": "code",
      "source": [
        "df = pd.DataFrame(model_fs_scores)\n",
        "df.to_csv(\"fs.csv\")"
      ],
      "metadata": {
        "id": "rzCGK9tnVIcw"
      },
      "execution_count": 90,
      "outputs": []
    },
    {
      "cell_type": "code",
      "source": [],
      "metadata": {
        "id": "c_GmkV7kVfKc"
      },
      "execution_count": null,
      "outputs": []
    }
  ]
}