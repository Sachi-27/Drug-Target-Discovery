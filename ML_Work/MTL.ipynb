{
 "cells": [
  {
   "cell_type": "code",
   "execution_count": 1,
   "metadata": {},
   "outputs": [],
   "source": [
    "import numpy \n",
    "import matplotlib.pyplot as plt\n",
    "import torch\n",
    "import torch.nn as nn\n",
    "import torch.optim as optim\n",
    "import torch.nn.functional as F"
   ]
  },
  {
   "cell_type": "code",
   "execution_count": 3,
   "metadata": {},
   "outputs": [],
   "source": [
    "def NeuralNet(input_feature_size):\n",
    "    model = nn.Sequential(\n",
    "        nn.Linear(input_feature_size, 128),\n",
    "        nn.ReLU(),\n",
    "        nn.Linear(128, 128),\n",
    "        nn.ReLU(),\n",
    "        nn.Linear(128, 64),\n",
    "        nn.ReLU(),\n",
    "        nn.Linear(64, 32),\n",
    "        nn.ReLU(),\n",
    "        nn.Linear(32, 2),\n",
    "        nn.Softmax(dim=1)\n",
    "    )\n",
    "\n",
    "    return model"
   ]
  },
  {
   "cell_type": "code",
   "execution_count": 10,
   "metadata": {},
   "outputs": [
    {
     "data": {
      "text/plain": [
       "((1000, 2), (1000,))"
      ]
     },
     "execution_count": 10,
     "metadata": {},
     "output_type": "execute_result"
    }
   ],
   "source": [
    "# Generate some data which requires us to predict if data corresponds to circle C1 or C2\n",
    "# C1 is a circle with radius 1 and center at (2, 0)\n",
    "# C2 is a circle with radius 1 and center at (-2, 0)\n",
    "def generate_data(n):\n",
    "    data = []\n",
    "    labels = []\n",
    "    while len(data) < n:\n",
    "        x = numpy.random.uniform(-4, 4)\n",
    "        y = numpy.random.uniform(-1, 1)\n",
    "        if (x - 2)**2 + y**2 <= 1:\n",
    "            data.append([x, y])\n",
    "            labels.append(0)\n",
    "        elif (x + 2)**2 + y**2 <= 1:\n",
    "            data.append([x, y])\n",
    "            labels.append(1)\n",
    "    return numpy.array(data), numpy.array(labels)\n",
    "\n",
    "# Generate data\n",
    "data, labels = generate_data(1000)\n",
    "data.shape, labels.shape"
   ]
  },
  {
   "cell_type": "code",
   "execution_count": 11,
   "metadata": {},
   "outputs": [],
   "source": [
    "# one hot encode labels\n",
    "labels_one_hot = numpy.eye(2)[labels]"
   ]
  },
  {
   "cell_type": "code",
   "execution_count": 12,
   "metadata": {},
   "outputs": [
    {
     "data": {
      "text/plain": [
       "(array([0, 0, 1, 0, 0]),\n",
       " array([[1., 0.],\n",
       "        [1., 0.],\n",
       "        [0., 1.],\n",
       "        [1., 0.],\n",
       "        [1., 0.]]))"
      ]
     },
     "execution_count": 12,
     "metadata": {},
     "output_type": "execute_result"
    }
   ],
   "source": [
    "labels[:5], labels_one_hot[:5]"
   ]
  },
  {
   "cell_type": "code",
   "execution_count": 13,
   "metadata": {},
   "outputs": [
    {
     "data": {
      "text/plain": [
       "((800, 2), (800, 2), (200, 2), (200, 2))"
      ]
     },
     "execution_count": 13,
     "metadata": {},
     "output_type": "execute_result"
    }
   ],
   "source": [
    "# Split data into training and test sets\n",
    "train_data = data[:800]\n",
    "train_labels = labels_one_hot[:800]\n",
    "test_data = data[800:]\n",
    "test_labels = labels_one_hot[800:]\n",
    "\n",
    "train_data.shape, train_labels.shape, test_data.shape, test_labels.shape"
   ]
  },
  {
   "cell_type": "code",
   "execution_count": null,
   "metadata": {},
   "outputs": [],
   "source": []
  },
  {
   "cell_type": "code",
   "execution_count": 72,
   "metadata": {},
   "outputs": [
    {
     "ename": "AttributeError",
     "evalue": "'Tensor' object has no attribute 'DataLoader'",
     "output_type": "error",
     "traceback": [
      "\u001b[0;31m---------------------------------------------------------------------------\u001b[0m",
      "\u001b[0;31mAttributeError\u001b[0m                            Traceback (most recent call last)",
      "Cell \u001b[0;32mIn[72], line 16\u001b[0m\n\u001b[1;32m     13\u001b[0m test_dataset \u001b[38;5;241m=\u001b[39m CircleDataset(test_data, test_labels)\n\u001b[1;32m     15\u001b[0m \u001b[38;5;66;03m# Create a dataloader\u001b[39;00m\n\u001b[0;32m---> 16\u001b[0m train_loader \u001b[38;5;241m=\u001b[39m data\u001b[38;5;241m.\u001b[39mDataLoader(train_dataset, batch_size\u001b[38;5;241m=\u001b[39m\u001b[38;5;241m32\u001b[39m, shuffle\u001b[38;5;241m=\u001b[39m\u001b[38;5;28;01mTrue\u001b[39;00m)\n\u001b[1;32m     17\u001b[0m test_loader \u001b[38;5;241m=\u001b[39m data\u001b[38;5;241m.\u001b[39mDataLoader(test_dataset, batch_size\u001b[38;5;241m=\u001b[39m\u001b[38;5;241m32\u001b[39m, shuffle\u001b[38;5;241m=\u001b[39m\u001b[38;5;28;01mFalse\u001b[39;00m)\n",
      "\u001b[0;31mAttributeError\u001b[0m: 'Tensor' object has no attribute 'DataLoader'"
     ]
    }
   ],
   "source": [
    "class CircleDataset(torch.utils.data.Dataset):\n",
    "    def __init__(self, data, labels):\n",
    "        self.data = data\n",
    "        self.labels = labels\n",
    "\n",
    "    def __len__(self):\n",
    "        return len(self.data)\n",
    "\n",
    "    def __getitem__(self, index):\n",
    "        return self.data[index], self.labels[index]\n",
    "    \n",
    "train_dataset = CircleDataset(train_data, train_labels)\n",
    "test_dataset = CircleDataset(test_data, test_labels)\n",
    "\n",
    "# Create a dataloader\n",
    "train_loader = data.DataLoader(train_dataset, batch_size=32, shuffle=True)\n",
    "test_loader = data.DataLoader(test_dataset, batch_size=32, shuffle=False)"
   ]
  },
  {
   "cell_type": "code",
   "execution_count": null,
   "metadata": {},
   "outputs": [],
   "source": [
    "def train(model, optimizer, criterion, train_loader, test_loader, num_epochs, verbose=True, to_plot=False):\n",
    "    train_losses = []\n",
    "    test_losses = []\n",
    "    for epoch in range(num_epochs):\n",
    "        model.train()\n",
    "        train_loss = 0\n",
    "        for data, labels in train_loader:\n",
    "            optimizer.zero_grad()\n",
    "            output = model(data.float())\n",
    "            loss = criterion(output, labels.float())\n",
    "            loss.backward()\n",
    "            optimizer.step()\n",
    "            train_loss += loss.item()\n",
    "        train_losses.append(train_loss / len(train_loader))\n",
    "\n",
    "        model.eval()\n",
    "        test_loss = 0\n",
    "        with torch.no_grad():\n",
    "            for data, labels in test_loader:\n",
    "                output = model(data.float())\n",
    "                loss = criterion(output, labels.float())\n",
    "                test_loss += loss.item()\n",
    "            test_losses.append(test_loss / len(test_loader))\n",
    "\n",
    "        if(verbose): print(f'Epoch {epoch+1}/{num_epochs}, Train Loss: {train_losses[-1]:.4f}, Test Loss: {test_losses[-1]:.4f}')\n",
    "    if(to_plot):\n",
    "        plt.plot(train_losses, label='Train Loss')\n",
    "        plt.plot(test_losses, label='Test Loss')\n",
    "        plt.legend()\n",
    "        plt.show()\n",
    "\n",
    "    return train_losses, test_losses"
   ]
  },
  {
   "cell_type": "code",
   "execution_count": null,
   "metadata": {},
   "outputs": [
    {
     "name": "stdout",
     "output_type": "stream",
     "text": [
      "Epoch 1/5, Train Loss: 0.3826, Test Loss: 0.0541\n",
      "Epoch 2/5, Train Loss: 0.0086, Test Loss: 0.0003\n",
      "Epoch 3/5, Train Loss: 0.0001, Test Loss: 0.0001\n",
      "Epoch 4/5, Train Loss: 0.0001, Test Loss: 0.0001\n",
      "Epoch 5/5, Train Loss: 0.0001, Test Loss: 0.0001\n"
     ]
    },
    {
     "data": {
      "image/png": "[encoded data removed]",
      "text/plain": [
       "<Figure size 640x480 with 1 Axes>"
      ]
     },
     "metadata": {},
     "output_type": "display_data"
    }
   ],
   "source": [
    "model = NeuralNet(2)\n",
    "optimizer = optim.Adam(model.parameters(), lr=0.001)\n",
    "criterion = nn.BCELoss()\n",
    "num_epochs = 5\n",
    "trainlosses, testlosses = train(model, optimizer, criterion, train_loader, test_loader, num_epochs, verbose=True, to_plot=True)"
   ]
  },
  {
   "cell_type": "code",
   "execution_count": null,
   "metadata": {},
   "outputs": [
    {
     "name": "stdout",
     "output_type": "stream",
     "text": [
      "Epoch 1/5, Train Loss: 14.1232, Test Loss: 1.4913\n",
      "Epoch 2/5, Train Loss: 0.2705, Test Loss: 0.0066\n",
      "Epoch 3/5, Train Loss: 0.0033, Test Loss: 0.0023\n",
      "Epoch 4/5, Train Loss: 0.0018, Test Loss: 0.0017\n",
      "Epoch 5/5, Train Loss: 0.0015, Test Loss: 0.0014\n"
     ]
    },
    {
     "data": {
      "image/png": "[encoded data removed]",
      "text/plain": [
       "<Figure size 640x480 with 1 Axes>"
      ]
     },
     "metadata": {},
     "output_type": "display_data"
    }
   ],
   "source": [
    "model = NeuralNet(2)\n",
    "optimizer = optim.Adam(model.parameters(), lr=0.001)\n",
    "# Custom loss function\n",
    "def custom_loss(output, target):\n",
    "    return -torch.sum(target * torch.log(output))\n",
    "num_epochs = 5\n",
    "trainlosses, testlosses = train(model, optimizer, custom_loss, train_loader, test_loader, num_epochs, verbose=True, to_plot=True)"
   ]
  },
  {
   "cell_type": "code",
   "execution_count": null,
   "metadata": {},
   "outputs": [
    {
     "name": "stdout",
     "output_type": "stream",
     "text": [
      "Epoch 1/2, Train Loss: 0.4036, Test Loss: 0.1558\n",
      "Epoch 2/2, Train Loss: 0.0351, Test Loss: 0.0007\n",
      "Epoch 1/2, Train Loss: 0.0000, Test Loss: 0.0000\n",
      "Epoch 2/2, Train Loss: 0.0000, Test Loss: 0.0000\n",
      "Epoch 1/2, Train Loss: 0.0001, Test Loss: 0.0001\n",
      "Epoch 2/2, Train Loss: 0.0001, Test Loss: 0.0001\n",
      "Epoch 1/2, Train Loss: 0.0000, Test Loss: 0.0000\n",
      "Epoch 2/2, Train Loss: 0.0000, Test Loss: 0.0000\n",
      "Epoch 1/2, Train Loss: 0.0001, Test Loss: 0.0001\n",
      "Epoch 2/2, Train Loss: 0.0001, Test Loss: 0.0001\n"
     ]
    }
   ],
   "source": [
    "# I plan to train two different objectives on the same data and model, each for 2 epochs alternatively\n",
    "model = NeuralNet(2)\n",
    "optimizer = optim.Adam(model.parameters(), lr=0.001)\n",
    "criterion1 = nn.BCELoss()\n",
    "criterion2 = nn.MSELoss()\n",
    "num_epochs = 2\n",
    "for i in range(5):\n",
    "    if i % 2 == 0:\n",
    "        train(model, optimizer, criterion1, train_loader, test_loader, num_epochs, verbose=True, to_plot=False)\n",
    "    else:\n",
    "        train(model, optimizer, criterion2, train_loader, test_loader, num_epochs, verbose=True, to_plot=False)"
   ]
  },
  {
   "cell_type": "code",
   "execution_count": null,
   "metadata": {},
   "outputs": [],
   "source": [
    "# Now an essential modification is I want to do Multi Task Learning\n",
    "# One would be the same to predict the circle\n",
    "# Another would be to predict the distance between the two circles\n",
    "# For the second task, the model has two parallel branches, one for each task\n",
    "# In the backprop step, the common layers are updated by both\n",
    "# The task-specific layers are updated by the corresponding task\n",
    "\n",
    "\n",
    "model1 = nn.Sequential(\n",
    "    nn.Linear(2, 128),\n",
    "    nn.ReLU(),\n",
    "    nn.Linear(128, 128),\n",
    "    nn.ReLU(),\n",
    "    nn.Linear(128, 64),\n",
    "    nn.ReLU(),\n",
    "    nn.Linear(64, 32),\n",
    "    nn.ReLU(),\n",
    ")\n",
    "model2 = nn.Sequential(\n",
    "    nn.Linear(2, 128),\n",
    "    nn.ReLU(),\n",
    "    nn.Linear(128, 128),\n",
    "    nn.ReLU(),\n",
    "    nn.Linear(128, 64),\n",
    "    nn.ReLU(),\n",
    "    nn.Linear(64, 32),\n",
    "    nn.ReLU(),\n",
    ")\n",
    "task1_header = nn.Linear(32, 2)\n",
    "task2_header = nn.Linear(64, 1)"
   ]
  },
  {
   "cell_type": "code",
   "execution_count": null,
   "metadata": {},
   "outputs": [],
   "source": [
    "# I want to train on a parallel task which involves some of the layers of the model defined above\n",
    "# The task is predicting the distanc between two given points\n",
    "# We will take embeddings of the two points and concatenate them to predict the distance\n",
    "# In this case, both embeddings are generated using the same model, then to update the model, we need to backpropagate the loss from the distance prediction task\n",
    "\n",
    "class Combined_Model(nn.Module):\n",
    "    def __init__(self, model1, model2, task2_header):\n",
    "        super(Combined_Model, self).__init__()\n",
    "        self.model1 = model1\n",
    "        self.model2 = model2\n",
    "        self.task2_header = task2_header\n",
    "\n",
    "    # Define manually the forward pass\n",
    "    def forward(self, x1,x2):\n",
    "        x1 = self.model1(x1.float())\n",
    "        x2 = self.model2(x2.float())\n",
    "        # Concatenate the embeddings\n",
    "        x = torch.cat([x1, x2], dim=1)\n",
    "        x = self.task2_header(x)\n",
    "        return x\n",
    "    \n",
    "    def get_models(self):\n",
    "        return self.model1, self.model2, self.task2_header\n",
    "\n",
    "combined_m = Combined_Model(model1, model2, task2_header)\n"
   ]
  },
  {
   "cell_type": "code",
   "execution_count": null,
   "metadata": {},
   "outputs": [
    {
     "name": "stdout",
     "output_type": "stream",
     "text": [
      "torch.Size([32, 2]) torch.Size([32, 2]) torch.Size([32, 1])\n"
     ]
    }
   ],
   "source": [
    "# random data\n",
    "data1 = torch.randn(32, 2)\n",
    "data2 = torch.randn(32, 2)\n",
    "distances = torch.norm(data1 - data2, dim=1).unsqueeze(1)\n",
    "print(data1.shape, data2.shape, distances.shape)"
   ]
  },
  {
   "cell_type": "code",
   "execution_count": 73,
   "metadata": {},
   "outputs": [],
   "source": [
    "criterion = nn.MSELoss()\n",
    "optimizer = optim.Adam(combined_m.parameters(), lr=0.001)\n",
    "for i in range(5):\n",
    "    optimizer.zero_grad()\n",
    "    output = combined_m(data1, data2)\n",
    "    loss = criterion(output, distances.float())\n",
    "    loss.backward()\n",
    "    optimizer.step()"
   ]
  },
  {
   "cell_type": "code",
   "execution_count": 74,
   "metadata": {},
   "outputs": [],
   "source": [
    "model1, model2, task2_header = combined_m.get_models()"
   ]
  },
  {
   "cell_type": "code",
   "execution_count": 93,
   "metadata": {},
   "outputs": [
    {
     "data": {
      "text/plain": [
       "(tensor([-0.0207,  0.0053,  0.0024,  0.0023,  0.0148, -0.1160,  0.0161,  0.0135,\n",
       "          0.0003,  0.0183, -0.0750,  0.0027, -0.0053, -0.0340,  0.0174, -0.0900,\n",
       "          0.0848,  0.0198,  0.0050, -0.0304, -0.0315,  0.0592, -0.0180, -0.0790,\n",
       "         -0.0951, -0.0455,  0.1173,  0.0209, -0.0192,  0.0686,  0.0820, -0.0252]),\n",
       " tensor([-0.0168, -0.0056, -0.0321, -0.0461, -0.0263, -0.1242,  0.0330,  0.0839,\n",
       "          0.0520, -0.0891, -0.1058,  0.0136, -0.1121, -0.0138, -0.0153, -0.0832,\n",
       "          0.1009, -0.0830, -0.0630,  0.0014, -0.1149,  0.0656,  0.0792, -0.0843,\n",
       "         -0.0712, -0.0722,  0.1068,  0.0988, -0.1116,  0.1110,  0.0548,  0.0742]),\n",
       " tensor([-0.0247,  0.0162,  0.0369,  0.0507,  0.0560, -0.1078, -0.0008, -0.0570,\n",
       "         -0.0515,  0.1257, -0.0441, -0.0083,  0.1016, -0.0543,  0.0502, -0.0967,\n",
       "          0.0687,  0.1225,  0.0729, -0.0621,  0.0519,  0.0527, -0.1151, -0.0738,\n",
       "         -0.1191, -0.0189,  0.1278, -0.0569,  0.0733,  0.0261,  0.1092, -0.1247]))"
      ]
     },
     "execution_count": 93,
     "metadata": {},
     "output_type": "execute_result"
    }
   ],
   "source": [
    "(model1.state_dict()['6.bias'] + model2.state_dict()['6.bias'])/2, model1.state_dict()['6.bias'], model2.state_dict()['6.bias']"
   ]
  },
  {
   "cell_type": "code",
   "execution_count": 95,
   "metadata": {},
   "outputs": [],
   "source": [
    "from copy import deepcopy\n",
    "new_model = deepcopy(model1)\n",
    "# Iterate through each parameter of the models and compute mean\n",
    "for param_new, (param_model1, param_model2) in zip(new_model.parameters(), zip(model1.parameters(), model2.parameters())):\n",
    "    param_new.data.copy_((param_model1.data + param_model2.data) / 2)"
   ]
  },
  {
   "cell_type": "code",
   "execution_count": 96,
   "metadata": {},
   "outputs": [
    {
     "data": {
      "text/plain": [
       "tensor([-0.0207,  0.0053,  0.0024,  0.0023,  0.0148, -0.1160,  0.0161,  0.0135,\n",
       "         0.0003,  0.0183, -0.0750,  0.0027, -0.0053, -0.0340,  0.0174, -0.0900,\n",
       "         0.0848,  0.0198,  0.0050, -0.0304, -0.0315,  0.0592, -0.0180, -0.0790,\n",
       "        -0.0951, -0.0455,  0.1173,  0.0209, -0.0192,  0.0686,  0.0820, -0.0252])"
      ]
     },
     "execution_count": 96,
     "metadata": {},
     "output_type": "execute_result"
    }
   ],
   "source": [
    "new_model.state_dict()['6.bias']"
   ]
  },
  {
   "cell_type": "markdown",
   "metadata": {},
   "source": [
    "#### MUTLI TASK LEARNING"
   ]
  },
  {
   "cell_type": "code",
   "execution_count": 49,
   "metadata": {},
   "outputs": [
    {
     "data": {
      "text/plain": [
       "((1000, 2), (1000,))"
      ]
     },
     "execution_count": 49,
     "metadata": {},
     "output_type": "execute_result"
    }
   ],
   "source": [
    "# Data for the two tasks\n",
    "# Generate some data which requires us to predict if data corresponds to circle C1 or C2\n",
    "# C1 is a circle with radius 1 and center at (2, 0)\n",
    "# C2 is a circle with radius 1 and center at (-2, 0)\n",
    "def generate_data(n):\n",
    "    data = []\n",
    "    labels = []\n",
    "    while len(data) < n:\n",
    "        x = numpy.random.uniform(-4, 4)\n",
    "        y = numpy.random.uniform(-1, 1)\n",
    "        if (x - 2)**2 + y**2 <= 1:\n",
    "            data.append([x, y])\n",
    "            labels.append(0)\n",
    "        elif (x + 2)**2 + y**2 <= 1:\n",
    "            data.append([x, y])\n",
    "            labels.append(1)\n",
    "    return numpy.array(data), numpy.array(labels)\n",
    "\n",
    "# Generate data\n",
    "data_task1, labels_task1 = generate_data(1000)\n",
    "data_task1.shape, labels_task1.shape\n"
   ]
  },
  {
   "cell_type": "code",
   "execution_count": 50,
   "metadata": {},
   "outputs": [
    {
     "data": {
      "text/plain": [
       "(1000, 2)"
      ]
     },
     "execution_count": 50,
     "metadata": {},
     "output_type": "execute_result"
    }
   ],
   "source": [
    "import numpy as np \n",
    "labels = np.eye(2)[labels_task1]\n",
    "labels.shape"
   ]
  },
  {
   "cell_type": "code",
   "execution_count": 51,
   "metadata": {},
   "outputs": [
    {
     "data": {
      "text/plain": [
       "((1000, 2), (1000, 2), (1000,))"
      ]
     },
     "execution_count": 51,
     "metadata": {},
     "output_type": "execute_result"
    }
   ],
   "source": [
    "# Choose data2 as a zip of 2 random points in the data_task1\n",
    "data1_task2 = []\n",
    "data2_task2 = []\n",
    "output_task2 = []\n",
    "for i in range(1000):\n",
    "    data1_task2.append(data_task1[i])\n",
    "    data2_task2.append(data_task1[numpy.random.randint(0, 1000)])\n",
    "    output_task2.append(numpy.linalg.norm(data1_task2[-1] - data2_task2[-1]))\n",
    "data1_task2 = numpy.array(data1_task2)\n",
    "data2_task2 = numpy.array(data2_task2)\n",
    "output_task2 = numpy.array(output_task2)\n",
    "\n",
    "data1_task2.shape, data2_task2.shape, output_task2.shape"
   ]
  },
  {
   "cell_type": "code",
   "execution_count": 52,
   "metadata": {},
   "outputs": [
    {
     "data": {
      "text/plain": [
       "((800, 2),\n",
       " (800, 2),\n",
       " (200, 2),\n",
       " (200, 2),\n",
       " (800, 2),\n",
       " (800, 2),\n",
       " (800,),\n",
       " (200, 2),\n",
       " (200, 2),\n",
       " (200,))"
      ]
     },
     "execution_count": 52,
     "metadata": {},
     "output_type": "execute_result"
    }
   ],
   "source": [
    "train_data_task1 = data_task1[:800]\n",
    "train_labels_task1 = labels_one_hot[:800]\n",
    "test_data_task1 = data_task1[800:]\n",
    "test_labels_task1 = labels_one_hot[800:]\n",
    "\n",
    "train_data1_task2 = data1_task2[:800]\n",
    "train_data2_task2 = data2_task2[:800]\n",
    "train_output_task2 = output_task2[:800]\n",
    "test_data1_task2 = data1_task2[800:]\n",
    "test_data2_task2 = data2_task2[800:]\n",
    "test_output_task2 = output_task2[800:]\n",
    "\n",
    "train_data_task1.shape, train_labels_task1.shape, test_data_task1.shape, test_labels_task1.shape, train_data1_task2.shape, train_data2_task2.shape, train_output_task2.shape, test_data1_task2.shape, test_data2_task2.shape, test_output_task2.shape"
   ]
  },
  {
   "cell_type": "code",
   "execution_count": 53,
   "metadata": {},
   "outputs": [],
   "source": [
    "class CircleDataset(torch.utils.data.Dataset):\n",
    "    def __init__(self, data, labels):\n",
    "        self.data = data\n",
    "        self.labels = labels\n",
    "\n",
    "    def __len__(self):\n",
    "        return len(self.data)\n",
    "\n",
    "    def __getitem__(self, index):\n",
    "        return self.data[index], self.labels[index]"
   ]
  },
  {
   "cell_type": "code",
   "execution_count": 54,
   "metadata": {},
   "outputs": [],
   "source": [
    "class DistanceDataset(torch.utils.data.Dataset):\n",
    "    def __init__(self, data1, data2, output):\n",
    "        self.data1 = data1\n",
    "        self.data2 = data2\n",
    "        self.output = output\n",
    "\n",
    "    def __len__(self):\n",
    "        return len(self.data1)\n",
    "    \n",
    "    def __getitem__(self, index):\n",
    "        return self.data1[index], self.data2[index], self.output[index]"
   ]
  },
  {
   "cell_type": "code",
   "execution_count": 55,
   "metadata": {},
   "outputs": [],
   "source": [
    "trainloader_task1 = torch.utils.data.DataLoader(CircleDataset(train_data_task1, train_labels_task1), batch_size=32, shuffle=True)\n",
    "testloader_task1 = torch.utils.data.DataLoader(CircleDataset(test_data_task1, test_labels_task1), batch_size=32, shuffle=False)\n",
    "\n",
    "trainloader_task2 = torch.utils.data.DataLoader(DistanceDataset(train_data1_task2, train_data2_task2, train_output_task2), batch_size=32, shuffle=True)\n",
    "testloader_task2 = torch.utils.data.DataLoader(DistanceDataset(test_data1_task2, test_data2_task2, test_output_task2), batch_size=32, shuffle=False)"
   ]
  },
  {
   "cell_type": "code",
   "execution_count": 31,
   "metadata": {},
   "outputs": [],
   "source": [
    "from copy import deepcopy\n",
    "class Task1_Model:\n",
    "    def __init__(self, model1, task1_header):\n",
    "        self.model1 = deepcopy(model1)\n",
    "        self.task1_header = deepcopy(task1_header)\n",
    "\n",
    "    def forward(self, x):\n",
    "        x = self.model1(x.float())\n",
    "        x = self.task1_header(x)\n",
    "        return x\n",
    "\n",
    "    def get_model(self):\n",
    "        return nn.Sequential(self.model1, self.task1_header)\n",
    "    \n",
    "class Task2_Model:\n",
    "    def __init__(self, model2, task2_header):\n",
    "        self.model1 = deepcopy(model2)\n",
    "        self.model2 = deepcopy(model2)\n",
    "        self.task2_header = deepcopy(task2_header)\n",
    "\n",
    "    def forward(self, x1, x2):\n",
    "        x1 = self.model1(x1.float())\n",
    "        x2 = self.model2(x2.float())\n",
    "        # concatenate the embeddings\n",
    "        x = torch.cat([x1, x2], dim=1)\n",
    "        x = self.task2_header(x)\n",
    "        return x\n",
    "    \n",
    "    def get_model(self):\n",
    "        return "
   ]
  },
  {
   "cell_type": "code",
   "execution_count": 35,
   "metadata": {},
   "outputs": [],
   "source": [
    "def train_task1(model, optimizer, criterion, train_loader, test_loader, num_epochs, verbose=True):\n",
    "    train_losses = []\n",
    "    test_losses = []\n",
    "    for epoch in range(num_epochs):\n",
    "        model.train()\n",
    "        task1_header.train()\n",
    "        train_loss = 0\n",
    "        for data, labels in train_loader:\n",
    "            optimizer.zero_grad()\n",
    "            output = model(data.float())\n",
    "            loss = criterion(output, labels.float())\n",
    "            loss.backward()\n",
    "            optimizer.step()\n",
    "            train_loss += loss.item()\n",
    "        train_losses.append(train_loss / len(train_loader))\n",
    "\n",
    "        model.eval()\n",
    "        task1_header.eval()\n",
    "        test_loss = 0\n",
    "        with torch.no_grad():\n",
    "            for data, labels in test_loader:\n",
    "                output = model(data.float())\n",
    "                loss = criterion(output, labels.float())\n",
    "                test_loss += loss.item()\n",
    "            test_losses.append(test_loss / len(test_loader))\n",
    "\n",
    "        if(verbose): print(f'Epoch {epoch+1}/{num_epochs}, Train Loss: {train_losses[-1]:.4f}, Test Loss: {test_losses[-1]:.4f}')\n",
    "\n",
    "    return model.model, model.task1_header"
   ]
  },
  {
   "cell_type": "code",
   "execution_count": 36,
   "metadata": {},
   "outputs": [],
   "source": [
    "def train_task2(model, optimizer, criterion, train_loader, test_loader, num_epochs, verbose=True):\n",
    "    train_losses = []\n",
    "    test_losses = []\n",
    "    for epoch in range(num_epochs):\n",
    "        model.train()\n",
    "        train_loss = 0\n",
    "        for data1, data2, distances in train_loader:\n",
    "            optimizer.zero_grad()\n",
    "            output = model(data1, data2)\n",
    "            loss = criterion(output, distances.float())\n",
    "            loss.backward()\n",
    "            optimizer.step() # this updates the mode\n",
    "            train_loss += loss.item()\n",
    "        train_losses.append(train_loss / len(train_loader))\n",
    "\n",
    "        model.eval()\n",
    "        test_loss = 0\n",
    "        with torch.no_grad():\n",
    "            for data1, data2, distances in test_loader:\n",
    "                output = model(data1, data2)\n",
    "                loss = criterion(output, distances.float())\n",
    "                test_loss += loss.item()\n",
    "            test_losses.append(test_loss / len(test_loader))\n",
    "\n",
    "        if(verbose): print(f'Epoch {epoch+1}/{num_epochs}, Train Loss: {train_losses[-1]:.4f}, Test Loss: {test_losses[-1]:.4f}')\n",
    "    \n",
    "    return model.model1, model.model2, model.task2_header"
   ]
  },
  {
   "cell_type": "code",
   "execution_count": 57,
   "metadata": {},
   "outputs": [],
   "source": [
    "def get_models():\n",
    "    model = nn.Sequential(\n",
    "        nn.Linear(2, 128),\n",
    "        nn.ReLU(),\n",
    "        nn.Linear(128, 128),\n",
    "        nn.ReLU(),\n",
    "        nn.Linear(128, 64),\n",
    "        nn.ReLU(),\n",
    "        nn.Linear(64, 32),\n",
    "        nn.ReLU(),\n",
    "    )\n",
    "    task1_header = nn.Sequential(\n",
    "        nn.Linear(32, 2),\n",
    "        nn.Softmax(dim=1)\n",
    "    )\n",
    "    task2_header = nn.Linear(64, 1)\n",
    "\n",
    "    return model, task1_header, task2_header"
   ]
  },
  {
   "cell_type": "code",
   "execution_count": 63,
   "metadata": {},
   "outputs": [
    {
     "name": "stdout",
     "output_type": "stream",
     "text": [
      "Training Task 1\n",
      "Epoch 1/3, Train Loss: 0.6962, Test Loss: 0.6928\n",
      "Epoch 2/3, Train Loss: 0.6932, Test Loss: 0.6936\n",
      "Epoch 3/3, Train Loss: 0.6928, Test Loss: 0.6956\n"
     ]
    }
   ],
   "source": [
    "model, task1_header, task2_header = get_models()\n",
    "for i in range(1):\n",
    "    print(\"Training Task 1\")\n",
    "    new_model = nn.Sequential(\n",
    "        model,\n",
    "        task1_header\n",
    "    )\n",
    "    optimizer_model = optim.Adam(new_model.parameters(), lr=0.001)\n",
    "    criterion = nn.BCELoss()\n",
    "    for epoch in range(3):\n",
    "        new_model.train()\n",
    "        train_loss = 0\n",
    "        for data, labels in trainloader_task1:\n",
    "            optimizer_model.zero_grad()\n",
    "            output = new_model(data.float())\n",
    "            loss = criterion(output, labels.float())\n",
    "            loss.backward() \n",
    "            optimizer_model.step()\n",
    "            train_loss += loss.item()\n",
    "        \n",
    "        new_model.eval()\n",
    "        test_loss = 0\n",
    "        for data, labels in testloader_task1:\n",
    "            output = new_model(data.float())\n",
    "            loss = criterion(output, labels.float())\n",
    "            test_loss += loss.item()\n",
    "\n",
    "        model = deepcopy(new_model[0])\n",
    "        task1_header = deepcopy(new_model[1])\n",
    "        \n",
    "        print(f'Epoch {epoch+1}/3, Train Loss: {train_loss / len(trainloader_task1):.4f}, Test Loss: {test_loss / len(testloader_task1):.4f}')\n",
    "\n",
    "\n",
    "    # task1_model = Task1_Model(model, task1_header)\n",
    "    # optimizer = optim.Adam(task1_model.get_model(), lr=0.001)\n",
    "    # criterion = nn.BCELoss()\n",
    "    # model, task1_header = train_task1(task1_model, optimizer, criterion, trainloader_task1, testloader_task1, 2, verbose=True)\n",
    "\n",
    "    # print(\"Training Task 2\")\n",
    "    # task2_model = Task2_Model(model, task2_header)\n",
    "    # optimizer = optim.Adam(task2_model.get_model(), lr=0.001)\n",
    "    # criterion = nn.MSELoss()\n",
    "    # model1, model2, task2_header = train_task2(task2_model, optimizer, criterion, trainloader_task2, testloader_task2, 2, verbose=True)\n",
    "\n",
    "    # newmodel = deepcopy(model1)\n",
    "    # for param_new, (param_model1, param_model2) in zip(new_model.parameters(), zip(model1.parameters(), model2.parameters())):\n",
    "    #     param_new.data.copy_((param_model1.data + param_model2.data) / 2)\n",
    "\n",
    "    # model = deepcopy(newmodel)\n",
    "    "
   ]
  },
  {
   "cell_type": "code",
   "execution_count": null,
   "metadata": {},
   "outputs": [],
   "source": []
  }
 ],
 "metadata": {
  "kernelspec": {
   "display_name": "base",
   "language": "python",
   "name": "python3"
  },
  "language_info": {
   "codemirror_mode": {
    "name": "ipython",
    "version": 3
   },
   "file_extension": ".py",
   "mimetype": "text/x-python",
   "name": "python",
   "nbconvert_exporter": "python",
   "pygments_lexer": "ipython3",
   "version": "3.11.4"
  }
 },
 "nbformat": 4,
 "nbformat_minor": 2
}
